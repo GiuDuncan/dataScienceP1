{
 "cells": [
  {
   "cell_type": "markdown",
   "metadata": {
    "collapsed": true
   },
   "source": [
    "# T1.3"
   ]
  },
  {
   "cell_type": "markdown",
   "metadata": {},
   "source": [
    "## Integrantes:\n",
    "\n",
    "* Giulia Duncan Coutinho - 1410398\n",
    "* Matheus Falcão - 1410962\n",
    "* Igor Vieira - 1410492"
   ]
  },
  {
   "cell_type": "code",
   "execution_count": null,
   "metadata": {
    "collapsed": true
   },
   "outputs": [],
   "source": []
  },
  {
   "cell_type": "markdown",
   "metadata": {},
   "source": [
    "Enunciado: A partir de dados de pobreza e de educação, criem alguns modelos de regressão linear (variando as features) para tentar prever a população carcerária de cada país. Avaliem os modelos e indique qual foi o melhor."
   ]
  },
  {
   "cell_type": "code",
   "execution_count": 1,
   "metadata": {
    "collapsed": true
   },
   "outputs": [],
   "source": [
    "from IPython.display import display, Markdown, Latex\n",
    "import matplotlib\n",
    "import matplotlib.pyplot as plt\n",
    "import pandas as pd\n",
    "from sklearn.linear_model import LinearRegression\n",
    "import numpy as np"
   ]
  },
  {
   "cell_type": "markdown",
   "metadata": {},
   "source": [
    "## Desigualdade"
   ]
  },
  {
   "cell_type": "code",
   "execution_count": 2,
   "metadata": {
    "collapsed": false
   },
   "outputs": [
    {
     "data": {
      "text/html": [
       "<div>\n",
       "<table border=\"1\" class=\"dataframe\">\n",
       "  <thead>\n",
       "    <tr style=\"text-align: right;\">\n",
       "      <th></th>\n",
       "      <th>2010</th>\n",
       "      <th>2011</th>\n",
       "      <th>2012</th>\n",
       "      <th>2013</th>\n",
       "      <th>2014</th>\n",
       "      <th>2015</th>\n",
       "      <th>2016</th>\n",
       "      <th>2017</th>\n",
       "    </tr>\n",
       "    <tr>\n",
       "      <th>Country</th>\n",
       "      <th></th>\n",
       "      <th></th>\n",
       "      <th></th>\n",
       "      <th></th>\n",
       "      <th></th>\n",
       "      <th></th>\n",
       "      <th></th>\n",
       "      <th></th>\n",
       "    </tr>\n",
       "  </thead>\n",
       "  <tbody>\n",
       "    <tr>\n",
       "      <th>Afghanistan</th>\n",
       "      <td>NaN</td>\n",
       "      <td>NaN</td>\n",
       "      <td>NaN</td>\n",
       "      <td>30.0</td>\n",
       "      <td>30.0</td>\n",
       "      <td>30.4</td>\n",
       "      <td>28.2</td>\n",
       "      <td>28.2</td>\n",
       "    </tr>\n",
       "    <tr>\n",
       "      <th>Albania</th>\n",
       "      <td>12.7</td>\n",
       "      <td>13.8</td>\n",
       "      <td>13.8</td>\n",
       "      <td>13.4</td>\n",
       "      <td>13.4</td>\n",
       "      <td>13.4</td>\n",
       "      <td>12.2</td>\n",
       "      <td>10.0</td>\n",
       "    </tr>\n",
       "    <tr>\n",
       "      <th>Algeria</th>\n",
       "      <td>NaN</td>\n",
       "      <td>NaN</td>\n",
       "      <td>NaN</td>\n",
       "      <td>NaN</td>\n",
       "      <td>NaN</td>\n",
       "      <td>NaN</td>\n",
       "      <td>NaN</td>\n",
       "      <td>20.1</td>\n",
       "    </tr>\n",
       "    <tr>\n",
       "      <th>Angola</th>\n",
       "      <td>38.8</td>\n",
       "      <td>NaN</td>\n",
       "      <td>43.6</td>\n",
       "      <td>43.6</td>\n",
       "      <td>36.6</td>\n",
       "      <td>36.6</td>\n",
       "      <td>32.3</td>\n",
       "      <td>32.3</td>\n",
       "    </tr>\n",
       "    <tr>\n",
       "      <th>Argentina</th>\n",
       "      <td>19.0</td>\n",
       "      <td>18.7</td>\n",
       "      <td>18.7</td>\n",
       "      <td>15.3</td>\n",
       "      <td>14.6</td>\n",
       "      <td>15.2</td>\n",
       "      <td>14.0</td>\n",
       "      <td>13.9</td>\n",
       "    </tr>\n",
       "  </tbody>\n",
       "</table>\n",
       "</div>"
      ],
      "text/plain": [
       "              2010  2011  2012  2013  2014  2015  2016  2017\n",
       "Country                                                     \n",
       " Afghanistan   NaN   NaN   NaN  30.0  30.0  30.4  28.2  28.2\n",
       " Albania      12.7  13.8  13.8  13.4  13.4  13.4  12.2  10.0\n",
       " Algeria       NaN   NaN   NaN   NaN   NaN   NaN   NaN  20.1\n",
       " Angola       38.8   NaN  43.6  43.6  36.6  36.6  32.3  32.3\n",
       " Argentina    19.0  18.7  18.7  15.3  14.6  15.2  14.0  13.9"
      ]
     },
     "execution_count": 2,
     "metadata": {},
     "output_type": "execute_result"
    }
   ],
   "source": [
    "years = [str(item) for item in list(range(2010, 2018))] + ['Country']\n",
    "df_inequality = pd.read_csv(\"datasets/Coefficient of Human Inequality.csv\", encoding = \"ISO-8859-1\", skiprows=1, usecols=years).set_index(\"Country\", drop = True)\n",
    "df_inequality.head(5)"
   ]
  },
  {
   "cell_type": "markdown",
   "metadata": {},
   "source": [
    "## Educação"
   ]
  },
  {
   "cell_type": "code",
   "execution_count": 3,
   "metadata": {
    "collapsed": false
   },
   "outputs": [
    {
     "data": {
      "text/html": [
       "<div>\n",
       "<table border=\"1\" class=\"dataframe\">\n",
       "  <thead>\n",
       "    <tr style=\"text-align: right;\">\n",
       "      <th></th>\n",
       "      <th>1990</th>\n",
       "      <th>1991</th>\n",
       "      <th>1992</th>\n",
       "      <th>1993</th>\n",
       "      <th>1994</th>\n",
       "      <th>1995</th>\n",
       "      <th>1996</th>\n",
       "      <th>1997</th>\n",
       "      <th>1998</th>\n",
       "      <th>1999</th>\n",
       "      <th>...</th>\n",
       "      <th>2008</th>\n",
       "      <th>2009</th>\n",
       "      <th>2010</th>\n",
       "      <th>2011</th>\n",
       "      <th>2012</th>\n",
       "      <th>2013</th>\n",
       "      <th>2014</th>\n",
       "      <th>2015</th>\n",
       "      <th>2016</th>\n",
       "      <th>2017</th>\n",
       "    </tr>\n",
       "    <tr>\n",
       "      <th>Country</th>\n",
       "      <th></th>\n",
       "      <th></th>\n",
       "      <th></th>\n",
       "      <th></th>\n",
       "      <th></th>\n",
       "      <th></th>\n",
       "      <th></th>\n",
       "      <th></th>\n",
       "      <th></th>\n",
       "      <th></th>\n",
       "      <th></th>\n",
       "      <th></th>\n",
       "      <th></th>\n",
       "      <th></th>\n",
       "      <th></th>\n",
       "      <th></th>\n",
       "      <th></th>\n",
       "      <th></th>\n",
       "      <th></th>\n",
       "      <th></th>\n",
       "      <th></th>\n",
       "    </tr>\n",
       "  </thead>\n",
       "  <tbody>\n",
       "    <tr>\n",
       "      <th>Afghanistan</th>\n",
       "      <td>0.122</td>\n",
       "      <td>0.133</td>\n",
       "      <td>0.145</td>\n",
       "      <td>0.156</td>\n",
       "      <td>0.168</td>\n",
       "      <td>0.179</td>\n",
       "      <td>0.190</td>\n",
       "      <td>0.202</td>\n",
       "      <td>0.213</td>\n",
       "      <td>0.224</td>\n",
       "      <td>...</td>\n",
       "      <td>0.347</td>\n",
       "      <td>0.359</td>\n",
       "      <td>0.371</td>\n",
       "      <td>0.382</td>\n",
       "      <td>0.390</td>\n",
       "      <td>0.398</td>\n",
       "      <td>0.406</td>\n",
       "      <td>0.410</td>\n",
       "      <td>0.410</td>\n",
       "      <td>0.415</td>\n",
       "    </tr>\n",
       "    <tr>\n",
       "      <th>Albania</th>\n",
       "      <td>0.584</td>\n",
       "      <td>0.589</td>\n",
       "      <td>0.558</td>\n",
       "      <td>0.543</td>\n",
       "      <td>0.542</td>\n",
       "      <td>0.551</td>\n",
       "      <td>0.558</td>\n",
       "      <td>0.571</td>\n",
       "      <td>0.580</td>\n",
       "      <td>0.586</td>\n",
       "      <td>...</td>\n",
       "      <td>0.646</td>\n",
       "      <td>0.652</td>\n",
       "      <td>0.673</td>\n",
       "      <td>0.693</td>\n",
       "      <td>0.730</td>\n",
       "      <td>0.732</td>\n",
       "      <td>0.733</td>\n",
       "      <td>0.733</td>\n",
       "      <td>0.742</td>\n",
       "      <td>0.745</td>\n",
       "    </tr>\n",
       "    <tr>\n",
       "      <th>Algeria</th>\n",
       "      <td>0.385</td>\n",
       "      <td>0.395</td>\n",
       "      <td>0.405</td>\n",
       "      <td>0.414</td>\n",
       "      <td>0.424</td>\n",
       "      <td>0.431</td>\n",
       "      <td>0.443</td>\n",
       "      <td>0.458</td>\n",
       "      <td>0.473</td>\n",
       "      <td>0.487</td>\n",
       "      <td>...</td>\n",
       "      <td>0.588</td>\n",
       "      <td>0.608</td>\n",
       "      <td>0.626</td>\n",
       "      <td>0.644</td>\n",
       "      <td>0.652</td>\n",
       "      <td>0.660</td>\n",
       "      <td>0.661</td>\n",
       "      <td>0.662</td>\n",
       "      <td>0.663</td>\n",
       "      <td>0.664</td>\n",
       "    </tr>\n",
       "    <tr>\n",
       "      <th>Andorra</th>\n",
       "      <td>NaN</td>\n",
       "      <td>NaN</td>\n",
       "      <td>NaN</td>\n",
       "      <td>NaN</td>\n",
       "      <td>NaN</td>\n",
       "      <td>NaN</td>\n",
       "      <td>NaN</td>\n",
       "      <td>NaN</td>\n",
       "      <td>NaN</td>\n",
       "      <td>NaN</td>\n",
       "      <td>...</td>\n",
       "      <td>0.661</td>\n",
       "      <td>0.661</td>\n",
       "      <td>0.662</td>\n",
       "      <td>0.663</td>\n",
       "      <td>0.715</td>\n",
       "      <td>0.715</td>\n",
       "      <td>0.716</td>\n",
       "      <td>0.715</td>\n",
       "      <td>0.714</td>\n",
       "      <td>0.714</td>\n",
       "    </tr>\n",
       "    <tr>\n",
       "      <th>Angola</th>\n",
       "      <td>NaN</td>\n",
       "      <td>NaN</td>\n",
       "      <td>NaN</td>\n",
       "      <td>NaN</td>\n",
       "      <td>NaN</td>\n",
       "      <td>NaN</td>\n",
       "      <td>NaN</td>\n",
       "      <td>NaN</td>\n",
       "      <td>NaN</td>\n",
       "      <td>0.276</td>\n",
       "      <td>...</td>\n",
       "      <td>0.390</td>\n",
       "      <td>0.404</td>\n",
       "      <td>0.398</td>\n",
       "      <td>0.423</td>\n",
       "      <td>0.435</td>\n",
       "      <td>0.447</td>\n",
       "      <td>0.460</td>\n",
       "      <td>0.472</td>\n",
       "      <td>0.487</td>\n",
       "      <td>0.498</td>\n",
       "    </tr>\n",
       "  </tbody>\n",
       "</table>\n",
       "<p>5 rows × 28 columns</p>\n",
       "</div>"
      ],
      "text/plain": [
       "               1990   1991   1992   1993   1994   1995   1996   1997   1998  \\\n",
       "Country                                                                       \n",
       " Afghanistan  0.122  0.133  0.145  0.156  0.168  0.179  0.190  0.202  0.213   \n",
       " Albania      0.584  0.589  0.558  0.543  0.542  0.551  0.558  0.571  0.580   \n",
       " Algeria      0.385  0.395  0.405  0.414  0.424  0.431  0.443  0.458  0.473   \n",
       " Andorra        NaN    NaN    NaN    NaN    NaN    NaN    NaN    NaN    NaN   \n",
       " Angola         NaN    NaN    NaN    NaN    NaN    NaN    NaN    NaN    NaN   \n",
       "\n",
       "               1999  ...     2008   2009   2010   2011   2012   2013   2014  \\\n",
       "Country              ...                                                      \n",
       " Afghanistan  0.224  ...    0.347  0.359  0.371  0.382  0.390  0.398  0.406   \n",
       " Albania      0.586  ...    0.646  0.652  0.673  0.693  0.730  0.732  0.733   \n",
       " Algeria      0.487  ...    0.588  0.608  0.626  0.644  0.652  0.660  0.661   \n",
       " Andorra        NaN  ...    0.661  0.661  0.662  0.663  0.715  0.715  0.716   \n",
       " Angola       0.276  ...    0.390  0.404  0.398  0.423  0.435  0.447  0.460   \n",
       "\n",
       "               2015   2016   2017  \n",
       "Country                            \n",
       " Afghanistan  0.410  0.410  0.415  \n",
       " Albania      0.733  0.742  0.745  \n",
       " Algeria      0.662  0.663  0.664  \n",
       " Andorra      0.715  0.714  0.714  \n",
       " Angola       0.472  0.487  0.498  \n",
       "\n",
       "[5 rows x 28 columns]"
      ]
     },
     "execution_count": 3,
     "metadata": {},
     "output_type": "execute_result"
    }
   ],
   "source": [
    "years = [str(item) for item in list(range(1990, 2018))] + ['Country']\n",
    "df_education = pd.read_csv(\"datasets/Education Index.csv\",  encoding = \"ISO-8859-1\", skiprows=1, usecols=years).set_index(\"Country\", drop = True)\n",
    "df_education.head(5)"
   ]
  },
  {
   "cell_type": "markdown",
   "metadata": {},
   "source": [
    "## Pobreza"
   ]
  },
  {
   "cell_type": "code",
   "execution_count": 4,
   "metadata": {
    "collapsed": false
   },
   "outputs": [
    {
     "data": {
      "text/html": [
       "<div>\n",
       "<table border=\"1\" class=\"dataframe\">\n",
       "  <thead>\n",
       "    <tr style=\"text-align: right;\">\n",
       "      <th></th>\n",
       "      <th>2006</th>\n",
       "      <th>2007</th>\n",
       "      <th>2008</th>\n",
       "      <th>2009</th>\n",
       "      <th>2010</th>\n",
       "      <th>2011</th>\n",
       "      <th>2012</th>\n",
       "      <th>2013</th>\n",
       "      <th>2014</th>\n",
       "      <th>2015</th>\n",
       "      <th>2016</th>\n",
       "      <th>2017</th>\n",
       "    </tr>\n",
       "    <tr>\n",
       "      <th>Country</th>\n",
       "      <th></th>\n",
       "      <th></th>\n",
       "      <th></th>\n",
       "      <th></th>\n",
       "      <th></th>\n",
       "      <th></th>\n",
       "      <th></th>\n",
       "      <th></th>\n",
       "      <th></th>\n",
       "      <th></th>\n",
       "      <th></th>\n",
       "      <th></th>\n",
       "    </tr>\n",
       "  </thead>\n",
       "  <tbody>\n",
       "    <tr>\n",
       "      <th>Afghanistan</th>\n",
       "      <td>NaN</td>\n",
       "      <td>NaN</td>\n",
       "      <td>NaN</td>\n",
       "      <td>NaN</td>\n",
       "      <td>NaN</td>\n",
       "      <td>NaN</td>\n",
       "      <td>NaN</td>\n",
       "      <td>NaN</td>\n",
       "      <td>NaN</td>\n",
       "      <td>NaN</td>\n",
       "      <td>0.273</td>\n",
       "      <td>NaN</td>\n",
       "    </tr>\n",
       "    <tr>\n",
       "      <th>Albania</th>\n",
       "      <td>NaN</td>\n",
       "      <td>NaN</td>\n",
       "      <td>NaN</td>\n",
       "      <td>0.008</td>\n",
       "      <td>NaN</td>\n",
       "      <td>NaN</td>\n",
       "      <td>NaN</td>\n",
       "      <td>NaN</td>\n",
       "      <td>NaN</td>\n",
       "      <td>NaN</td>\n",
       "      <td>NaN</td>\n",
       "      <td>NaN</td>\n",
       "    </tr>\n",
       "    <tr>\n",
       "      <th>Algeria</th>\n",
       "      <td>NaN</td>\n",
       "      <td>NaN</td>\n",
       "      <td>NaN</td>\n",
       "      <td>NaN</td>\n",
       "      <td>NaN</td>\n",
       "      <td>NaN</td>\n",
       "      <td>NaN</td>\n",
       "      <td>0.008</td>\n",
       "      <td>NaN</td>\n",
       "      <td>NaN</td>\n",
       "      <td>NaN</td>\n",
       "      <td>NaN</td>\n",
       "    </tr>\n",
       "    <tr>\n",
       "      <th>Angola</th>\n",
       "      <td>NaN</td>\n",
       "      <td>NaN</td>\n",
       "      <td>NaN</td>\n",
       "      <td>NaN</td>\n",
       "      <td>NaN</td>\n",
       "      <td>NaN</td>\n",
       "      <td>NaN</td>\n",
       "      <td>NaN</td>\n",
       "      <td>NaN</td>\n",
       "      <td>NaN</td>\n",
       "      <td>0.283</td>\n",
       "      <td>NaN</td>\n",
       "    </tr>\n",
       "    <tr>\n",
       "      <th>Armenia</th>\n",
       "      <td>NaN</td>\n",
       "      <td>NaN</td>\n",
       "      <td>NaN</td>\n",
       "      <td>NaN</td>\n",
       "      <td>NaN</td>\n",
       "      <td>NaN</td>\n",
       "      <td>NaN</td>\n",
       "      <td>NaN</td>\n",
       "      <td>NaN</td>\n",
       "      <td>NaN</td>\n",
       "      <td>0.001</td>\n",
       "      <td>NaN</td>\n",
       "    </tr>\n",
       "  </tbody>\n",
       "</table>\n",
       "</div>"
      ],
      "text/plain": [
       "              2006  2007  2008   2009  2010  2011  2012   2013  2014  2015  \\\n",
       "Country                                                                      \n",
       " Afghanistan   NaN   NaN   NaN    NaN   NaN   NaN   NaN    NaN   NaN   NaN   \n",
       " Albania       NaN   NaN   NaN  0.008   NaN   NaN   NaN    NaN   NaN   NaN   \n",
       " Algeria       NaN   NaN   NaN    NaN   NaN   NaN   NaN  0.008   NaN   NaN   \n",
       " Angola        NaN   NaN   NaN    NaN   NaN   NaN   NaN    NaN   NaN   NaN   \n",
       " Armenia       NaN   NaN   NaN    NaN   NaN   NaN   NaN    NaN   NaN   NaN   \n",
       "\n",
       "               2016  2017  \n",
       "Country                    \n",
       " Afghanistan  0.273   NaN  \n",
       " Albania        NaN   NaN  \n",
       " Algeria        NaN   NaN  \n",
       " Angola       0.283   NaN  \n",
       " Armenia      0.001   NaN  "
      ]
     },
     "execution_count": 4,
     "metadata": {},
     "output_type": "execute_result"
    }
   ],
   "source": [
    "years = [str(item) for item in list(range(2006, 2018))] + ['Country']\n",
    "df_poverty = pd.read_csv(\"datasets/Multidimensional poverty index (MPI).csv\",  encoding = \"ISO-8859-1\", skiprows=1, usecols=years).set_index(\"Country\", drop = True)\n",
    "df_poverty.head(5)"
   ]
  },
  {
   "cell_type": "code",
   "execution_count": 5,
   "metadata": {
    "collapsed": false
   },
   "outputs": [
    {
     "data": {
      "text/plain": [
       "2006      NaN\n",
       "2007      NaN\n",
       "2008      NaN\n",
       "2009      NaN\n",
       "2010      NaN\n",
       "2011      NaN\n",
       "2012      NaN\n",
       "2013      NaN\n",
       "2014      NaN\n",
       "2015    0.016\n",
       "2016      NaN\n",
       "2017      NaN\n",
       "Name:  Brazil, dtype: float64"
      ]
     },
     "execution_count": 5,
     "metadata": {},
     "output_type": "execute_result"
    }
   ],
   "source": [
    "df_poverty.loc[\" Brazil\", : ]"
   ]
  },
  {
   "cell_type": "markdown",
   "metadata": {},
   "source": [
    "Não existem dados suficientes na base de dados sobre a pobreza, então não vamos analisa-la"
   ]
  },
  {
   "cell_type": "markdown",
   "metadata": {},
   "source": [
    "# Brasil"
   ]
  },
  {
   "cell_type": "markdown",
   "metadata": {},
   "source": [
    "## Pop Carcerária BRASIL"
   ]
  },
  {
   "cell_type": "code",
   "execution_count": 6,
   "metadata": {
    "collapsed": false
   },
   "outputs": [
    {
     "data": {
      "text/html": [
       "<div>\n",
       "<table border=\"1\" class=\"dataframe\">\n",
       "  <thead>\n",
       "    <tr style=\"text-align: right;\">\n",
       "      <th></th>\n",
       "      <th>2000</th>\n",
       "      <th>2002</th>\n",
       "      <th>2004</th>\n",
       "      <th>2006</th>\n",
       "      <th>2007</th>\n",
       "      <th>2008</th>\n",
       "      <th>2009</th>\n",
       "      <th>2010</th>\n",
       "      <th>2011</th>\n",
       "      <th>2012</th>\n",
       "      <th>2013</th>\n",
       "      <th>2014</th>\n",
       "      <th>2015</th>\n",
       "      <th>2016</th>\n",
       "    </tr>\n",
       "    <tr>\n",
       "      <th>Country</th>\n",
       "      <th></th>\n",
       "      <th></th>\n",
       "      <th></th>\n",
       "      <th></th>\n",
       "      <th></th>\n",
       "      <th></th>\n",
       "      <th></th>\n",
       "      <th></th>\n",
       "      <th></th>\n",
       "      <th></th>\n",
       "      <th></th>\n",
       "      <th></th>\n",
       "      <th></th>\n",
       "      <th></th>\n",
       "    </tr>\n",
       "  </thead>\n",
       "  <tbody>\n",
       "    <tr>\n",
       "      <th>Brazil</th>\n",
       "      <td>232775</td>\n",
       "      <td>239345</td>\n",
       "      <td>336358</td>\n",
       "      <td>401236</td>\n",
       "      <td>422400</td>\n",
       "      <td>451429</td>\n",
       "      <td>473600</td>\n",
       "      <td>496251</td>\n",
       "      <td>514600</td>\n",
       "      <td>548003</td>\n",
       "      <td>581500</td>\n",
       "      <td>622202</td>\n",
       "      <td>698600</td>\n",
       "      <td>726712</td>\n",
       "    </tr>\n",
       "  </tbody>\n",
       "</table>\n",
       "</div>"
      ],
      "text/plain": [
       "           2000    2002    2004    2006    2007    2008    2009    2010  \\\n",
       "Country                                                                   \n",
       "Brazil   232775  239345  336358  401236  422400  451429  473600  496251   \n",
       "\n",
       "           2011    2012    2013    2014    2015    2016  \n",
       "Country                                                  \n",
       "Brazil   514600  548003  581500  622202  698600  726712  "
      ]
     },
     "execution_count": 6,
     "metadata": {},
     "output_type": "execute_result"
    }
   ],
   "source": [
    "df_prison = pd.read_csv(\"datasets/pop_carceraria_brasil.csv\",  encoding = \"ISO-8859-1\").set_index(\"Country\", drop = True)\n",
    "df_prison.head()"
   ]
  },
  {
   "cell_type": "markdown",
   "metadata": {},
   "source": [
    "Preenchendo dados que faltam com média"
   ]
  },
  {
   "cell_type": "code",
   "execution_count": 7,
   "metadata": {
    "collapsed": false
   },
   "outputs": [
    {
     "data": {
      "text/html": [
       "<div>\n",
       "<table border=\"1\" class=\"dataframe\">\n",
       "  <thead>\n",
       "    <tr style=\"text-align: right;\">\n",
       "      <th></th>\n",
       "      <th>2000</th>\n",
       "      <th>2001</th>\n",
       "      <th>2002</th>\n",
       "      <th>2003</th>\n",
       "      <th>2004</th>\n",
       "      <th>2005</th>\n",
       "      <th>2006</th>\n",
       "      <th>2007</th>\n",
       "      <th>2008</th>\n",
       "      <th>2009</th>\n",
       "      <th>2010</th>\n",
       "      <th>2011</th>\n",
       "      <th>2012</th>\n",
       "      <th>2013</th>\n",
       "      <th>2014</th>\n",
       "      <th>2015</th>\n",
       "      <th>2016</th>\n",
       "    </tr>\n",
       "    <tr>\n",
       "      <th>Country</th>\n",
       "      <th></th>\n",
       "      <th></th>\n",
       "      <th></th>\n",
       "      <th></th>\n",
       "      <th></th>\n",
       "      <th></th>\n",
       "      <th></th>\n",
       "      <th></th>\n",
       "      <th></th>\n",
       "      <th></th>\n",
       "      <th></th>\n",
       "      <th></th>\n",
       "      <th></th>\n",
       "      <th></th>\n",
       "      <th></th>\n",
       "      <th></th>\n",
       "      <th></th>\n",
       "    </tr>\n",
       "  </thead>\n",
       "  <tbody>\n",
       "    <tr>\n",
       "      <th>Brazil</th>\n",
       "      <td>232775</td>\n",
       "      <td>236060.0</td>\n",
       "      <td>239345</td>\n",
       "      <td>287851.5</td>\n",
       "      <td>336358</td>\n",
       "      <td>368797.0</td>\n",
       "      <td>401236</td>\n",
       "      <td>422400</td>\n",
       "      <td>451429</td>\n",
       "      <td>473600</td>\n",
       "      <td>496251</td>\n",
       "      <td>514600</td>\n",
       "      <td>548003</td>\n",
       "      <td>581500</td>\n",
       "      <td>622202</td>\n",
       "      <td>698600</td>\n",
       "      <td>726712</td>\n",
       "    </tr>\n",
       "  </tbody>\n",
       "</table>\n",
       "</div>"
      ],
      "text/plain": [
       "           2000      2001    2002      2003    2004      2005    2006    2007  \\\n",
       "Country                                                                         \n",
       "Brazil   232775  236060.0  239345  287851.5  336358  368797.0  401236  422400   \n",
       "\n",
       "           2008    2009    2010    2011    2012    2013    2014    2015  \\\n",
       "Country                                                                   \n",
       "Brazil   451429  473600  496251  514600  548003  581500  622202  698600   \n",
       "\n",
       "           2016  \n",
       "Country          \n",
       "Brazil   726712  "
      ]
     },
     "execution_count": 7,
     "metadata": {},
     "output_type": "execute_result"
    }
   ],
   "source": [
    "df_prison.insert(1, '2001', (df_prison['2000'] + df_prison['2002'])/2)\n",
    "df_prison.insert(3, '2003', (df_prison['2002'] + df_prison['2004'])/2)\n",
    "df_prison.insert(5, '2005', (df_prison['2004'] + df_prison['2006'])/2)\n",
    "df_prison.head()"
   ]
  },
  {
   "cell_type": "code",
   "execution_count": 8,
   "metadata": {
    "collapsed": false
   },
   "outputs": [
    {
     "data": {
      "text/plain": [
       "2000    232775.0\n",
       "2001    236060.0\n",
       "2002    239345.0\n",
       "2003    287851.5\n",
       "2004    336358.0\n",
       "2005    368797.0\n",
       "2006    401236.0\n",
       "2007    422400.0\n",
       "2008    451429.0\n",
       "2009    473600.0\n",
       "2010    496251.0\n",
       "2011    514600.0\n",
       "2012    548003.0\n",
       "2013    581500.0\n",
       "2014    622202.0\n",
       "2015    698600.0\n",
       "2016    726712.0\n",
       "Name: Brazil, dtype: float64"
      ]
     },
     "execution_count": 8,
     "metadata": {},
     "output_type": "execute_result"
    }
   ],
   "source": [
    "df_prison.loc[\"Brazil\", : ]"
   ]
  },
  {
   "cell_type": "markdown",
   "metadata": {
    "collapsed": true
   },
   "source": [
    "## Educação BRASIL"
   ]
  },
  {
   "cell_type": "code",
   "execution_count": 9,
   "metadata": {
    "collapsed": false
   },
   "outputs": [
    {
     "data": {
      "text/plain": [
       "1990    0.463\n",
       "1991    0.475\n",
       "1992    0.487\n",
       "1993    0.499\n",
       "1994    0.511\n",
       "1995    0.523\n",
       "1996    0.535\n",
       "1997    0.547\n",
       "1998    0.559\n",
       "1999    0.572\n",
       "2000    0.584\n",
       "2001    0.597\n",
       "2002    0.610\n",
       "2003    0.595\n",
       "2004    0.593\n",
       "2005    0.593\n",
       "2006    0.589\n",
       "2007    0.588\n",
       "2008    0.608\n",
       "2009    0.610\n",
       "2010    0.619\n",
       "2011    0.622\n",
       "2012    0.630\n",
       "2013    0.655\n",
       "2014    0.664\n",
       "2015    0.680\n",
       "2016    0.686\n",
       "2017    0.686\n",
       "Name:  Brazil, dtype: float64"
      ]
     },
     "execution_count": 9,
     "metadata": {},
     "output_type": "execute_result"
    }
   ],
   "source": [
    "df_education.loc[\" Brazil\", :]"
   ]
  },
  {
   "cell_type": "markdown",
   "metadata": {},
   "source": [
    "## Desigualdade BRASIL"
   ]
  },
  {
   "cell_type": "code",
   "execution_count": 10,
   "metadata": {
    "collapsed": false
   },
   "outputs": [
    {
     "data": {
      "text/plain": [
       "2010    26.6\n",
       "2011    26.9\n",
       "2012    26.5\n",
       "2013    26.3\n",
       "2014    25.6\n",
       "2015    25.0\n",
       "2016    23.6\n",
       "2017    23.2\n",
       "Name:  Brazil, dtype: float64"
      ]
     },
     "execution_count": 10,
     "metadata": {},
     "output_type": "execute_result"
    }
   ],
   "source": [
    "df_inequality.loc[\" Brazil\", :]"
   ]
  },
  {
   "cell_type": "markdown",
   "metadata": {},
   "source": [
    "# Correlação entre educação e pop carcerária\n",
    "## Prever 2016 usando dados de 2000 até 2015 "
   ]
  },
  {
   "cell_type": "code",
   "execution_count": 11,
   "metadata": {
    "collapsed": false
   },
   "outputs": [
    {
     "data": {
      "text/html": [
       "<div>\n",
       "<table border=\"1\" class=\"dataframe\">\n",
       "  <thead>\n",
       "    <tr style=\"text-align: right;\">\n",
       "      <th></th>\n",
       "      <th>x</th>\n",
       "      <th>y</th>\n",
       "    </tr>\n",
       "  </thead>\n",
       "  <tbody>\n",
       "    <tr>\n",
       "      <th>0</th>\n",
       "      <td>0.584</td>\n",
       "      <td>232775.0</td>\n",
       "    </tr>\n",
       "    <tr>\n",
       "      <th>1</th>\n",
       "      <td>0.597</td>\n",
       "      <td>236060.0</td>\n",
       "    </tr>\n",
       "    <tr>\n",
       "      <th>2</th>\n",
       "      <td>0.610</td>\n",
       "      <td>239345.0</td>\n",
       "    </tr>\n",
       "    <tr>\n",
       "      <th>3</th>\n",
       "      <td>0.595</td>\n",
       "      <td>287851.5</td>\n",
       "    </tr>\n",
       "    <tr>\n",
       "      <th>4</th>\n",
       "      <td>0.593</td>\n",
       "      <td>336358.0</td>\n",
       "    </tr>\n",
       "    <tr>\n",
       "      <th>5</th>\n",
       "      <td>0.593</td>\n",
       "      <td>368797.0</td>\n",
       "    </tr>\n",
       "    <tr>\n",
       "      <th>6</th>\n",
       "      <td>0.589</td>\n",
       "      <td>401236.0</td>\n",
       "    </tr>\n",
       "    <tr>\n",
       "      <th>7</th>\n",
       "      <td>0.588</td>\n",
       "      <td>422400.0</td>\n",
       "    </tr>\n",
       "    <tr>\n",
       "      <th>8</th>\n",
       "      <td>0.608</td>\n",
       "      <td>451429.0</td>\n",
       "    </tr>\n",
       "    <tr>\n",
       "      <th>9</th>\n",
       "      <td>0.610</td>\n",
       "      <td>473600.0</td>\n",
       "    </tr>\n",
       "    <tr>\n",
       "      <th>10</th>\n",
       "      <td>0.619</td>\n",
       "      <td>496251.0</td>\n",
       "    </tr>\n",
       "    <tr>\n",
       "      <th>11</th>\n",
       "      <td>0.622</td>\n",
       "      <td>514600.0</td>\n",
       "    </tr>\n",
       "    <tr>\n",
       "      <th>12</th>\n",
       "      <td>0.630</td>\n",
       "      <td>548003.0</td>\n",
       "    </tr>\n",
       "    <tr>\n",
       "      <th>13</th>\n",
       "      <td>0.655</td>\n",
       "      <td>581500.0</td>\n",
       "    </tr>\n",
       "    <tr>\n",
       "      <th>14</th>\n",
       "      <td>0.664</td>\n",
       "      <td>622202.0</td>\n",
       "    </tr>\n",
       "    <tr>\n",
       "      <th>15</th>\n",
       "      <td>0.680</td>\n",
       "      <td>698600.0</td>\n",
       "    </tr>\n",
       "  </tbody>\n",
       "</table>\n",
       "</div>"
      ],
      "text/plain": [
       "        x         y\n",
       "0   0.584  232775.0\n",
       "1   0.597  236060.0\n",
       "2   0.610  239345.0\n",
       "3   0.595  287851.5\n",
       "4   0.593  336358.0\n",
       "5   0.593  368797.0\n",
       "6   0.589  401236.0\n",
       "7   0.588  422400.0\n",
       "8   0.608  451429.0\n",
       "9   0.610  473600.0\n",
       "10  0.619  496251.0\n",
       "11  0.622  514600.0\n",
       "12  0.630  548003.0\n",
       "13  0.655  581500.0\n",
       "14  0.664  622202.0\n",
       "15  0.680  698600.0"
      ]
     },
     "execution_count": 11,
     "metadata": {},
     "output_type": "execute_result"
    }
   ],
   "source": [
    "df = pd.DataFrame()\n",
    "# variavel preditora\n",
    "df['x'] = df_education.loc[\" Brazil\", '2000':'2015'].values\n",
    "# variavel alvo\n",
    "df['y'] = df_prison.loc[\"Brazil\", '2000':'2015'].values\n",
    "df.head(20)"
   ]
  },
  {
   "cell_type": "code",
   "execution_count": 12,
   "metadata": {
    "collapsed": true
   },
   "outputs": [],
   "source": [
    "x_v = df[['x']]\n",
    "y_v = df[['y']]"
   ]
  },
  {
   "cell_type": "code",
   "execution_count": 13,
   "metadata": {
    "collapsed": false
   },
   "outputs": [
    {
     "data": {
      "image/png": "[encoded data removed]",
      "text/plain": [
       "<matplotlib.figure.Figure at 0x1ff44af19b0>"
      ]
     },
     "metadata": {},
     "output_type": "display_data"
    }
   ],
   "source": [
    "plt.scatter(x_v, y_v)\n",
    "plt.xlabel(\"educação\")\n",
    "plt.ylabel(\"pop carcerária\")\n",
    "plt.show()"
   ]
  },
  {
   "cell_type": "code",
   "execution_count": 14,
   "metadata": {
    "collapsed": false
   },
   "outputs": [
    {
     "data": {
      "text/plain": [
       "LinearRegression(copy_X=True, fit_intercept=True, n_jobs=1, normalize=False)"
      ]
     },
     "execution_count": 14,
     "metadata": {},
     "output_type": "execute_result"
    }
   ],
   "source": [
    "# Modelo\n",
    "reg = LinearRegression()\n",
    "reg.fit(x_v, y_v)"
   ]
  },
  {
   "cell_type": "code",
   "execution_count": 15,
   "metadata": {
    "collapsed": false
   },
   "outputs": [
    {
     "data": {
      "text/plain": [
       "0.7227149257179597"
      ]
     },
     "execution_count": 15,
     "metadata": {},
     "output_type": "execute_result"
    }
   ],
   "source": [
    "score = reg.score(x_v, y_v)\n",
    "score"
   ]
  },
  {
   "cell_type": "code",
   "execution_count": 16,
   "metadata": {
    "collapsed": false
   },
   "outputs": [
    {
     "data": {
      "text/plain": [
       "array([[ 729456.57172801]])"
      ]
     },
     "execution_count": 16,
     "metadata": {},
     "output_type": "execute_result"
    }
   ],
   "source": [
    "result = reg.predict(df_education.loc[\" Brazil\", '2016'])\n",
    "result"
   ]
  },
  {
   "cell_type": "code",
   "execution_count": 17,
   "metadata": {
    "collapsed": false
   },
   "outputs": [
    {
     "data": {
      "text/html": [
       "<div>\n",
       "<table border=\"1\" class=\"dataframe\">\n",
       "  <thead>\n",
       "    <tr style=\"text-align: right;\">\n",
       "      <th></th>\n",
       "      <th>dados</th>\n",
       "      <th>predict result</th>\n",
       "      <th>score</th>\n",
       "      <th>real</th>\n",
       "      <th>predict - real</th>\n",
       "      <th>tempo</th>\n",
       "    </tr>\n",
       "  </thead>\n",
       "  <tbody>\n",
       "    <tr>\n",
       "      <th>0</th>\n",
       "      <td>educacao</td>\n",
       "      <td>729456.571728</td>\n",
       "      <td>0.722715</td>\n",
       "      <td>726712.0</td>\n",
       "      <td>2744.571728</td>\n",
       "      <td>2000-2015</td>\n",
       "    </tr>\n",
       "  </tbody>\n",
       "</table>\n",
       "</div>"
      ],
      "text/plain": [
       "      dados  predict result     score      real  predict - real      tempo\n",
       "0  educacao   729456.571728  0.722715  726712.0     2744.571728  2000-2015"
      ]
     },
     "execution_count": 17,
     "metadata": {},
     "output_type": "execute_result"
    }
   ],
   "source": [
    "df_final = pd.DataFrame([[\"educacao\",result[0][0], score ,df_prison.loc[\"Brazil\", '2016'], result[0][0] - df_prison.loc[\"Brazil\", '2016'], '2000-2015']], columns=['dados', 'predict result', 'score', 'real', 'predict - real', 'tempo'])\n",
    "df_final"
   ]
  },
  {
   "cell_type": "code",
   "execution_count": null,
   "metadata": {
    "collapsed": false
   },
   "outputs": [],
   "source": []
  },
  {
   "cell_type": "markdown",
   "metadata": {},
   "source": [
    "# Correlação entre desigualdade e pop carcerária\n",
    "## Prever 2016 usando dados de 2010 até 2015 "
   ]
  },
  {
   "cell_type": "code",
   "execution_count": 18,
   "metadata": {
    "collapsed": false
   },
   "outputs": [
    {
     "data": {
      "text/html": [
       "<div>\n",
       "<table border=\"1\" class=\"dataframe\">\n",
       "  <thead>\n",
       "    <tr style=\"text-align: right;\">\n",
       "      <th></th>\n",
       "      <th>x</th>\n",
       "      <th>y</th>\n",
       "    </tr>\n",
       "  </thead>\n",
       "  <tbody>\n",
       "    <tr>\n",
       "      <th>0</th>\n",
       "      <td>26.6</td>\n",
       "      <td>496251.0</td>\n",
       "    </tr>\n",
       "    <tr>\n",
       "      <th>1</th>\n",
       "      <td>26.9</td>\n",
       "      <td>514600.0</td>\n",
       "    </tr>\n",
       "    <tr>\n",
       "      <th>2</th>\n",
       "      <td>26.5</td>\n",
       "      <td>548003.0</td>\n",
       "    </tr>\n",
       "    <tr>\n",
       "      <th>3</th>\n",
       "      <td>26.3</td>\n",
       "      <td>581500.0</td>\n",
       "    </tr>\n",
       "    <tr>\n",
       "      <th>4</th>\n",
       "      <td>25.6</td>\n",
       "      <td>622202.0</td>\n",
       "    </tr>\n",
       "    <tr>\n",
       "      <th>5</th>\n",
       "      <td>25.0</td>\n",
       "      <td>698600.0</td>\n",
       "    </tr>\n",
       "  </tbody>\n",
       "</table>\n",
       "</div>"
      ],
      "text/plain": [
       "      x         y\n",
       "0  26.6  496251.0\n",
       "1  26.9  514600.0\n",
       "2  26.5  548003.0\n",
       "3  26.3  581500.0\n",
       "4  25.6  622202.0\n",
       "5  25.0  698600.0"
      ]
     },
     "execution_count": 18,
     "metadata": {},
     "output_type": "execute_result"
    }
   ],
   "source": [
    "df2 = pd.DataFrame()\n",
    "# variavel preditora\n",
    "df2['x'] = df_inequality.loc[\" Brazil\", '2010':'2015'].values\n",
    "# variavel alvo\n",
    "df2['y'] = df_prison.loc[\"Brazil\", '2010':'2015'].values\n",
    "df2.head(10)"
   ]
  },
  {
   "cell_type": "code",
   "execution_count": 19,
   "metadata": {
    "collapsed": true
   },
   "outputs": [],
   "source": [
    "x_v2 = df2[['x']]\n",
    "y_v2 = df2[['y']]"
   ]
  },
  {
   "cell_type": "code",
   "execution_count": 20,
   "metadata": {
    "collapsed": false
   },
   "outputs": [
    {
     "data": {
      "image/png": "[encoded data removed]",
      "text/plain": [
       "<matplotlib.figure.Figure at 0x1ff44f29748>"
      ]
     },
     "metadata": {},
     "output_type": "display_data"
    }
   ],
   "source": [
    "plt.scatter(x_v2, y_v2)\n",
    "plt.xlabel(\"desigualdade\")\n",
    "plt.ylabel(\"pop carcerária\")\n",
    "plt.show()"
   ]
  },
  {
   "cell_type": "code",
   "execution_count": 21,
   "metadata": {
    "collapsed": false
   },
   "outputs": [
    {
     "data": {
      "text/plain": [
       "LinearRegression(copy_X=True, fit_intercept=True, n_jobs=1, normalize=False)"
      ]
     },
     "execution_count": 21,
     "metadata": {},
     "output_type": "execute_result"
    }
   ],
   "source": [
    "# Modelo\n",
    "reg2 = LinearRegression()\n",
    "reg2.fit(x_v2, y_v2)"
   ]
  },
  {
   "cell_type": "code",
   "execution_count": 22,
   "metadata": {
    "collapsed": false
   },
   "outputs": [
    {
     "data": {
      "text/plain": [
       "0.92930960191239542"
      ]
     },
     "execution_count": 22,
     "metadata": {},
     "output_type": "execute_result"
    }
   ],
   "source": [
    "score = reg2.score(x_v2, y_v2)\n",
    "score"
   ]
  },
  {
   "cell_type": "code",
   "execution_count": 23,
   "metadata": {
    "collapsed": false
   },
   "outputs": [
    {
     "data": {
      "text/plain": [
       "array([[ 835693.99013807]])"
      ]
     },
     "execution_count": 23,
     "metadata": {},
     "output_type": "execute_result"
    }
   ],
   "source": [
    "result = reg2.predict(df_inequality.loc[\" Brazil\", '2016'])\n",
    "result"
   ]
  },
  {
   "cell_type": "code",
   "execution_count": 24,
   "metadata": {
    "collapsed": false
   },
   "outputs": [
    {
     "data": {
      "text/html": [
       "<div>\n",
       "<table border=\"1\" class=\"dataframe\">\n",
       "  <thead>\n",
       "    <tr style=\"text-align: right;\">\n",
       "      <th></th>\n",
       "      <th>dados</th>\n",
       "      <th>predict result</th>\n",
       "      <th>score</th>\n",
       "      <th>real</th>\n",
       "      <th>predict - real</th>\n",
       "      <th>tempo</th>\n",
       "    </tr>\n",
       "  </thead>\n",
       "  <tbody>\n",
       "    <tr>\n",
       "      <th>0</th>\n",
       "      <td>educacao</td>\n",
       "      <td>729456.571728</td>\n",
       "      <td>0.722715</td>\n",
       "      <td>726712.0</td>\n",
       "      <td>2744.571728</td>\n",
       "      <td>2000-2015</td>\n",
       "    </tr>\n",
       "    <tr>\n",
       "      <th>1</th>\n",
       "      <td>desigualdade</td>\n",
       "      <td>835693.990138</td>\n",
       "      <td>0.929310</td>\n",
       "      <td>726712.0</td>\n",
       "      <td>108981.990138</td>\n",
       "      <td>2010-2015</td>\n",
       "    </tr>\n",
       "  </tbody>\n",
       "</table>\n",
       "</div>"
      ],
      "text/plain": [
       "          dados  predict result     score      real  predict - real      tempo\n",
       "0      educacao   729456.571728  0.722715  726712.0     2744.571728  2000-2015\n",
       "1  desigualdade   835693.990138  0.929310  726712.0   108981.990138  2010-2015"
      ]
     },
     "execution_count": 24,
     "metadata": {},
     "output_type": "execute_result"
    }
   ],
   "source": [
    "temp = pd.DataFrame([[\"desigualdade\",result[0][0],score ,df_prison.loc[\"Brazil\", '2016'], result[0][0] - df_prison.loc[\"Brazil\", '2016'], '2010-2015']], columns=['dados', 'predict result', 'score', 'real', 'predict - real', 'tempo'])\n",
    "df_final = df_final.append(temp, ignore_index=True)\n",
    "df_final"
   ]
  },
  {
   "cell_type": "code",
   "execution_count": null,
   "metadata": {
    "collapsed": false
   },
   "outputs": [],
   "source": []
  },
  {
   "cell_type": "markdown",
   "metadata": {},
   "source": [
    "A previsão com a desigualdade foi consideravelmente pior, provavelmente pela falta de dados.\n",
    "Apesar disso o score apareceu bom."
   ]
  },
  {
   "cell_type": "markdown",
   "metadata": {
    "collapsed": true
   },
   "source": [
    "# Correlação entre desigualdade e educacao vs pop carcerária\n",
    "## Prever 2016 usando dados de 2010 até 2015 "
   ]
  },
  {
   "cell_type": "code",
   "execution_count": 25,
   "metadata": {
    "collapsed": false
   },
   "outputs": [
    {
     "data": {
      "text/html": [
       "<div>\n",
       "<table border=\"1\" class=\"dataframe\">\n",
       "  <thead>\n",
       "    <tr style=\"text-align: right;\">\n",
       "      <th></th>\n",
       "      <th>x1</th>\n",
       "      <th>x2</th>\n",
       "      <th>y</th>\n",
       "    </tr>\n",
       "  </thead>\n",
       "  <tbody>\n",
       "    <tr>\n",
       "      <th>0</th>\n",
       "      <td>26.6</td>\n",
       "      <td>0.619</td>\n",
       "      <td>496251.0</td>\n",
       "    </tr>\n",
       "    <tr>\n",
       "      <th>1</th>\n",
       "      <td>26.9</td>\n",
       "      <td>0.622</td>\n",
       "      <td>514600.0</td>\n",
       "    </tr>\n",
       "    <tr>\n",
       "      <th>2</th>\n",
       "      <td>26.5</td>\n",
       "      <td>0.630</td>\n",
       "      <td>548003.0</td>\n",
       "    </tr>\n",
       "    <tr>\n",
       "      <th>3</th>\n",
       "      <td>26.3</td>\n",
       "      <td>0.655</td>\n",
       "      <td>581500.0</td>\n",
       "    </tr>\n",
       "    <tr>\n",
       "      <th>4</th>\n",
       "      <td>25.6</td>\n",
       "      <td>0.664</td>\n",
       "      <td>622202.0</td>\n",
       "    </tr>\n",
       "    <tr>\n",
       "      <th>5</th>\n",
       "      <td>25.0</td>\n",
       "      <td>0.680</td>\n",
       "      <td>698600.0</td>\n",
       "    </tr>\n",
       "  </tbody>\n",
       "</table>\n",
       "</div>"
      ],
      "text/plain": [
       "     x1     x2         y\n",
       "0  26.6  0.619  496251.0\n",
       "1  26.9  0.622  514600.0\n",
       "2  26.5  0.630  548003.0\n",
       "3  26.3  0.655  581500.0\n",
       "4  25.6  0.664  622202.0\n",
       "5  25.0  0.680  698600.0"
      ]
     },
     "execution_count": 25,
     "metadata": {},
     "output_type": "execute_result"
    }
   ],
   "source": [
    "df3 = pd.DataFrame()\n",
    "# variavel preditora\n",
    "df3['x1'] = df_inequality.loc[\" Brazil\", '2010':'2015'].values\n",
    "df3['x2'] = df_education.loc[\" Brazil\", '2010':'2015'].values\n",
    "# variavel alvo\n",
    "df3['y'] = df_prison.loc[\"Brazil\", '2010':'2015'].values\n",
    "df3.head(10)"
   ]
  },
  {
   "cell_type": "code",
   "execution_count": 26,
   "metadata": {
    "collapsed": true
   },
   "outputs": [],
   "source": [
    "x_v3 = df3.drop('y',axis=1)\n",
    "y_v3 = df3[['y']]"
   ]
  },
  {
   "cell_type": "code",
   "execution_count": 27,
   "metadata": {
    "collapsed": false
   },
   "outputs": [
    {
     "data": {
      "text/plain": [
       "LinearRegression(copy_X=True, fit_intercept=True, n_jobs=1, normalize=False)"
      ]
     },
     "execution_count": 27,
     "metadata": {},
     "output_type": "execute_result"
    }
   ],
   "source": [
    "# Modelo\n",
    "reg3 = LinearRegression()\n",
    "reg3.fit(x_v3, y_v3)\n"
   ]
  },
  {
   "cell_type": "code",
   "execution_count": 28,
   "metadata": {
    "collapsed": false
   },
   "outputs": [
    {
     "data": {
      "text/plain": [
       "0.97146538057892651"
      ]
     },
     "execution_count": 28,
     "metadata": {},
     "output_type": "execute_result"
    }
   ],
   "source": [
    "score = reg3.score(x_v3, y_v3)\n",
    "score"
   ]
  },
  {
   "cell_type": "code",
   "execution_count": 29,
   "metadata": {
    "collapsed": false
   },
   "outputs": [
    {
     "data": {
      "text/plain": [
       "array([[ 759164.46867515]])"
      ]
     },
     "execution_count": 29,
     "metadata": {},
     "output_type": "execute_result"
    }
   ],
   "source": [
    "predict_array = np.array([df_inequality.loc[\" Brazil\", '2016'], df_education.loc[\" Brazil\", '2016']])\n",
    "result = reg3.predict(predict_array.reshape(1, -1))\n",
    "result"
   ]
  },
  {
   "cell_type": "markdown",
   "metadata": {},
   "source": [
    "## Resultado Final"
   ]
  },
  {
   "cell_type": "code",
   "execution_count": 30,
   "metadata": {
    "collapsed": false
   },
   "outputs": [
    {
     "data": {
      "text/html": [
       "<div>\n",
       "<table border=\"1\" class=\"dataframe\">\n",
       "  <thead>\n",
       "    <tr style=\"text-align: right;\">\n",
       "      <th></th>\n",
       "      <th>dados</th>\n",
       "      <th>predict result</th>\n",
       "      <th>score</th>\n",
       "      <th>real</th>\n",
       "      <th>predict - real</th>\n",
       "      <th>tempo</th>\n",
       "    </tr>\n",
       "  </thead>\n",
       "  <tbody>\n",
       "    <tr>\n",
       "      <th>0</th>\n",
       "      <td>educacao</td>\n",
       "      <td>729456.571728</td>\n",
       "      <td>0.722715</td>\n",
       "      <td>726712.0</td>\n",
       "      <td>2744.571728</td>\n",
       "      <td>2000-2015</td>\n",
       "    </tr>\n",
       "    <tr>\n",
       "      <th>1</th>\n",
       "      <td>desigualdade</td>\n",
       "      <td>835693.990138</td>\n",
       "      <td>0.929310</td>\n",
       "      <td>726712.0</td>\n",
       "      <td>108981.990138</td>\n",
       "      <td>2010-2015</td>\n",
       "    </tr>\n",
       "    <tr>\n",
       "      <th>2</th>\n",
       "      <td>desigualdade + educação</td>\n",
       "      <td>759164.468675</td>\n",
       "      <td>0.971465</td>\n",
       "      <td>726712.0</td>\n",
       "      <td>32452.468675</td>\n",
       "      <td>2010-2015</td>\n",
       "    </tr>\n",
       "  </tbody>\n",
       "</table>\n",
       "</div>"
      ],
      "text/plain": [
       "                     dados  predict result     score      real  \\\n",
       "0                 educacao   729456.571728  0.722715  726712.0   \n",
       "1             desigualdade   835693.990138  0.929310  726712.0   \n",
       "2  desigualdade + educação   759164.468675  0.971465  726712.0   \n",
       "\n",
       "   predict - real      tempo  \n",
       "0     2744.571728  2000-2015  \n",
       "1   108981.990138  2010-2015  \n",
       "2    32452.468675  2010-2015  "
      ]
     },
     "execution_count": 30,
     "metadata": {},
     "output_type": "execute_result"
    }
   ],
   "source": [
    "temp = pd.DataFrame([[\"desigualdade + educação\",result[0][0],score ,df_prison.loc[\"Brazil\", '2016'], result[0][0] - df_prison.loc[\"Brazil\", '2016'], '2010-2015']], columns=['dados', 'predict result', 'score', 'real', 'predict - real', 'tempo'])\n",
    "df_final = df_final.append(temp, ignore_index=True)\n",
    "df_final"
   ]
  },
  {
   "cell_type": "code",
   "execution_count": null,
   "metadata": {
    "collapsed": true
   },
   "outputs": [],
   "source": []
  }
 ],
 "metadata": {
  "kernelspec": {
   "display_name": "Python 3",
   "language": "python",
   "name": "python3"
  },
  "language_info": {
   "codemirror_mode": {
    "name": "ipython",
    "version": 3
   },
   "file_extension": ".py",
   "mimetype": "text/x-python",
   "name": "python",
   "nbconvert_exporter": "python",
   "pygments_lexer": "ipython3",
   "version": "3.6.0"
  }
 },
 "nbformat": 4,
 "nbformat_minor": 2
}
