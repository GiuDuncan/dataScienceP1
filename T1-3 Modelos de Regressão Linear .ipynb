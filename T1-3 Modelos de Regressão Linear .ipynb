{
 "cells": [
  {
   "cell_type": "markdown",
   "metadata": {
    "collapsed": true
   },
   "source": [
    "# T1.3"
   ]
  },
  {
   "cell_type": "markdown",
   "metadata": {},
   "source": [
    "## Integrantes:\n",
    "\n",
    "* Giulia Duncan Coutinho - 1410398\n",
    "* Matheus Falcão - 1410962\n",
    "* Igor Vieira - 1410492"
   ]
  },
  {
   "cell_type": "code",
   "execution_count": null,
   "metadata": {
    "collapsed": true
   },
   "outputs": [],
   "source": []
  },
  {
   "cell_type": "markdown",
   "metadata": {},
   "source": [
    "A partir de dados de pobreza e de educação, criem alguns modelos de regressão linear (variando as features) para tentar prever a população carcerária de cada país. Avaliem os modelos e indique qual foi o melhor."
   ]
  },
  {
   "cell_type": "code",
   "execution_count": 53,
   "metadata": {
    "collapsed": true
   },
   "outputs": [],
   "source": [
    "from IPython.display import display, Markdown, Latex\n",
    "import matplotlib\n",
    "import matplotlib.pyplot as plt\n",
    "import pandas as pd\n",
    "from sklearn.linear_model import LinearRegression\n",
    "import statsmodels.api as sm\n",
    "import numpy as np"
   ]
  },
  {
   "cell_type": "markdown",
   "metadata": {},
   "source": [
    "## Desigualdade"
   ]
  },
  {
   "cell_type": "code",
   "execution_count": 30,
   "metadata": {
    "collapsed": false
   },
   "outputs": [
    {
     "data": {
      "text/html": [
       "<div>\n",
       "<table border=\"1\" class=\"dataframe\">\n",
       "  <thead>\n",
       "    <tr style=\"text-align: right;\">\n",
       "      <th></th>\n",
       "      <th>2010</th>\n",
       "      <th>2011</th>\n",
       "      <th>2012</th>\n",
       "      <th>2013</th>\n",
       "      <th>2014</th>\n",
       "      <th>2015</th>\n",
       "      <th>2016</th>\n",
       "      <th>2017</th>\n",
       "    </tr>\n",
       "    <tr>\n",
       "      <th>Country</th>\n",
       "      <th></th>\n",
       "      <th></th>\n",
       "      <th></th>\n",
       "      <th></th>\n",
       "      <th></th>\n",
       "      <th></th>\n",
       "      <th></th>\n",
       "      <th></th>\n",
       "    </tr>\n",
       "  </thead>\n",
       "  <tbody>\n",
       "    <tr>\n",
       "      <th>Afghanistan</th>\n",
       "      <td>NaN</td>\n",
       "      <td>NaN</td>\n",
       "      <td>NaN</td>\n",
       "      <td>30.0</td>\n",
       "      <td>30.0</td>\n",
       "      <td>30.4</td>\n",
       "      <td>28.2</td>\n",
       "      <td>28.2</td>\n",
       "    </tr>\n",
       "    <tr>\n",
       "      <th>Albania</th>\n",
       "      <td>12.7</td>\n",
       "      <td>13.8</td>\n",
       "      <td>13.8</td>\n",
       "      <td>13.4</td>\n",
       "      <td>13.4</td>\n",
       "      <td>13.4</td>\n",
       "      <td>12.2</td>\n",
       "      <td>10.0</td>\n",
       "    </tr>\n",
       "    <tr>\n",
       "      <th>Algeria</th>\n",
       "      <td>NaN</td>\n",
       "      <td>NaN</td>\n",
       "      <td>NaN</td>\n",
       "      <td>NaN</td>\n",
       "      <td>NaN</td>\n",
       "      <td>NaN</td>\n",
       "      <td>NaN</td>\n",
       "      <td>20.1</td>\n",
       "    </tr>\n",
       "    <tr>\n",
       "      <th>Angola</th>\n",
       "      <td>38.8</td>\n",
       "      <td>NaN</td>\n",
       "      <td>43.6</td>\n",
       "      <td>43.6</td>\n",
       "      <td>36.6</td>\n",
       "      <td>36.6</td>\n",
       "      <td>32.3</td>\n",
       "      <td>32.3</td>\n",
       "    </tr>\n",
       "    <tr>\n",
       "      <th>Argentina</th>\n",
       "      <td>19.0</td>\n",
       "      <td>18.7</td>\n",
       "      <td>18.7</td>\n",
       "      <td>15.3</td>\n",
       "      <td>14.6</td>\n",
       "      <td>15.2</td>\n",
       "      <td>14.0</td>\n",
       "      <td>13.9</td>\n",
       "    </tr>\n",
       "  </tbody>\n",
       "</table>\n",
       "</div>"
      ],
      "text/plain": [
       "              2010  2011  2012  2013  2014  2015  2016  2017\n",
       "Country                                                     \n",
       " Afghanistan   NaN   NaN   NaN  30.0  30.0  30.4  28.2  28.2\n",
       " Albania      12.7  13.8  13.8  13.4  13.4  13.4  12.2  10.0\n",
       " Algeria       NaN   NaN   NaN   NaN   NaN   NaN   NaN  20.1\n",
       " Angola       38.8   NaN  43.6  43.6  36.6  36.6  32.3  32.3\n",
       " Argentina    19.0  18.7  18.7  15.3  14.6  15.2  14.0  13.9"
      ]
     },
     "execution_count": 30,
     "metadata": {},
     "output_type": "execute_result"
    }
   ],
   "source": [
    "years = [str(item) for item in list(range(2010, 2018))] + ['Country']\n",
    "df_inequality = pd.read_csv(\"datasets/Coefficient of Human Inequality.csv\", encoding = \"ISO-8859-1\", skiprows=1, usecols=years).set_index(\"Country\", drop = True)\n",
    "df_inequality.head(5)"
   ]
  },
  {
   "cell_type": "markdown",
   "metadata": {},
   "source": [
    "## Educação"
   ]
  },
  {
   "cell_type": "code",
   "execution_count": 29,
   "metadata": {
    "collapsed": false
   },
   "outputs": [
    {
     "data": {
      "text/html": [
       "<div>\n",
       "<table border=\"1\" class=\"dataframe\">\n",
       "  <thead>\n",
       "    <tr style=\"text-align: right;\">\n",
       "      <th></th>\n",
       "      <th>1990</th>\n",
       "      <th>1991</th>\n",
       "      <th>1992</th>\n",
       "      <th>1993</th>\n",
       "      <th>1994</th>\n",
       "      <th>1995</th>\n",
       "      <th>1996</th>\n",
       "      <th>1997</th>\n",
       "      <th>1998</th>\n",
       "      <th>1999</th>\n",
       "      <th>...</th>\n",
       "      <th>2008</th>\n",
       "      <th>2009</th>\n",
       "      <th>2010</th>\n",
       "      <th>2011</th>\n",
       "      <th>2012</th>\n",
       "      <th>2013</th>\n",
       "      <th>2014</th>\n",
       "      <th>2015</th>\n",
       "      <th>2016</th>\n",
       "      <th>2017</th>\n",
       "    </tr>\n",
       "    <tr>\n",
       "      <th>Country</th>\n",
       "      <th></th>\n",
       "      <th></th>\n",
       "      <th></th>\n",
       "      <th></th>\n",
       "      <th></th>\n",
       "      <th></th>\n",
       "      <th></th>\n",
       "      <th></th>\n",
       "      <th></th>\n",
       "      <th></th>\n",
       "      <th></th>\n",
       "      <th></th>\n",
       "      <th></th>\n",
       "      <th></th>\n",
       "      <th></th>\n",
       "      <th></th>\n",
       "      <th></th>\n",
       "      <th></th>\n",
       "      <th></th>\n",
       "      <th></th>\n",
       "      <th></th>\n",
       "    </tr>\n",
       "  </thead>\n",
       "  <tbody>\n",
       "    <tr>\n",
       "      <th>Afghanistan</th>\n",
       "      <td>0.122</td>\n",
       "      <td>0.133</td>\n",
       "      <td>0.145</td>\n",
       "      <td>0.156</td>\n",
       "      <td>0.168</td>\n",
       "      <td>0.179</td>\n",
       "      <td>0.190</td>\n",
       "      <td>0.202</td>\n",
       "      <td>0.213</td>\n",
       "      <td>0.224</td>\n",
       "      <td>...</td>\n",
       "      <td>0.347</td>\n",
       "      <td>0.359</td>\n",
       "      <td>0.371</td>\n",
       "      <td>0.382</td>\n",
       "      <td>0.390</td>\n",
       "      <td>0.398</td>\n",
       "      <td>0.406</td>\n",
       "      <td>0.410</td>\n",
       "      <td>0.410</td>\n",
       "      <td>0.415</td>\n",
       "    </tr>\n",
       "    <tr>\n",
       "      <th>Albania</th>\n",
       "      <td>0.584</td>\n",
       "      <td>0.589</td>\n",
       "      <td>0.558</td>\n",
       "      <td>0.543</td>\n",
       "      <td>0.542</td>\n",
       "      <td>0.551</td>\n",
       "      <td>0.558</td>\n",
       "      <td>0.571</td>\n",
       "      <td>0.580</td>\n",
       "      <td>0.586</td>\n",
       "      <td>...</td>\n",
       "      <td>0.646</td>\n",
       "      <td>0.652</td>\n",
       "      <td>0.673</td>\n",
       "      <td>0.693</td>\n",
       "      <td>0.730</td>\n",
       "      <td>0.732</td>\n",
       "      <td>0.733</td>\n",
       "      <td>0.733</td>\n",
       "      <td>0.742</td>\n",
       "      <td>0.745</td>\n",
       "    </tr>\n",
       "    <tr>\n",
       "      <th>Algeria</th>\n",
       "      <td>0.385</td>\n",
       "      <td>0.395</td>\n",
       "      <td>0.405</td>\n",
       "      <td>0.414</td>\n",
       "      <td>0.424</td>\n",
       "      <td>0.431</td>\n",
       "      <td>0.443</td>\n",
       "      <td>0.458</td>\n",
       "      <td>0.473</td>\n",
       "      <td>0.487</td>\n",
       "      <td>...</td>\n",
       "      <td>0.588</td>\n",
       "      <td>0.608</td>\n",
       "      <td>0.626</td>\n",
       "      <td>0.644</td>\n",
       "      <td>0.652</td>\n",
       "      <td>0.660</td>\n",
       "      <td>0.661</td>\n",
       "      <td>0.662</td>\n",
       "      <td>0.663</td>\n",
       "      <td>0.664</td>\n",
       "    </tr>\n",
       "    <tr>\n",
       "      <th>Andorra</th>\n",
       "      <td>NaN</td>\n",
       "      <td>NaN</td>\n",
       "      <td>NaN</td>\n",
       "      <td>NaN</td>\n",
       "      <td>NaN</td>\n",
       "      <td>NaN</td>\n",
       "      <td>NaN</td>\n",
       "      <td>NaN</td>\n",
       "      <td>NaN</td>\n",
       "      <td>NaN</td>\n",
       "      <td>...</td>\n",
       "      <td>0.661</td>\n",
       "      <td>0.661</td>\n",
       "      <td>0.662</td>\n",
       "      <td>0.663</td>\n",
       "      <td>0.715</td>\n",
       "      <td>0.715</td>\n",
       "      <td>0.716</td>\n",
       "      <td>0.715</td>\n",
       "      <td>0.714</td>\n",
       "      <td>0.714</td>\n",
       "    </tr>\n",
       "    <tr>\n",
       "      <th>Angola</th>\n",
       "      <td>NaN</td>\n",
       "      <td>NaN</td>\n",
       "      <td>NaN</td>\n",
       "      <td>NaN</td>\n",
       "      <td>NaN</td>\n",
       "      <td>NaN</td>\n",
       "      <td>NaN</td>\n",
       "      <td>NaN</td>\n",
       "      <td>NaN</td>\n",
       "      <td>0.276</td>\n",
       "      <td>...</td>\n",
       "      <td>0.390</td>\n",
       "      <td>0.404</td>\n",
       "      <td>0.398</td>\n",
       "      <td>0.423</td>\n",
       "      <td>0.435</td>\n",
       "      <td>0.447</td>\n",
       "      <td>0.460</td>\n",
       "      <td>0.472</td>\n",
       "      <td>0.487</td>\n",
       "      <td>0.498</td>\n",
       "    </tr>\n",
       "  </tbody>\n",
       "</table>\n",
       "<p>5 rows × 28 columns</p>\n",
       "</div>"
      ],
      "text/plain": [
       "               1990   1991   1992   1993   1994   1995   1996   1997   1998  \\\n",
       "Country                                                                       \n",
       " Afghanistan  0.122  0.133  0.145  0.156  0.168  0.179  0.190  0.202  0.213   \n",
       " Albania      0.584  0.589  0.558  0.543  0.542  0.551  0.558  0.571  0.580   \n",
       " Algeria      0.385  0.395  0.405  0.414  0.424  0.431  0.443  0.458  0.473   \n",
       " Andorra        NaN    NaN    NaN    NaN    NaN    NaN    NaN    NaN    NaN   \n",
       " Angola         NaN    NaN    NaN    NaN    NaN    NaN    NaN    NaN    NaN   \n",
       "\n",
       "               1999  ...     2008   2009   2010   2011   2012   2013   2014  \\\n",
       "Country              ...                                                      \n",
       " Afghanistan  0.224  ...    0.347  0.359  0.371  0.382  0.390  0.398  0.406   \n",
       " Albania      0.586  ...    0.646  0.652  0.673  0.693  0.730  0.732  0.733   \n",
       " Algeria      0.487  ...    0.588  0.608  0.626  0.644  0.652  0.660  0.661   \n",
       " Andorra        NaN  ...    0.661  0.661  0.662  0.663  0.715  0.715  0.716   \n",
       " Angola       0.276  ...    0.390  0.404  0.398  0.423  0.435  0.447  0.460   \n",
       "\n",
       "               2015   2016   2017  \n",
       "Country                            \n",
       " Afghanistan  0.410  0.410  0.415  \n",
       " Albania      0.733  0.742  0.745  \n",
       " Algeria      0.662  0.663  0.664  \n",
       " Andorra      0.715  0.714  0.714  \n",
       " Angola       0.472  0.487  0.498  \n",
       "\n",
       "[5 rows x 28 columns]"
      ]
     },
     "execution_count": 29,
     "metadata": {},
     "output_type": "execute_result"
    }
   ],
   "source": [
    "years = [str(item) for item in list(range(1990, 2018))] + ['Country']\n",
    "df_education = pd.read_csv(\"datasets/Education Index.csv\",  encoding = \"ISO-8859-1\", skiprows=1, usecols=years).set_index(\"Country\", drop = True)\n",
    "df_education.head(5)"
   ]
  },
  {
   "cell_type": "markdown",
   "metadata": {},
   "source": [
    "# Brasil"
   ]
  },
  {
   "cell_type": "markdown",
   "metadata": {},
   "source": [
    "## Pop Carcerária BRASIL"
   ]
  },
  {
   "cell_type": "code",
   "execution_count": 82,
   "metadata": {
    "collapsed": false
   },
   "outputs": [
    {
     "data": {
      "text/html": [
       "<div>\n",
       "<table border=\"1\" class=\"dataframe\">\n",
       "  <thead>\n",
       "    <tr style=\"text-align: right;\">\n",
       "      <th></th>\n",
       "      <th>2000</th>\n",
       "      <th>2002</th>\n",
       "      <th>2004</th>\n",
       "      <th>2006</th>\n",
       "      <th>2008</th>\n",
       "      <th>2010</th>\n",
       "      <th>2012</th>\n",
       "      <th>2014</th>\n",
       "      <th>2016</th>\n",
       "    </tr>\n",
       "    <tr>\n",
       "      <th>Country</th>\n",
       "      <th></th>\n",
       "      <th></th>\n",
       "      <th></th>\n",
       "      <th></th>\n",
       "      <th></th>\n",
       "      <th></th>\n",
       "      <th></th>\n",
       "      <th></th>\n",
       "      <th></th>\n",
       "    </tr>\n",
       "  </thead>\n",
       "  <tbody>\n",
       "    <tr>\n",
       "      <th>Brazil</th>\n",
       "      <td>232.775</td>\n",
       "      <td>239.345</td>\n",
       "      <td>336.358</td>\n",
       "      <td>401.236</td>\n",
       "      <td>451.429</td>\n",
       "      <td>496.251</td>\n",
       "      <td>548.003</td>\n",
       "      <td>622.202</td>\n",
       "      <td>726.712</td>\n",
       "    </tr>\n",
       "  </tbody>\n",
       "</table>\n",
       "</div>"
      ],
      "text/plain": [
       "            2000     2002     2004     2006     2008     2010     2012  \\\n",
       "Country                                                                  \n",
       "Brazil   232.775  239.345  336.358  401.236  451.429  496.251  548.003   \n",
       "\n",
       "            2014     2016  \n",
       "Country                    \n",
       "Brazil   622.202  726.712  "
      ]
     },
     "execution_count": 82,
     "metadata": {},
     "output_type": "execute_result"
    }
   ],
   "source": [
    "df_prison = pd.read_csv(\"datasets/pop_carceraria_brasil.csv\",  encoding = \"ISO-8859-1\").set_index(\"Country\", drop = True)\n",
    "df_prison.head(10)"
   ]
  },
  {
   "cell_type": "markdown",
   "metadata": {},
   "source": [
    "Preenchendo dados que faltam com média"
   ]
  },
  {
   "cell_type": "code",
   "execution_count": 83,
   "metadata": {
    "collapsed": false
   },
   "outputs": [
    {
     "data": {
      "text/html": [
       "<div>\n",
       "<table border=\"1\" class=\"dataframe\">\n",
       "  <thead>\n",
       "    <tr style=\"text-align: right;\">\n",
       "      <th></th>\n",
       "      <th>2000</th>\n",
       "      <th>2001</th>\n",
       "      <th>2002</th>\n",
       "      <th>2003</th>\n",
       "      <th>2004</th>\n",
       "      <th>2005</th>\n",
       "      <th>2006</th>\n",
       "      <th>2007</th>\n",
       "      <th>2008</th>\n",
       "      <th>2009</th>\n",
       "      <th>2010</th>\n",
       "      <th>2011</th>\n",
       "      <th>2012</th>\n",
       "      <th>2013</th>\n",
       "      <th>2014</th>\n",
       "      <th>2015</th>\n",
       "      <th>2016</th>\n",
       "    </tr>\n",
       "    <tr>\n",
       "      <th>Country</th>\n",
       "      <th></th>\n",
       "      <th></th>\n",
       "      <th></th>\n",
       "      <th></th>\n",
       "      <th></th>\n",
       "      <th></th>\n",
       "      <th></th>\n",
       "      <th></th>\n",
       "      <th></th>\n",
       "      <th></th>\n",
       "      <th></th>\n",
       "      <th></th>\n",
       "      <th></th>\n",
       "      <th></th>\n",
       "      <th></th>\n",
       "      <th></th>\n",
       "      <th></th>\n",
       "    </tr>\n",
       "  </thead>\n",
       "  <tbody>\n",
       "    <tr>\n",
       "      <th>Brazil</th>\n",
       "      <td>232.775</td>\n",
       "      <td>236.06</td>\n",
       "      <td>239.345</td>\n",
       "      <td>287.8515</td>\n",
       "      <td>336.358</td>\n",
       "      <td>368.797</td>\n",
       "      <td>401.236</td>\n",
       "      <td>426.3325</td>\n",
       "      <td>451.429</td>\n",
       "      <td>473.84</td>\n",
       "      <td>496.251</td>\n",
       "      <td>522.127</td>\n",
       "      <td>548.003</td>\n",
       "      <td>585.1025</td>\n",
       "      <td>622.202</td>\n",
       "      <td>674.457</td>\n",
       "      <td>726.712</td>\n",
       "    </tr>\n",
       "  </tbody>\n",
       "</table>\n",
       "</div>"
      ],
      "text/plain": [
       "            2000    2001     2002      2003     2004     2005     2006  \\\n",
       "Country                                                                  \n",
       "Brazil   232.775  236.06  239.345  287.8515  336.358  368.797  401.236   \n",
       "\n",
       "             2007     2008    2009     2010     2011     2012      2013  \\\n",
       "Country                                                                   \n",
       "Brazil   426.3325  451.429  473.84  496.251  522.127  548.003  585.1025   \n",
       "\n",
       "            2014     2015     2016  \n",
       "Country                             \n",
       "Brazil   622.202  674.457  726.712  "
      ]
     },
     "execution_count": 83,
     "metadata": {},
     "output_type": "execute_result"
    }
   ],
   "source": [
    "df_prison.insert(1, '2001', (df_prison['2000'] + df_prison['2002'])/2)\n",
    "df_prison.insert(3, '2003', (df_prison['2002'] + df_prison['2004'])/2)\n",
    "df_prison.insert(5, '2005', (df_prison['2004'] + df_prison['2006'])/2)\n",
    "df_prison.insert(7, '2007', (df_prison['2006'] + df_prison['2008'])/2)\n",
    "df_prison.insert(9, '2009', (df_prison['2008'] + df_prison['2010'])/2)\n",
    "df_prison.insert(11, '2011', (df_prison['2010'] + df_prison['2012'])/2)\n",
    "df_prison.insert(13, '2013', (df_prison['2012'] + df_prison['2014'])/2)\n",
    "df_prison.insert(15, '2015', (df_prison['2014'] + df_prison['2016'])/2)\n",
    "df_prison.head()"
   ]
  },
  {
   "cell_type": "code",
   "execution_count": 84,
   "metadata": {
    "collapsed": false
   },
   "outputs": [
    {
     "data": {
      "text/plain": [
       "2000    232.7750\n",
       "2001    236.0600\n",
       "2002    239.3450\n",
       "2003    287.8515\n",
       "2004    336.3580\n",
       "2005    368.7970\n",
       "2006    401.2360\n",
       "2007    426.3325\n",
       "2008    451.4290\n",
       "2009    473.8400\n",
       "2010    496.2510\n",
       "2011    522.1270\n",
       "2012    548.0030\n",
       "2013    585.1025\n",
       "2014    622.2020\n",
       "2015    674.4570\n",
       "2016    726.7120\n",
       "Name: Brazil, dtype: float64"
      ]
     },
     "execution_count": 84,
     "metadata": {},
     "output_type": "execute_result"
    }
   ],
   "source": [
    "df_prison_brazil = df_prison.loc[\"Brazil\", : ]\n",
    "df_prison_brazil"
   ]
  },
  {
   "cell_type": "markdown",
   "metadata": {
    "collapsed": true
   },
   "source": [
    "## Educação BRASIL"
   ]
  },
  {
   "cell_type": "code",
   "execution_count": 71,
   "metadata": {
    "collapsed": false
   },
   "outputs": [
    {
     "data": {
      "text/plain": [
       "1990    0.463\n",
       "1991    0.475\n",
       "1992    0.487\n",
       "1993    0.499\n",
       "1994    0.511\n",
       "1995    0.523\n",
       "1996    0.535\n",
       "1997    0.547\n",
       "1998    0.559\n",
       "1999    0.572\n",
       "2000    0.584\n",
       "2001    0.597\n",
       "2002    0.610\n",
       "2003    0.595\n",
       "2004    0.593\n",
       "2005    0.593\n",
       "2006    0.589\n",
       "2007    0.588\n",
       "2008    0.608\n",
       "2009    0.610\n",
       "2010    0.619\n",
       "2011    0.622\n",
       "2012    0.630\n",
       "2013    0.655\n",
       "2014    0.664\n",
       "2015    0.680\n",
       "2016    0.686\n",
       "2017    0.686\n",
       "Name:  Brazil, dtype: float64"
      ]
     },
     "execution_count": 71,
     "metadata": {},
     "output_type": "execute_result"
    }
   ],
   "source": [
    "df_education_brazil = df_education.loc[\" Brazil\", :]\n",
    "df_education_brazil"
   ]
  },
  {
   "cell_type": "markdown",
   "metadata": {},
   "source": [
    "## Desigualdade BRASIL"
   ]
  },
  {
   "cell_type": "code",
   "execution_count": 87,
   "metadata": {
    "collapsed": false
   },
   "outputs": [
    {
     "data": {
      "text/plain": [
       "2010    26.6\n",
       "2011    26.9\n",
       "2012    26.5\n",
       "2013    26.3\n",
       "2014    25.6\n",
       "2015    25.0\n",
       "2016    23.6\n",
       "2017    23.2\n",
       "Name:  Brazil, dtype: float64"
      ]
     },
     "execution_count": 87,
     "metadata": {},
     "output_type": "execute_result"
    }
   ],
   "source": [
    "df_ineq_brazil = df_inequality.loc[\" Brazil\", :]\n",
    "df_ineq_brazil"
   ]
  },
  {
   "cell_type": "markdown",
   "metadata": {},
   "source": [
    "# Correlação entre educação e pop carcerária"
   ]
  },
  {
   "cell_type": "markdown",
   "metadata": {},
   "source": [
    "## Prever 2016 usando dados de 2000 até 2015 "
   ]
  },
  {
   "cell_type": "code",
   "execution_count": null,
   "metadata": {
    "collapsed": false
   },
   "outputs": [],
   "source": []
  },
  {
   "cell_type": "code",
   "execution_count": 98,
   "metadata": {
    "collapsed": false
   },
   "outputs": [
    {
     "data": {
      "text/html": [
       "<div>\n",
       "<table border=\"1\" class=\"dataframe\">\n",
       "  <thead>\n",
       "    <tr style=\"text-align: right;\">\n",
       "      <th></th>\n",
       "      <th>x</th>\n",
       "      <th>y</th>\n",
       "    </tr>\n",
       "  </thead>\n",
       "  <tbody>\n",
       "    <tr>\n",
       "      <th>0</th>\n",
       "      <td>0.584</td>\n",
       "      <td>232.7750</td>\n",
       "    </tr>\n",
       "    <tr>\n",
       "      <th>1</th>\n",
       "      <td>0.597</td>\n",
       "      <td>236.0600</td>\n",
       "    </tr>\n",
       "    <tr>\n",
       "      <th>2</th>\n",
       "      <td>0.610</td>\n",
       "      <td>239.3450</td>\n",
       "    </tr>\n",
       "    <tr>\n",
       "      <th>3</th>\n",
       "      <td>0.595</td>\n",
       "      <td>287.8515</td>\n",
       "    </tr>\n",
       "    <tr>\n",
       "      <th>4</th>\n",
       "      <td>0.593</td>\n",
       "      <td>336.3580</td>\n",
       "    </tr>\n",
       "    <tr>\n",
       "      <th>5</th>\n",
       "      <td>0.593</td>\n",
       "      <td>368.7970</td>\n",
       "    </tr>\n",
       "    <tr>\n",
       "      <th>6</th>\n",
       "      <td>0.589</td>\n",
       "      <td>401.2360</td>\n",
       "    </tr>\n",
       "    <tr>\n",
       "      <th>7</th>\n",
       "      <td>0.588</td>\n",
       "      <td>426.3325</td>\n",
       "    </tr>\n",
       "    <tr>\n",
       "      <th>8</th>\n",
       "      <td>0.608</td>\n",
       "      <td>451.4290</td>\n",
       "    </tr>\n",
       "    <tr>\n",
       "      <th>9</th>\n",
       "      <td>0.610</td>\n",
       "      <td>473.8400</td>\n",
       "    </tr>\n",
       "    <tr>\n",
       "      <th>10</th>\n",
       "      <td>0.619</td>\n",
       "      <td>496.2510</td>\n",
       "    </tr>\n",
       "    <tr>\n",
       "      <th>11</th>\n",
       "      <td>0.622</td>\n",
       "      <td>522.1270</td>\n",
       "    </tr>\n",
       "    <tr>\n",
       "      <th>12</th>\n",
       "      <td>0.630</td>\n",
       "      <td>548.0030</td>\n",
       "    </tr>\n",
       "    <tr>\n",
       "      <th>13</th>\n",
       "      <td>0.655</td>\n",
       "      <td>585.1025</td>\n",
       "    </tr>\n",
       "    <tr>\n",
       "      <th>14</th>\n",
       "      <td>0.664</td>\n",
       "      <td>622.2020</td>\n",
       "    </tr>\n",
       "    <tr>\n",
       "      <th>15</th>\n",
       "      <td>0.680</td>\n",
       "      <td>674.4570</td>\n",
       "    </tr>\n",
       "  </tbody>\n",
       "</table>\n",
       "</div>"
      ],
      "text/plain": [
       "        x         y\n",
       "0   0.584  232.7750\n",
       "1   0.597  236.0600\n",
       "2   0.610  239.3450\n",
       "3   0.595  287.8515\n",
       "4   0.593  336.3580\n",
       "5   0.593  368.7970\n",
       "6   0.589  401.2360\n",
       "7   0.588  426.3325\n",
       "8   0.608  451.4290\n",
       "9   0.610  473.8400\n",
       "10  0.619  496.2510\n",
       "11  0.622  522.1270\n",
       "12  0.630  548.0030\n",
       "13  0.655  585.1025\n",
       "14  0.664  622.2020\n",
       "15  0.680  674.4570"
      ]
     },
     "execution_count": 98,
     "metadata": {},
     "output_type": "execute_result"
    }
   ],
   "source": [
    "df = pd.DataFrame()\n",
    "# variavel preditora\n",
    "df['x'] = df_education.loc[\" Brazil\", '2000':'2015'].values\n",
    "# variavel alvo\n",
    "df['y'] = df_prison.loc[\"Brazil\", '2000':'2015'].values\n",
    "df.head(20)"
   ]
  },
  {
   "cell_type": "code",
   "execution_count": 101,
   "metadata": {
    "collapsed": false
   },
   "outputs": [
    {
     "data": {
      "text/plain": [
       "LinearRegression(copy_X=True, fit_intercept=True, n_jobs=1, normalize=False)"
      ]
     },
     "execution_count": 101,
     "metadata": {},
     "output_type": "execute_result"
    }
   ],
   "source": [
    "x_v = df[['x']]\n",
    "y_v = df[['y']]\n",
    "\n",
    "# criando e treinando o modelo\n",
    "model = LinearRegression()\n",
    "model.fit(x_v, y_v)"
   ]
  },
  {
   "cell_type": "code",
   "execution_count": 104,
   "metadata": {
    "collapsed": false
   },
   "outputs": [
    {
     "data": {
      "text/plain": [
       "array([[ 4062.45528682]])"
      ]
     },
     "execution_count": 104,
     "metadata": {},
     "output_type": "execute_result"
    }
   ],
   "source": [
    "# coeficientes encontrados\n",
    "model.coef_"
   ]
  },
  {
   "cell_type": "code",
   "execution_count": 107,
   "metadata": {
    "collapsed": false
   },
   "outputs": [
    {
     "data": {
      "text/plain": [
       "0.70576584243682183"
      ]
     },
     "execution_count": 107,
     "metadata": {},
     "output_type": "execute_result"
    }
   ],
   "source": [
    "model.score(x_v, y_v)"
   ]
  },
  {
   "cell_type": "code",
   "execution_count": 108,
   "metadata": {
    "collapsed": false
   },
   "outputs": [
    {
     "ename": "NameError",
     "evalue": "name 'X_sm' is not defined",
     "output_type": "error",
     "traceback": [
      "\u001b[0;31m---------------------------------------------------------------------------\u001b[0m",
      "\u001b[0;31mNameError\u001b[0m                                 Traceback (most recent call last)",
      "\u001b[0;32m<ipython-input-108-b3de5dc447fa>\u001b[0m in \u001b[0;36m<module>\u001b[0;34m()\u001b[0m\n\u001b[0;32m----> 1\u001b[0;31m \u001b[0mmodel\u001b[0m\u001b[1;33m.\u001b[0m\u001b[0mpredict\u001b[0m\u001b[1;33m(\u001b[0m\u001b[0mX_sm\u001b[0m\u001b[1;33m)\u001b[0m\u001b[1;33m\u001b[0m\u001b[0m\n\u001b[0m",
      "\u001b[0;31mNameError\u001b[0m: name 'X_sm' is not defined"
     ]
    }
   ],
   "source": []
  },
  {
   "cell_type": "code",
   "execution_count": null,
   "metadata": {
    "collapsed": true
   },
   "outputs": [],
   "source": []
  }
 ],
 "metadata": {
  "kernelspec": {
   "display_name": "Python 3",
   "language": "python",
   "name": "python3"
  },
  "language_info": {
   "codemirror_mode": {
    "name": "ipython",
    "version": 3
   },
   "file_extension": ".py",
   "mimetype": "text/x-python",
   "name": "python",
   "nbconvert_exporter": "python",
   "pygments_lexer": "ipython3",
   "version": "3.6.0"
  }
 },
 "nbformat": 4,
 "nbformat_minor": 2
}
