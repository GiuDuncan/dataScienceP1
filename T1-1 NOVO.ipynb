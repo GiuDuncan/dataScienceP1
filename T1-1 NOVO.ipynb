{
 "cells": [
  {
   "cell_type": "code",
   "execution_count": null,
   "metadata": {
    "collapsed": true
   },
   "outputs": [],
   "source": []
  },
  {
   "cell_type": "code",
   "execution_count": null,
   "metadata": {
    "collapsed": true
   },
   "outputs": [],
   "source": []
  },
  {
   "cell_type": "code",
   "execution_count": null,
   "metadata": {
    "collapsed": true
   },
   "outputs": [],
   "source": []
  },
  {
   "cell_type": "code",
   "execution_count": null,
   "metadata": {
    "collapsed": true
   },
   "outputs": [],
   "source": []
  },
  {
   "cell_type": "code",
   "execution_count": null,
   "metadata": {
    "collapsed": true
   },
   "outputs": [],
   "source": []
  },
  {
   "cell_type": "code",
   "execution_count": null,
   "metadata": {
    "collapsed": true
   },
   "outputs": [],
   "source": []
  },
  {
   "cell_type": "markdown",
   "metadata": {},
   "source": []
  },
  {
   "cell_type": "markdown",
   "metadata": {},
   "source": [
    "## SETUP"
   ]
  },
  {
   "cell_type": "code",
   "execution_count": 2,
   "metadata": {
    "collapsed": true
   },
   "outputs": [],
   "source": [
    "from IPython.display import display, Markdown, Latex\n",
    "import matplotlib\n",
    "import matplotlib.pyplot as plt\n",
    "import pandas as pd"
   ]
  },
  {
   "cell_type": "code",
   "execution_count": null,
   "metadata": {
    "collapsed": true
   },
   "outputs": [],
   "source": []
  },
  {
   "cell_type": "markdown",
   "metadata": {},
   "source": [
    "## BASES"
   ]
  },
  {
   "cell_type": "markdown",
   "metadata": {},
   "source": [
    "Base: https://data.worldbank.org/indicator/SN.ITK.DEFC.ZS"
   ]
  },
  {
   "cell_type": "code",
   "execution_count": 12,
   "metadata": {
    "collapsed": false
   },
   "outputs": [],
   "source": [
    "df = pd.read_csv('datasets/hunger.csv')"
   ]
  },
  {
   "cell_type": "code",
   "execution_count": 14,
   "metadata": {
    "collapsed": false
   },
   "outputs": [
    {
     "data": {
      "text/html": [
       "<div>\n",
       "<table border=\"1\" class=\"dataframe\">\n",
       "  <thead>\n",
       "    <tr style=\"text-align: right;\">\n",
       "      <th></th>\n",
       "      <th>Country Name</th>\n",
       "      <th>Country Code</th>\n",
       "      <th>Indicator Name</th>\n",
       "      <th>Indicator Code</th>\n",
       "      <th>1960</th>\n",
       "      <th>1961</th>\n",
       "      <th>1962</th>\n",
       "      <th>1963</th>\n",
       "      <th>1964</th>\n",
       "      <th>1965</th>\n",
       "      <th>...</th>\n",
       "      <th>2010</th>\n",
       "      <th>2011</th>\n",
       "      <th>2012</th>\n",
       "      <th>2013</th>\n",
       "      <th>2014</th>\n",
       "      <th>2015</th>\n",
       "      <th>2016</th>\n",
       "      <th>2017</th>\n",
       "      <th>2018</th>\n",
       "      <th>Unnamed: 63</th>\n",
       "    </tr>\n",
       "  </thead>\n",
       "  <tbody>\n",
       "    <tr>\n",
       "      <th>0</th>\n",
       "      <td>Aruba</td>\n",
       "      <td>ABW</td>\n",
       "      <td>Prevalence of undernourishment (% of population)</td>\n",
       "      <td>SN.ITK.DEFC.ZS</td>\n",
       "      <td>NaN</td>\n",
       "      <td>NaN</td>\n",
       "      <td>NaN</td>\n",
       "      <td>NaN</td>\n",
       "      <td>NaN</td>\n",
       "      <td>NaN</td>\n",
       "      <td>...</td>\n",
       "      <td>NaN</td>\n",
       "      <td>NaN</td>\n",
       "      <td>NaN</td>\n",
       "      <td>NaN</td>\n",
       "      <td>NaN</td>\n",
       "      <td>NaN</td>\n",
       "      <td>NaN</td>\n",
       "      <td>NaN</td>\n",
       "      <td>NaN</td>\n",
       "      <td>NaN</td>\n",
       "    </tr>\n",
       "    <tr>\n",
       "      <th>1</th>\n",
       "      <td>Afghanistan</td>\n",
       "      <td>AFG</td>\n",
       "      <td>Prevalence of undernourishment (% of population)</td>\n",
       "      <td>SN.ITK.DEFC.ZS</td>\n",
       "      <td>NaN</td>\n",
       "      <td>NaN</td>\n",
       "      <td>NaN</td>\n",
       "      <td>NaN</td>\n",
       "      <td>NaN</td>\n",
       "      <td>NaN</td>\n",
       "      <td>...</td>\n",
       "      <td>22.1</td>\n",
       "      <td>22.2</td>\n",
       "      <td>23.4</td>\n",
       "      <td>25.5</td>\n",
       "      <td>27.6</td>\n",
       "      <td>29.3</td>\n",
       "      <td>30.3</td>\n",
       "      <td>NaN</td>\n",
       "      <td>NaN</td>\n",
       "      <td>NaN</td>\n",
       "    </tr>\n",
       "    <tr>\n",
       "      <th>2</th>\n",
       "      <td>Angola</td>\n",
       "      <td>AGO</td>\n",
       "      <td>Prevalence of undernourishment (% of population)</td>\n",
       "      <td>SN.ITK.DEFC.ZS</td>\n",
       "      <td>NaN</td>\n",
       "      <td>NaN</td>\n",
       "      <td>NaN</td>\n",
       "      <td>NaN</td>\n",
       "      <td>NaN</td>\n",
       "      <td>NaN</td>\n",
       "      <td>...</td>\n",
       "      <td>40.4</td>\n",
       "      <td>38.2</td>\n",
       "      <td>35.1</td>\n",
       "      <td>30.8</td>\n",
       "      <td>27.0</td>\n",
       "      <td>24.8</td>\n",
       "      <td>23.9</td>\n",
       "      <td>NaN</td>\n",
       "      <td>NaN</td>\n",
       "      <td>NaN</td>\n",
       "    </tr>\n",
       "    <tr>\n",
       "      <th>3</th>\n",
       "      <td>Albania</td>\n",
       "      <td>ALB</td>\n",
       "      <td>Prevalence of undernourishment (% of population)</td>\n",
       "      <td>SN.ITK.DEFC.ZS</td>\n",
       "      <td>NaN</td>\n",
       "      <td>NaN</td>\n",
       "      <td>NaN</td>\n",
       "      <td>NaN</td>\n",
       "      <td>NaN</td>\n",
       "      <td>NaN</td>\n",
       "      <td>...</td>\n",
       "      <td>7.4</td>\n",
       "      <td>6.6</td>\n",
       "      <td>6.0</td>\n",
       "      <td>5.7</td>\n",
       "      <td>5.5</td>\n",
       "      <td>5.5</td>\n",
       "      <td>5.5</td>\n",
       "      <td>NaN</td>\n",
       "      <td>NaN</td>\n",
       "      <td>NaN</td>\n",
       "    </tr>\n",
       "    <tr>\n",
       "      <th>4</th>\n",
       "      <td>Andorra</td>\n",
       "      <td>AND</td>\n",
       "      <td>Prevalence of undernourishment (% of population)</td>\n",
       "      <td>SN.ITK.DEFC.ZS</td>\n",
       "      <td>NaN</td>\n",
       "      <td>NaN</td>\n",
       "      <td>NaN</td>\n",
       "      <td>NaN</td>\n",
       "      <td>NaN</td>\n",
       "      <td>NaN</td>\n",
       "      <td>...</td>\n",
       "      <td>NaN</td>\n",
       "      <td>NaN</td>\n",
       "      <td>NaN</td>\n",
       "      <td>NaN</td>\n",
       "      <td>NaN</td>\n",
       "      <td>NaN</td>\n",
       "      <td>NaN</td>\n",
       "      <td>NaN</td>\n",
       "      <td>NaN</td>\n",
       "      <td>NaN</td>\n",
       "    </tr>\n",
       "  </tbody>\n",
       "</table>\n",
       "<p>5 rows × 64 columns</p>\n",
       "</div>"
      ],
      "text/plain": [
       "  Country Name Country Code                                    Indicator Name  \\\n",
       "0        Aruba          ABW  Prevalence of undernourishment (% of population)   \n",
       "1  Afghanistan          AFG  Prevalence of undernourishment (% of population)   \n",
       "2       Angola          AGO  Prevalence of undernourishment (% of population)   \n",
       "3      Albania          ALB  Prevalence of undernourishment (% of population)   \n",
       "4      Andorra          AND  Prevalence of undernourishment (% of population)   \n",
       "\n",
       "   Indicator Code  1960  1961  1962  1963  1964  1965     ...       2010  \\\n",
       "0  SN.ITK.DEFC.ZS   NaN   NaN   NaN   NaN   NaN   NaN     ...        NaN   \n",
       "1  SN.ITK.DEFC.ZS   NaN   NaN   NaN   NaN   NaN   NaN     ...       22.1   \n",
       "2  SN.ITK.DEFC.ZS   NaN   NaN   NaN   NaN   NaN   NaN     ...       40.4   \n",
       "3  SN.ITK.DEFC.ZS   NaN   NaN   NaN   NaN   NaN   NaN     ...        7.4   \n",
       "4  SN.ITK.DEFC.ZS   NaN   NaN   NaN   NaN   NaN   NaN     ...        NaN   \n",
       "\n",
       "   2011  2012  2013  2014  2015  2016  2017  2018  Unnamed: 63  \n",
       "0   NaN   NaN   NaN   NaN   NaN   NaN   NaN   NaN          NaN  \n",
       "1  22.2  23.4  25.5  27.6  29.3  30.3   NaN   NaN          NaN  \n",
       "2  38.2  35.1  30.8  27.0  24.8  23.9   NaN   NaN          NaN  \n",
       "3   6.6   6.0   5.7   5.5   5.5   5.5   NaN   NaN          NaN  \n",
       "4   NaN   NaN   NaN   NaN   NaN   NaN   NaN   NaN          NaN  \n",
       "\n",
       "[5 rows x 64 columns]"
      ]
     },
     "execution_count": 14,
     "metadata": {},
     "output_type": "execute_result"
    }
   ],
   "source": [
    "df.head(5)"
   ]
  },
  {
   "cell_type": "code",
   "execution_count": 22,
   "metadata": {
    "collapsed": false
   },
   "outputs": [
    {
     "data": {
      "text/plain": [
       "Country Name       object\n",
       "Country Code       object\n",
       "Indicator Name     object\n",
       "Indicator Code     object\n",
       "1960              float64\n",
       "1961              float64\n",
       "1962              float64\n",
       "1963              float64\n",
       "1964              float64\n",
       "1965              float64\n",
       "1966              float64\n",
       "1967              float64\n",
       "1968              float64\n",
       "1969              float64\n",
       "1970              float64\n",
       "1971              float64\n",
       "1972              float64\n",
       "1973              float64\n",
       "1974              float64\n",
       "1975              float64\n",
       "1976              float64\n",
       "1977              float64\n",
       "1978              float64\n",
       "1979              float64\n",
       "1980              float64\n",
       "1981              float64\n",
       "1982              float64\n",
       "1983              float64\n",
       "1984              float64\n",
       "1985              float64\n",
       "                   ...   \n",
       "1990              float64\n",
       "1991              float64\n",
       "1992              float64\n",
       "1993              float64\n",
       "1994              float64\n",
       "1995              float64\n",
       "1996              float64\n",
       "1997              float64\n",
       "1998              float64\n",
       "1999              float64\n",
       "2000              float64\n",
       "2001              float64\n",
       "2002              float64\n",
       "2003              float64\n",
       "2004              float64\n",
       "2005              float64\n",
       "2006              float64\n",
       "2007              float64\n",
       "2008              float64\n",
       "2009              float64\n",
       "2010              float64\n",
       "2011              float64\n",
       "2012              float64\n",
       "2013              float64\n",
       "2014              float64\n",
       "2015              float64\n",
       "2016              float64\n",
       "2017              float64\n",
       "2018              float64\n",
       "Unnamed: 63       float64\n",
       "dtype: object"
      ]
     },
     "execution_count": 22,
     "metadata": {},
     "output_type": "execute_result"
    }
   ],
   "source": [
    "df.dtypes"
   ]
  },
  {
   "cell_type": "code",
   "execution_count": null,
   "metadata": {
    "collapsed": false
   },
   "outputs": [],
   "source": []
  },
  {
   "cell_type": "code",
   "execution_count": null,
   "metadata": {
    "collapsed": true
   },
   "outputs": [],
   "source": []
  },
  {
   "cell_type": "code",
   "execution_count": null,
   "metadata": {
    "collapsed": true
   },
   "outputs": [],
   "source": []
  }
 ],
 "metadata": {
  "kernelspec": {
   "display_name": "Python 3",
   "language": "python",
   "name": "python3"
  },
  "language_info": {
   "codemirror_mode": {
    "name": "ipython",
    "version": 3
   },
   "file_extension": ".py",
   "mimetype": "text/x-python",
   "name": "python",
   "nbconvert_exporter": "python",
   "pygments_lexer": "ipython3",
   "version": "3.6.0"
  }
 },
 "nbformat": 4,
 "nbformat_minor": 2
}
