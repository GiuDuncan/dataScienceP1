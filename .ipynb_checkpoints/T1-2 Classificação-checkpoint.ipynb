{
 "cells": [
  {
   "cell_type": "markdown",
   "metadata": {},
   "source": [
    "# T1.2"
   ]
  },
  {
   "cell_type": "markdown",
   "metadata": {
    "collapsed": true
   },
   "source": [
    "## Integrantes:\n",
    "\n",
    "* Giulia Duncan Coutinho - 1410398\n",
    "* Matheus Falcão - 1410962\n",
    "* Igor Vieira - 1410492"
   ]
  },
  {
   "cell_type": "markdown",
   "metadata": {},
   "source": [
    "# Parkinson Dataset\n",
    "\n",
    "# **Matrix column entries (attributes):**\n",
    "\n",
    "name - ASCII subject name and recording number\n",
    "\n",
    "1. MDVP:Fo(Hz) - Average vocal fundamental frequency\n",
    "2. MDVP:Fhi(Hz) - Maximum vocal fundamental frequency\n",
    "3. MDVP:Flo(Hz) - Minimum vocal fundamental frequency\n",
    "4. MDVP:Jitter(%),\n",
    "5. MDVP:Jitter(Abs),\n",
    "6. MDVP:RAP,\n",
    "7. MDVP:PPQ,\n",
    "8. Jitter:DDP\n",
    "\n",
    "Several \n",
    "measures of variation in fundamental frequency\n",
    "9. MDVP:Shimmer,\n",
    "10. MDVP:Shimmer(dB),\n",
    "11. Shimmer:APQ3,\n",
    "12. Shimmer:APQ5,\n",
    "13. MDVP:APQ,\n",
    "14. Shimmer:DDA\n",
    "\n",
    "Several measures of variation in amplitude\n",
    "\n",
    "15. NHR,\n",
    "16. HNR \n",
    "\n",
    "Two measures of ratio of noise to tonal components in the voice\n",
    "17. status\n",
    "\n",
    "Health status of the subject (one) - Parkinson's, (zero) - healthy\n",
    "18. RPDE,             D2 - Two nonlinear dynamical complexity measures\n",
    "19. DFA                Signal fractal scaling exponent\n",
    "20. spread1,\n",
    "21. spread2,\n",
    "22. PPE                Three nonlinear measures of fundamental frequency variation "
   ]
  },
  {
   "cell_type": "code",
   "execution_count": 40,
   "metadata": {},
   "outputs": [],
   "source": [
    "import pandas as pd\n",
    "import numpy as np\n",
    "import matplotlib.pyplot as plt\n",
    "import seaborn as sns\n",
    "from sklearn import metrics\n",
    "from sklearn.cluster import KMeans\n",
    "from sklearn.datasets import load_digits\n",
    "from sklearn.decomposition import PCA\n",
    "from sklearn.preprocessing import scale\n",
    "from time import time\n",
    "import random\n",
    "import warnings\n",
    "warnings.filterwarnings('ignore')"
   ]
  },
  {
   "cell_type": "markdown",
   "metadata": {},
   "source": [
    "# Seed"
   ]
  },
  {
   "cell_type": "code",
   "execution_count": 41,
   "metadata": {},
   "outputs": [],
   "source": [
    "seed = 1289302\n",
    "random.seed(seed)"
   ]
  },
  {
   "cell_type": "markdown",
   "metadata": {},
   "source": [
    "# Plot configuration"
   ]
  },
  {
   "cell_type": "code",
   "execution_count": 42,
   "metadata": {},
   "outputs": [],
   "source": [
    "%matplotlib inline \n",
    "plt.rc('font', family='Arial')\n",
    "plt.rc('xtick', labelsize=12) \n",
    "plt.rc('ytick', labelsize=12) \n",
    "plt.rc('font', size=12) \n",
    "plt.rc('figure', figsize = (12, 5))"
   ]
  },
  {
   "cell_type": "markdown",
   "metadata": {},
   "source": [
    "# Pegando o dataset"
   ]
  },
  {
   "cell_type": "code",
   "execution_count": 43,
   "metadata": {},
   "outputs": [
    {
     "name": "stdout",
     "output_type": "stream",
     "text": [
      "(195, 24)\n",
      "Index(['name', 'MDVP:Fo(Hz)', 'MDVP:Fhi(Hz)', 'MDVP:Flo(Hz)', 'MDVP:Jitter(%)',\n",
      "       'MDVP:Jitter(Abs)', 'MDVP:RAP', 'MDVP:PPQ', 'Jitter:DDP',\n",
      "       'MDVP:Shimmer', 'MDVP:Shimmer(dB)', 'Shimmer:APQ3', 'Shimmer:APQ5',\n",
      "       'MDVP:APQ', 'Shimmer:DDA', 'NHR', 'HNR', 'status', 'RPDE', 'DFA',\n",
      "       'spread1', 'spread2', 'D2', 'PPE'],\n",
      "      dtype='object')\n"
     ]
    },
    {
     "data": {
      "text/html": [
       "<div>\n",
       "<style scoped>\n",
       "    .dataframe tbody tr th:only-of-type {\n",
       "        vertical-align: middle;\n",
       "    }\n",
       "\n",
       "    .dataframe tbody tr th {\n",
       "        vertical-align: top;\n",
       "    }\n",
       "\n",
       "    .dataframe thead th {\n",
       "        text-align: right;\n",
       "    }\n",
       "</style>\n",
       "<table border=\"1\" class=\"dataframe\">\n",
       "  <thead>\n",
       "    <tr style=\"text-align: right;\">\n",
       "      <th></th>\n",
       "      <th>name</th>\n",
       "      <th>MDVP:Fo(Hz)</th>\n",
       "      <th>MDVP:Fhi(Hz)</th>\n",
       "      <th>MDVP:Flo(Hz)</th>\n",
       "      <th>MDVP:Jitter(%)</th>\n",
       "      <th>MDVP:Jitter(Abs)</th>\n",
       "      <th>MDVP:RAP</th>\n",
       "      <th>MDVP:PPQ</th>\n",
       "      <th>Jitter:DDP</th>\n",
       "      <th>MDVP:Shimmer</th>\n",
       "      <th>...</th>\n",
       "      <th>Shimmer:DDA</th>\n",
       "      <th>NHR</th>\n",
       "      <th>HNR</th>\n",
       "      <th>status</th>\n",
       "      <th>RPDE</th>\n",
       "      <th>DFA</th>\n",
       "      <th>spread1</th>\n",
       "      <th>spread2</th>\n",
       "      <th>D2</th>\n",
       "      <th>PPE</th>\n",
       "    </tr>\n",
       "  </thead>\n",
       "  <tbody>\n",
       "    <tr>\n",
       "      <th>0</th>\n",
       "      <td>phon_R01_S01_1</td>\n",
       "      <td>119.992</td>\n",
       "      <td>157.302</td>\n",
       "      <td>74.997</td>\n",
       "      <td>0.00784</td>\n",
       "      <td>0.00007</td>\n",
       "      <td>0.00370</td>\n",
       "      <td>0.00554</td>\n",
       "      <td>0.01109</td>\n",
       "      <td>0.04374</td>\n",
       "      <td>...</td>\n",
       "      <td>0.06545</td>\n",
       "      <td>0.02211</td>\n",
       "      <td>21.033</td>\n",
       "      <td>1</td>\n",
       "      <td>0.414783</td>\n",
       "      <td>0.815285</td>\n",
       "      <td>-4.813031</td>\n",
       "      <td>0.266482</td>\n",
       "      <td>2.301442</td>\n",
       "      <td>0.284654</td>\n",
       "    </tr>\n",
       "    <tr>\n",
       "      <th>1</th>\n",
       "      <td>phon_R01_S01_2</td>\n",
       "      <td>122.400</td>\n",
       "      <td>148.650</td>\n",
       "      <td>113.819</td>\n",
       "      <td>0.00968</td>\n",
       "      <td>0.00008</td>\n",
       "      <td>0.00465</td>\n",
       "      <td>0.00696</td>\n",
       "      <td>0.01394</td>\n",
       "      <td>0.06134</td>\n",
       "      <td>...</td>\n",
       "      <td>0.09403</td>\n",
       "      <td>0.01929</td>\n",
       "      <td>19.085</td>\n",
       "      <td>1</td>\n",
       "      <td>0.458359</td>\n",
       "      <td>0.819521</td>\n",
       "      <td>-4.075192</td>\n",
       "      <td>0.335590</td>\n",
       "      <td>2.486855</td>\n",
       "      <td>0.368674</td>\n",
       "    </tr>\n",
       "    <tr>\n",
       "      <th>2</th>\n",
       "      <td>phon_R01_S01_3</td>\n",
       "      <td>116.682</td>\n",
       "      <td>131.111</td>\n",
       "      <td>111.555</td>\n",
       "      <td>0.01050</td>\n",
       "      <td>0.00009</td>\n",
       "      <td>0.00544</td>\n",
       "      <td>0.00781</td>\n",
       "      <td>0.01633</td>\n",
       "      <td>0.05233</td>\n",
       "      <td>...</td>\n",
       "      <td>0.08270</td>\n",
       "      <td>0.01309</td>\n",
       "      <td>20.651</td>\n",
       "      <td>1</td>\n",
       "      <td>0.429895</td>\n",
       "      <td>0.825288</td>\n",
       "      <td>-4.443179</td>\n",
       "      <td>0.311173</td>\n",
       "      <td>2.342259</td>\n",
       "      <td>0.332634</td>\n",
       "    </tr>\n",
       "    <tr>\n",
       "      <th>3</th>\n",
       "      <td>phon_R01_S01_4</td>\n",
       "      <td>116.676</td>\n",
       "      <td>137.871</td>\n",
       "      <td>111.366</td>\n",
       "      <td>0.00997</td>\n",
       "      <td>0.00009</td>\n",
       "      <td>0.00502</td>\n",
       "      <td>0.00698</td>\n",
       "      <td>0.01505</td>\n",
       "      <td>0.05492</td>\n",
       "      <td>...</td>\n",
       "      <td>0.08771</td>\n",
       "      <td>0.01353</td>\n",
       "      <td>20.644</td>\n",
       "      <td>1</td>\n",
       "      <td>0.434969</td>\n",
       "      <td>0.819235</td>\n",
       "      <td>-4.117501</td>\n",
       "      <td>0.334147</td>\n",
       "      <td>2.405554</td>\n",
       "      <td>0.368975</td>\n",
       "    </tr>\n",
       "    <tr>\n",
       "      <th>4</th>\n",
       "      <td>phon_R01_S01_5</td>\n",
       "      <td>116.014</td>\n",
       "      <td>141.781</td>\n",
       "      <td>110.655</td>\n",
       "      <td>0.01284</td>\n",
       "      <td>0.00011</td>\n",
       "      <td>0.00655</td>\n",
       "      <td>0.00908</td>\n",
       "      <td>0.01966</td>\n",
       "      <td>0.06425</td>\n",
       "      <td>...</td>\n",
       "      <td>0.10470</td>\n",
       "      <td>0.01767</td>\n",
       "      <td>19.649</td>\n",
       "      <td>1</td>\n",
       "      <td>0.417356</td>\n",
       "      <td>0.823484</td>\n",
       "      <td>-3.747787</td>\n",
       "      <td>0.234513</td>\n",
       "      <td>2.332180</td>\n",
       "      <td>0.410335</td>\n",
       "    </tr>\n",
       "  </tbody>\n",
       "</table>\n",
       "<p>5 rows × 24 columns</p>\n",
       "</div>"
      ],
      "text/plain": [
       "             name  MDVP:Fo(Hz)  MDVP:Fhi(Hz)  MDVP:Flo(Hz)  MDVP:Jitter(%)  \\\n",
       "0  phon_R01_S01_1      119.992       157.302        74.997         0.00784   \n",
       "1  phon_R01_S01_2      122.400       148.650       113.819         0.00968   \n",
       "2  phon_R01_S01_3      116.682       131.111       111.555         0.01050   \n",
       "3  phon_R01_S01_4      116.676       137.871       111.366         0.00997   \n",
       "4  phon_R01_S01_5      116.014       141.781       110.655         0.01284   \n",
       "\n",
       "   MDVP:Jitter(Abs)  MDVP:RAP  MDVP:PPQ  Jitter:DDP  MDVP:Shimmer  ...  \\\n",
       "0           0.00007   0.00370   0.00554     0.01109       0.04374  ...   \n",
       "1           0.00008   0.00465   0.00696     0.01394       0.06134  ...   \n",
       "2           0.00009   0.00544   0.00781     0.01633       0.05233  ...   \n",
       "3           0.00009   0.00502   0.00698     0.01505       0.05492  ...   \n",
       "4           0.00011   0.00655   0.00908     0.01966       0.06425  ...   \n",
       "\n",
       "   Shimmer:DDA      NHR     HNR  status      RPDE       DFA   spread1  \\\n",
       "0      0.06545  0.02211  21.033       1  0.414783  0.815285 -4.813031   \n",
       "1      0.09403  0.01929  19.085       1  0.458359  0.819521 -4.075192   \n",
       "2      0.08270  0.01309  20.651       1  0.429895  0.825288 -4.443179   \n",
       "3      0.08771  0.01353  20.644       1  0.434969  0.819235 -4.117501   \n",
       "4      0.10470  0.01767  19.649       1  0.417356  0.823484 -3.747787   \n",
       "\n",
       "    spread2        D2       PPE  \n",
       "0  0.266482  2.301442  0.284654  \n",
       "1  0.335590  2.486855  0.368674  \n",
       "2  0.311173  2.342259  0.332634  \n",
       "3  0.334147  2.405554  0.368975  \n",
       "4  0.234513  2.332180  0.410335  \n",
       "\n",
       "[5 rows x 24 columns]"
      ]
     },
     "execution_count": 43,
     "metadata": {},
     "output_type": "execute_result"
    }
   ],
   "source": [
    "dfParkinson = pd.read_csv('parkinson.csv')\n",
    "print(dfParkinson.shape)\n",
    "print(dfParkinson.columns)\n",
    "dfParkinson.head()"
   ]
  },
  {
   "cell_type": "markdown",
   "metadata": {},
   "source": [
    "# Entendendo os tipos dos dados\n",
    "Os dados são em sua grande maioria números, oque facilita bastante"
   ]
  },
  {
   "cell_type": "code",
   "execution_count": 44,
   "metadata": {},
   "outputs": [
    {
     "name": "stdout",
     "output_type": "stream",
     "text": [
      "<class 'pandas.core.frame.DataFrame'>\n",
      "RangeIndex: 195 entries, 0 to 194\n",
      "Data columns (total 24 columns):\n",
      "name                195 non-null object\n",
      "MDVP:Fo(Hz)         195 non-null float64\n",
      "MDVP:Fhi(Hz)        195 non-null float64\n",
      "MDVP:Flo(Hz)        195 non-null float64\n",
      "MDVP:Jitter(%)      195 non-null float64\n",
      "MDVP:Jitter(Abs)    195 non-null float64\n",
      "MDVP:RAP            195 non-null float64\n",
      "MDVP:PPQ            195 non-null float64\n",
      "Jitter:DDP          195 non-null float64\n",
      "MDVP:Shimmer        195 non-null float64\n",
      "MDVP:Shimmer(dB)    195 non-null float64\n",
      "Shimmer:APQ3        195 non-null float64\n",
      "Shimmer:APQ5        195 non-null float64\n",
      "MDVP:APQ            195 non-null float64\n",
      "Shimmer:DDA         195 non-null float64\n",
      "NHR                 195 non-null float64\n",
      "HNR                 195 non-null float64\n",
      "status              195 non-null int64\n",
      "RPDE                195 non-null float64\n",
      "DFA                 195 non-null float64\n",
      "spread1             195 non-null float64\n",
      "spread2             195 non-null float64\n",
      "D2                  195 non-null float64\n",
      "PPE                 195 non-null float64\n",
      "dtypes: float64(22), int64(1), object(1)\n",
      "memory usage: 36.6+ KB\n"
     ]
    }
   ],
   "source": [
    "dfParkinson.info()"
   ]
  },
  {
   "cell_type": "markdown",
   "metadata": {},
   "source": [
    "O que queremos é de fato saber se a pessoa tem ou não parkinson. Essa informação é dada pelo atributo 'status' onde:\n",
    "\n",
    "0 -> não possui\n",
    "\n",
    "1 -> possui\n",
    "\n",
    "Sendo representado por tanto por healthy e Parkinson's respectivamente.\n",
    "No caso o dataset possui 48 pessoas saudáveis e 147 pessoas com Parkinson, oque é não é muito bom pois está bastante discrepante a distribuição. O ideal seria que a quantidade de amostras tivessem mais proximidade"
   ]
  },
  {
   "cell_type": "code",
   "execution_count": 45,
   "metadata": {},
   "outputs": [
    {
     "name": "stdout",
     "output_type": "stream",
     "text": [
      "Healthy quantity:  48\n",
      "Parkinson`s quantity:  147\n"
     ]
    }
   ],
   "source": [
    "outcome_column = 'status'\n",
    "# status: 0: healthy, 1: Parkinson's\n",
    "outcome_labels = {0: 'Healthy', 1:'Parkinson`s'}\n",
    "label_counts = np.bincount(dfParkinson.status)\n",
    "x = range(len(outcome_labels))\n",
    "y = list(label_counts)\n",
    "print(\"Healthy quantity: \", y[0])\n",
    "print(\"Parkinson`s quantity: \", y[1])"
   ]
  },
  {
   "cell_type": "markdown",
   "metadata": {},
   "source": [
    "# Plot quantidade de pessoas"
   ]
  },
  {
   "cell_type": "code",
   "execution_count": 46,
   "metadata": {},
   "outputs": [
    {
     "data": {
      "image/png": "[encoded data removed]",
      "text/plain": [
       "<Figure size 1080x288 with 1 Axes>"
      ]
     },
     "metadata": {
      "needs_background": "light"
     },
     "output_type": "display_data"
    }
   ],
   "source": [
    "fig = plt.figure(figsize=(15,4))\n",
    "plt.barh(x, y, height=0.7)\n",
    "plt.yticks(x, outcome_labels.values())\n",
    "fig.suptitle('Number of people per outcome')\n",
    "plt.show()"
   ]
  },
  {
   "cell_type": "markdown",
   "metadata": {},
   "source": [
    "Agora que já entendemos qual os tipos dos dados do dataset e tivemos uma visão geral sobre como está a distribuição dos dados em relação ao nosso objetivo, vamos definir quais os atributos serão utilizados para fazer a nossa predição.\n",
    "\n",
    "Nesse caso, removeremos apenas os campos de texto 'status' e 'name', o resto são campos numéricos que serão utilizados."
   ]
  },
  {
   "cell_type": "code",
   "execution_count": 47,
   "metadata": {},
   "outputs": [
    {
     "data": {
      "text/plain": [
       "['MDVP:Fo(Hz)',\n",
       " 'MDVP:Fhi(Hz)',\n",
       " 'MDVP:Flo(Hz)',\n",
       " 'MDVP:Jitter(%)',\n",
       " 'MDVP:Jitter(Abs)',\n",
       " 'MDVP:RAP',\n",
       " 'MDVP:PPQ',\n",
       " 'Jitter:DDP',\n",
       " 'MDVP:Shimmer',\n",
       " 'MDVP:Shimmer(dB)',\n",
       " 'Shimmer:APQ3',\n",
       " 'Shimmer:APQ5',\n",
       " 'MDVP:APQ',\n",
       " 'Shimmer:DDA',\n",
       " 'NHR',\n",
       " 'HNR',\n",
       " 'RPDE',\n",
       " 'DFA',\n",
       " 'spread1',\n",
       " 'spread2',\n",
       " 'D2',\n",
       " 'PPE']"
      ]
     },
     "execution_count": 47,
     "metadata": {},
     "output_type": "execute_result"
    }
   ],
   "source": [
    "features = [col for col in dfParkinson.columns if col not in ['name', 'status']]\n",
    "features"
   ]
  },
  {
   "cell_type": "markdown",
   "metadata": {},
   "source": [
    "# Separando os dados entre modelo de teste e modelo de treino\n",
    "\n",
    "com o test_size = 0.15 obtemos:\n",
    "\n",
    "Dados de treino:  165 165\n",
    "\n",
    "Dados de teste:  30 30"
   ]
  },
  {
   "cell_type": "code",
   "execution_count": 48,
   "metadata": {},
   "outputs": [
    {
     "name": "stdout",
     "output_type": "stream",
     "text": [
      "Dados de treino:  165 165\n",
      "Dados de teste:  30 30\n"
     ]
    }
   ],
   "source": [
    "from sklearn.model_selection import train_test_split\n",
    "\n",
    "# separando dados de treino e de teste (15% de teste)\n",
    "dfTrain, dfTest = train_test_split(dfParkinson, test_size=0.15, \n",
    "                                   stratify=dfParkinson[outcome_column],random_state=seed)\n",
    "\n",
    "# convertemos dataframe de features e labels em arrays\n",
    "X_train = np.array(dfTrain[features])\n",
    "Y_train = np.array(dfTrain[outcome_column])\n",
    "print(\"Dados de treino: \", X_train.shape[0], Y_train.shape[0])\n",
    "\n",
    "# convertemos dataframe de features e labels em arrays\n",
    "X_test = np.array(dfTest[features])\n",
    "Y_test = np.array(dfTest[outcome_column])\n",
    "\n",
    "# Imprimimos as dimensões das massas de teste\n",
    "print(\"Dados de teste: \", X_test.shape[0], Y_test.shape[0])"
   ]
  },
  {
   "cell_type": "markdown",
   "metadata": {},
   "source": [
    "Treinando o modelo K-nearest neighbor com 2 vizinhos"
   ]
  },
  {
   "cell_type": "code",
   "execution_count": 49,
   "metadata": {},
   "outputs": [],
   "source": [
    "from sklearn import neighbors\n",
    "from sklearn import datasets\n",
    "from sklearn import metrics\n",
    "\n",
    "# Create an instance of K-nearest neighbor classifier\n",
    "knn_model = neighbors.KNeighborsClassifier(n_neighbors=2)\n",
    "\n",
    "# Train the classifier with the train data\n",
    "knn_model.fit(X_train,Y_train)\n",
    "\n",
    "# Compute the prediction over the test data set according to the model\n",
    "Yhat = knn_model.predict(X_test)"
   ]
  },
  {
   "cell_type": "code",
   "execution_count": 51,
   "metadata": {},
   "outputs": [
    {
     "name": "stdout",
     "output_type": "stream",
     "text": [
      "Acuracia encontrada nos dados de treino: 0.9152\n",
      "Acuracia encontrada nos dados de teste: 0.8667\n"
     ]
    }
   ],
   "source": [
    "accuracy_train = knn_model.score(X_train, Y_train)\n",
    "print('Acuracia encontrada nos dados de treino:', '{:6.4f}'.format(accuracy_train))\n",
    "accuracy_test = knn_model.score(X_test, Y_test)\n",
    "print('Acuracia encontrada nos dados de teste:', '{:6.4f}'.format(accuracy_test))"
   ]
  },
  {
   "cell_type": "markdown",
   "metadata": {},
   "source": [
    "# Adicionando vizinhos"
   ]
  },
  {
   "cell_type": "code",
   "execution_count": 62,
   "metadata": {},
   "outputs": [
    {
     "name": "stdout",
     "output_type": "stream",
     "text": [
      "Dimensões de treino:  165 165\n",
      "Dimensões de teste:  30 30\n"
     ]
    }
   ],
   "source": [
    "dfParkinsonTrain, dfParkinsonTest = train_test_split(dfParkinson, test_size=0.15, stratify=dfParkinson[outcome_column],random_state=seed)\n",
    "\n",
    "# convert feature dataframe and label series to arrays\n",
    "X_train = np.array(dfParkinsonTrain[features])\n",
    "Y_train = np.array(dfParkinsonTrain[outcome_column])\n",
    "print(\"Dimensões de treino: \", X_train.shape[0], Y_train.shape[0])\n",
    "\n",
    "# convert feature dataframe and label series to arrays\n",
    "X_test = np.array(dfParkinsonTest[features])\n",
    "Y_test = np.array(dfParkinsonTest[outcome_column])\n",
    "print(\"Dimensões de teste: \", X_test.shape[0], Y_test.shape[0])\n",
    "\n",
    "#Create an instance of K-nearest neighbor classifier\n",
    "knn_model = neighbors.KNeighborsClassifier(n_neighbors=30)\n",
    "\n",
    "#Train the classifier\n",
    "knn_model.fit(X_train,Y_train)\n",
    "\n",
    "#Compute the prediction according to the model\n",
    "Yhat = knn_model.predict(X_test)"
   ]
  },
  {
   "cell_type": "code",
   "execution_count": 63,
   "metadata": {},
   "outputs": [
    {
     "name": "stdout",
     "output_type": "stream",
     "text": [
      "Acuracia encontrada nos dados de treino: 0.7636\n",
      "Acuracia encontrada nos dados de teste: 0.8000\n"
     ]
    }
   ],
   "source": [
    "accuracy_train = knn_model.score(X_train, Y_train)\n",
    "print('Acuracia encontrada nos dados de treino:', '{:6.4f}'.format(accuracy_train))\n",
    "accuracy_test = knn_model.score(X_test, Y_test)\n",
    "print('Acuracia encontrada nos dados de teste:', '{:6.4f}'.format(accuracy_test))"
   ]
  },
  {
   "cell_type": "markdown",
   "metadata": {},
   "source": [
    "# Apararentemente, 2 vizinhos retorna uma acuracia melhor que 30 vizinhos, mas, como vou saber qual a melhor configuração para o meu dataset?\n",
    "\n",
    "Podemos configurar diversos algoritmos com ranges de configuração diferente e armazenar o melhor resultado de cada um para diversas configurações de dataset diferentes, dessa forma é mais facil identificar qual o parametro se sobressai mais (em termos de acuracia) no seu dataset."
   ]
  },
  {
   "cell_type": "markdown",
   "metadata": {},
   "source": [
    "# Validation pipeline"
   ]
  },
  {
   "cell_type": "code",
   "execution_count": 54,
   "metadata": {},
   "outputs": [],
   "source": [
    "from sklearn.metrics import confusion_matrix, classification_report, accuracy_score\n",
    "from sklearn.model_selection import train_test_split, GridSearchCV\n",
    "from sklearn.pipeline import Pipeline\n",
    "\n",
    "test_size = 0.2\n",
    "n_folds = 3\n",
    "\n",
    "def apply_validation_pipeline(name, model, params, X_train, y_train):\n",
    "    pipe = Pipeline([('m', model)])\n",
    "    grid = GridSearchCV(pipe, params, n_jobs=1, cv=n_folds)\n",
    "    grid = grid.fit(X_train, y_train)\n",
    "\n",
    "    print (\"Model: \"+ name)\n",
    "    print (\"Best cross-validation score: \" + str(grid.best_score_))\n",
    "    print (\"Best parameters: \" + str(grid.best_params_))\n",
    "    return grid, grid.best_score_\n",
    "\n",
    "def test_models(name, dataset_name, X_test, y_test, trained_model):\n",
    "    predictions = trained_model.predict(X_test)\n",
    "    print (\"Model: \"+ name)\n",
    "    print (\"Dataset: \"+ dataset_name)\n",
    "    test_accuracy = accuracy_score(y_test, predictions)\n",
    "    print (\"Accuracy score :\" + str(test_accuracy))\n",
    "    print (confusion_matrix(y_test, predictions))\n",
    "    print (classification_report(y_test, predictions))\n",
    "    return test_accuracy"
   ]
  },
  {
   "cell_type": "markdown",
   "metadata": {},
   "source": [
    "# Agora vou configurar funcoes para executar varios algoritmos diferentes passando como parametro as variações em cada um.\n",
    "\n",
    "LinearSVC {'m__C': [0.1, 1, 10], 'm__dual': [True, False]}\n",
    "\n",
    "KNN {'m__n_neighbors': range(2,30)}\n",
    "\n",
    "Decision Tree {'m__max_depth': range(3, 20)}\n",
    "\n",
    "Gradient Boosting {'m__n_estimators': [100, 200, 300]}\n",
    "\n",
    "Random Forest  { \"m__n_estimators\": [10, 30, 50, 70]}\n",
    "\n",
    "Logistic Regression {}\n",
    "\n",
    "SGD { 'm__alpha': (1e-2, 1e-3), m__max_iter': (1000, 2000),'m__penalty': ('l2',),}"
   ]
  },
  {
   "cell_type": "code",
   "execution_count": 55,
   "metadata": {},
   "outputs": [],
   "source": [
    "from sklearn.svm import LinearSVC\n",
    "from sklearn.neighbors import KNeighborsClassifier\n",
    "from sklearn.tree import DecisionTreeClassifier\n",
    "from sklearn.ensemble import GradientBoostingClassifier, RandomForestClassifier\n",
    "from sklearn.linear_model import SGDClassifier, LogisticRegression\n",
    "from sklearn.naive_bayes import GaussianNB, MultinomialNB\n",
    "from sklearn.neural_network import MLPClassifier\n",
    "\n",
    "models_params = [\n",
    "    ('LinearSVC', LinearSVC(random_state=seed), {'m__C': [0.1, 1, 10], 'm__dual': [True, False]}),\n",
    "    ('KNN', KNeighborsClassifier(), {'m__n_neighbors': range(2,30)}),\n",
    "    ('Decision Tree', DecisionTreeClassifier(random_state=seed), {'m__max_depth': range(3, 20)}),\n",
    "    ('Gradient Boosting', GradientBoostingClassifier(random_state=seed), {'m__n_estimators': [100, 200, 300]}),\n",
    "    ('Random Forest', RandomForestClassifier(random_state=seed), { \"m__n_estimators\": [10, 30, 50, 70]}),\n",
    "    ('Logistic Regression', LogisticRegression(), {}),\n",
    "    ('SGD', SGDClassifier(random_state=seed), { 'm__alpha': (1e-2, 1e-3),\n",
    "                                                'm__max_iter': (1000, 2000),\n",
    "                                                'm__penalty': ('l2',),\n",
    "                                               })\n",
    "]"
   ]
  },
  {
   "cell_type": "markdown",
   "metadata": {},
   "source": [
    "# Diferentes transformacoes no dataset\n",
    "\n",
    "\n",
    "# Standardization\n",
    "A padronização de conjuntos de dados é um requisito comum para muitos estimadores de aprendizado de máquina implementados no scikit-learn; eles podem se comportar mal se as características individuais não se parecerem mais ou menos com os dados padrão normalmente distribuídos.\n",
    "\n",
    "Na prática, muitas vezes ignoramos a forma da distribuição e apenas transformamos os dados para centralizá-los, removendo o valor médio de cada recurso e, em seguida, dimensionamos dividindo recursos não constantes por seu desvio padrão.\n",
    "\n",
    "Por exemplo, muitos elementos usados na função objetivo de um algoritmo de aprendizado assumem que todos os recursos estão centralizados em zero e têm variação na mesma ordem. Se um recurso tiver uma variância com ordens de magnitude maiores que outras, ele poderá dominar a função de objetivo e tornar o estimador incapaz de aprender com outros recursos corretamente, conforme o esperado.\n",
    "\n",
    "Ex:\n",
    "\n",
    "X_train = np.array( [ [ 1., -1.,  2. ] , [ 2. ,  0. ,  0. ] , [ 0. ,  1. , -1. ] ])\n",
    "\n",
    "scaler = StandardScaler(copy=True, with_mean=True, with_std=True)\n",
    "\n",
    "scaler.fit(X_train)\n",
    "\n",
    "scaler.mean_  \n",
    "array( [1. ... , 0. ... , 0.33... ] )\n",
    "\n",
    "scaler.scale_                                       \n",
    "array( [ 0.81... , 0.81... , 1.24... ] )\n",
    "\n",
    "scaler.transform(X_train)                           \n",
    "array ( [ [ 0.  ... , -1.22... ,  1.33... ],[  1.22... ,  0.  ... , -0.26... ] , [ -1.22... ,  1.22... , -1.06... ] ] )\n",
    "\n",
    "\n",
    "# Normalize\n",
    "\n",
    "Normalização é o processo de escalar amostras individuais para ter uma norma unitária. Esse processo pode ser útil se você planeja usar uma forma quadrática, como o produto de pontos para quantificar a similaridade de qualquer par de amostras.\n",
    "\n",
    "Ex: \n",
    "\n",
    "X = [ [ 1. , -1. ,  2. ] , [ 2. ,  0. ,  0. ] , [ 0. ,  1. , -1. ] ]\n",
    "\n",
    "X_normalized = preprocessing.normalize(X, norm='l2')\n",
    "\n",
    "X_normalized                                      \n",
    "array( [ [ 0.40... , -0.40... ,  0.81... ],\n",
    "       [ 1.  ... ,  0.  ... ,  0.  ... ],\n",
    "       [ 0.  ... ,  0.70... , -0.70... ] ] )\n",
    "\n",
    "\n",
    "# Variance Threshold after Normalizer\n",
    "Este algoritmo de seleção de características olha apenas para os recursos (X), não para as saídas desejadas (y).\n",
    "\n",
    "Ex: \n",
    "\n",
    "X = [ [ 0 , 2, 0, 3 ], [ 0, 1, 4, 3 ], [ 0, 1, 1, 3 ] ]\n",
    "\n",
    "selector = VarianceThreshold()\n",
    "\n",
    "selector.fit_transform(X)\n",
    "\n",
    "array( [ [2 , 0 ],[ 1, 4 ],[ 1, 1 ] ] )\n",
    "\n",
    "No caso ele removeu todos os atributos que eram iguais em todos os arrays\n",
    "\n",
    "\n",
    "# PCA\n",
    "O PCA é matematicamente definido como uma transformação linear ortogonal que transforma os dados para um novo sistema de coordenadas de forma que a maior variância por qualquer projeção dos dados fica ao longo da primeira coordenada (o chamado primeiro componente), a segunda maior variância fica ao longo da segunda coordenada, e assim por diante."
   ]
  },
  {
   "cell_type": "code",
   "execution_count": 64,
   "metadata": {},
   "outputs": [],
   "source": [
    "from sklearn.preprocessing import StandardScaler, normalize\n",
    "from sklearn.feature_selection import VarianceThreshold\n",
    "from sklearn.decomposition import PCA\n",
    "\n",
    "# Standard Scaler\n",
    "\n",
    "scaler = StandardScaler(with_mean=True, with_std=True)\n",
    "scaler.fit(X_train)  \n",
    "X_train_scaled = scaler.transform(X_train) + 4 # prevent negative values\n",
    "X_test_scaled = scaler.transform(X_test) + 4 # prevent negative values\n",
    "\n",
    "\n",
    "# Normalizer\n",
    "\n",
    "X_train_norm = normalize(X_train, axis=0)\n",
    "X_test_norm = normalize(X_test, axis=0)\n",
    "\n",
    "\n",
    "# Feature Selection - Variance Threshold after Normalizer \n",
    "\n",
    "sel = VarianceThreshold(threshold=0.0000005)\n",
    "X_train_variance_threshold_10 = sel.fit_transform(X_train_norm)\n",
    "X_test_variance_threshold_10 = sel.transform(X_test_norm)\n",
    "\n",
    "sel = VarianceThreshold(threshold=0.000005)\n",
    "X_train_variance_threshold_9 = sel.fit_transform(X_train_norm)\n",
    "X_test_variance_threshold_9 = sel.transform(X_test_norm)\n",
    "\n",
    "\n",
    "# PCA - Principal Component Analysis after Standard Scaler\n",
    "\n",
    "pca16 = PCA(n_components=16)\n",
    "X_train_pca16 = pca16.fit_transform(X_train_norm) + 4 # prevent negative values\n",
    "X_test_pca16 = pca16.transform(X_test_norm) + 4 # prevent negative values\n",
    "\n",
    "pca12 = PCA(n_components=12)\n",
    "X_train_pca12 = pca12.fit_transform(X_train_norm) + 4 # prevent negative values\n",
    "X_test_pca12 = pca12.transform(X_test_norm) + 4 # prevent negative values\n",
    "\n",
    "\n",
    "datasets = [\n",
    "    ('Default dataset', X_train, Y_train, X_test, Y_test),\n",
    "    ('Standard Scaled dataset', X_train_scaled, Y_train, X_test_scaled, Y_test),\n",
    "    ('Normalized dataset', X_train_norm, Y_train, X_test_norm, Y_test),\n",
    "    ('Variance Threshold 10 features', X_train_variance_threshold_10, Y_train, X_test_variance_threshold_10, Y_test),\n",
    "    ('Variance Threshold 9 features', X_train_variance_threshold_9, Y_train, X_test_variance_threshold_9, Y_test),\n",
    "    ('PCA 16 components', X_train_pca16, Y_train, X_test_pca16, Y_train),\n",
    "    ('PCA 12 components', X_train_pca12, Y_train, X_test_pca12, Y_train),\n",
    "]"
   ]
  },
  {
   "cell_type": "code",
   "execution_count": 65,
   "metadata": {},
   "outputs": [
    {
     "name": "stdout",
     "output_type": "stream",
     "text": [
      "Default dataset\n",
      "Model: LinearSVC\n",
      "Best cross-validation score: 0.8484848484848485\n",
      "Best parameters: {'m__C': 1, 'm__dual': False}\n",
      "Model: KNN\n",
      "Best cross-validation score: 0.8727272727272727\n",
      "Best parameters: {'m__n_neighbors': 3}\n",
      "Model: Decision Tree\n",
      "Best cross-validation score: 0.8424242424242424\n",
      "Best parameters: {'m__max_depth': 5}\n",
      "Model: Gradient Boosting\n",
      "Best cross-validation score: 0.9090909090909091\n",
      "Best parameters: {'m__n_estimators': 100}\n",
      "Model: Random Forest\n",
      "Best cross-validation score: 0.9272727272727272\n",
      "Best parameters: {'m__n_estimators': 70}\n",
      "Model: Logistic Regression\n",
      "Best cross-validation score: 0.8242424242424242\n",
      "Best parameters: {}\n",
      "Model: SGD\n",
      "Best cross-validation score: 0.703030303030303\n",
      "Best parameters: {'m__alpha': 0.01, 'm__max_iter': 2000, 'm__penalty': 'l2'}\n",
      "\n",
      "Standard Scaled dataset\n",
      "Model: LinearSVC\n",
      "Best cross-validation score: 0.8727272727272727\n",
      "Best parameters: {'m__C': 0.1, 'm__dual': True}\n",
      "Model: KNN\n",
      "Best cross-validation score: 0.9030303030303031\n",
      "Best parameters: {'m__n_neighbors': 3}\n",
      "Model: Decision Tree\n",
      "Best cross-validation score: 0.8424242424242424\n",
      "Best parameters: {'m__max_depth': 5}\n",
      "Model: Gradient Boosting\n",
      "Best cross-validation score: 0.9090909090909091\n",
      "Best parameters: {'m__n_estimators': 100}\n",
      "Model: Random Forest\n",
      "Best cross-validation score: 0.9272727272727272\n",
      "Best parameters: {'m__n_estimators': 70}\n",
      "Model: Logistic Regression\n",
      "Best cross-validation score: 0.8666666666666667\n",
      "Best parameters: {}\n",
      "Model: SGD\n",
      "Best cross-validation score: 0.8727272727272727\n",
      "Best parameters: {'m__alpha': 0.01, 'm__max_iter': 1000, 'm__penalty': 'l2'}\n",
      "\n",
      "Normalized dataset\n",
      "Model: LinearSVC\n",
      "Best cross-validation score: 0.8424242424242424\n",
      "Best parameters: {'m__C': 10, 'm__dual': True}\n",
      "Model: KNN\n",
      "Best cross-validation score: 0.8909090909090909\n",
      "Best parameters: {'m__n_neighbors': 3}\n",
      "Model: Decision Tree\n",
      "Best cross-validation score: 0.8424242424242424\n",
      "Best parameters: {'m__max_depth': 5}\n",
      "Model: Gradient Boosting\n",
      "Best cross-validation score: 0.9090909090909091\n",
      "Best parameters: {'m__n_estimators': 100}\n",
      "Model: Random Forest\n",
      "Best cross-validation score: 0.9272727272727272\n",
      "Best parameters: {'m__n_estimators': 70}\n",
      "Model: Logistic Regression\n",
      "Best cross-validation score: 0.7515151515151515\n",
      "Best parameters: {}\n",
      "Model: SGD\n",
      "Best cross-validation score: 0.7515151515151515\n",
      "Best parameters: {'m__alpha': 0.01, 'm__max_iter': 1000, 'm__penalty': 'l2'}\n",
      "\n",
      "Variance Threshold 10 features\n",
      "Model: LinearSVC\n",
      "Best cross-validation score: 0.8424242424242424\n",
      "Best parameters: {'m__C': 10, 'm__dual': True}\n",
      "Model: KNN\n",
      "Best cross-validation score: 0.8909090909090909\n",
      "Best parameters: {'m__n_neighbors': 3}\n",
      "Model: Decision Tree\n",
      "Best cross-validation score: 0.8424242424242424\n",
      "Best parameters: {'m__max_depth': 5}\n",
      "Model: Gradient Boosting\n",
      "Best cross-validation score: 0.9090909090909091\n",
      "Best parameters: {'m__n_estimators': 100}\n",
      "Model: Random Forest\n",
      "Best cross-validation score: 0.9272727272727272\n",
      "Best parameters: {'m__n_estimators': 70}\n",
      "Model: Logistic Regression\n",
      "Best cross-validation score: 0.7515151515151515\n",
      "Best parameters: {}\n",
      "Model: SGD\n",
      "Best cross-validation score: 0.7515151515151515\n",
      "Best parameters: {'m__alpha': 0.01, 'm__max_iter': 1000, 'm__penalty': 'l2'}\n",
      "\n",
      "Variance Threshold 9 features\n",
      "Model: LinearSVC\n",
      "Best cross-validation score: 0.8424242424242424\n",
      "Best parameters: {'m__C': 10, 'm__dual': True}\n",
      "Model: KNN\n",
      "Best cross-validation score: 0.8909090909090909\n",
      "Best parameters: {'m__n_neighbors': 3}\n",
      "Model: Decision Tree\n",
      "Best cross-validation score: 0.8424242424242424\n",
      "Best parameters: {'m__max_depth': 5}\n",
      "Model: Gradient Boosting\n",
      "Best cross-validation score: 0.9090909090909091\n",
      "Best parameters: {'m__n_estimators': 100}\n",
      "Model: Random Forest\n",
      "Best cross-validation score: 0.9272727272727272\n",
      "Best parameters: {'m__n_estimators': 70}\n",
      "Model: Logistic Regression\n",
      "Best cross-validation score: 0.7515151515151515\n",
      "Best parameters: {}\n",
      "Model: SGD\n",
      "Best cross-validation score: 0.7515151515151515\n",
      "Best parameters: {'m__alpha': 0.01, 'm__max_iter': 1000, 'm__penalty': 'l2'}\n",
      "\n",
      "PCA 16 components\n",
      "Model: LinearSVC\n",
      "Best cross-validation score: 0.8424242424242424\n",
      "Best parameters: {'m__C': 10, 'm__dual': False}\n",
      "Model: KNN\n",
      "Best cross-validation score: 0.896969696969697\n",
      "Best parameters: {'m__n_neighbors': 3}\n",
      "Model: Decision Tree\n",
      "Best cross-validation score: 0.8666666666666667\n",
      "Best parameters: {'m__max_depth': 7}\n",
      "Model: Gradient Boosting\n",
      "Best cross-validation score: 0.8727272727272727\n",
      "Best parameters: {'m__n_estimators': 100}\n",
      "Model: Random Forest\n",
      "Best cross-validation score: 0.8787878787878788\n",
      "Best parameters: {'m__n_estimators': 70}\n",
      "Model: Logistic Regression\n",
      "Best cross-validation score: 0.7515151515151515\n",
      "Best parameters: {}\n",
      "Model: SGD\n",
      "Best cross-validation score: 0.7515151515151515\n",
      "Best parameters: {'m__alpha': 0.01, 'm__max_iter': 1000, 'm__penalty': 'l2'}\n",
      "\n",
      "PCA 12 components\n",
      "Model: LinearSVC\n",
      "Best cross-validation score: 0.8363636363636363\n",
      "Best parameters: {'m__C': 10, 'm__dual': False}\n",
      "Model: KNN\n",
      "Best cross-validation score: 0.896969696969697\n",
      "Best parameters: {'m__n_neighbors': 3}\n",
      "Model: Decision Tree\n",
      "Best cross-validation score: 0.8363636363636363\n",
      "Best parameters: {'m__max_depth': 5}\n",
      "Model: Gradient Boosting\n",
      "Best cross-validation score: 0.8787878787878788\n",
      "Best parameters: {'m__n_estimators': 100}\n",
      "Model: Random Forest\n",
      "Best cross-validation score: 0.8666666666666667\n",
      "Best parameters: {'m__n_estimators': 50}\n",
      "Model: Logistic Regression\n",
      "Best cross-validation score: 0.7515151515151515\n",
      "Best parameters: {}\n",
      "Model: SGD\n",
      "Best cross-validation score: 0.7515151515151515\n",
      "Best parameters: {'m__alpha': 0.01, 'm__max_iter': 1000, 'm__penalty': 'l2'}\n",
      "\n"
     ]
    }
   ],
   "source": [
    "models_info = []\n",
    "\n",
    "for dataset_name, X_train, Y_train, X_test, Y_test in datasets:\n",
    "    print (dataset_name)\n",
    "    for name, model, params in models_params:\n",
    "        trained_model, val_accuracy = apply_validation_pipeline(name, model, params, X_train, Y_train)\n",
    "        models_info.append({\n",
    "            'name': name, 'dataset_name': dataset_name,\n",
    "            'X_test': X_test, 'Y_test': Y_test,\n",
    "            'trained_model': trained_model, 'validation_accuracy': val_accuracy\n",
    "        })\n",
    "    print ()"
   ]
  },
  {
   "cell_type": "markdown",
   "metadata": {},
   "source": [
    "# Avaliação final\n",
    "OBS: dados obtidos com a seed = 1289302\n",
    "\n",
    "Essa execução nos tras muitas informações valiozas como por exemplo qual configuração se destacou mais em cada algoritmo, por exemplo: No algoritmo KNN, todas as execuções acharam uma melhor acuracia quando o número de vizinhos foi 3, portanto esse sem duvida é um bom parametro para esse algoritmo avaliar esse dataset.\n",
    "\n",
    "O algoritmo que mais se destacou foi o Random Forest, chegando a 0.9272 com o n_estimators: 70\n",
    "\n",
    "Melhores respostas de cada algoritmo:\n",
    "\n",
    "LinearSVC -> Default dataset com configuração {m_C: 1, m_dual: false} acuracia: 0.8484\n",
    "\n",
    "KNN -> Standard Scaled datased com configuração {m_n_neighbors: 3} acuracia: 0.9030\n",
    "\n",
    "Decision Tree -> PCA 16 components com configuração {m_max_depth: 7} acuracia: 0.8666\n",
    "\n",
    "Gradient Boosting -> A mesma acuracia em quase todos os datasets com configuração { m_n_estimators: 100} acuracia: 0.9090\n",
    "\n",
    "Random Forest -> Variance Threshold 10 features  com configuração { m_n_estimators: 70}\n",
    "\n",
    "Logistic Regression -> Standard Scaled dataset { } acuracia: 0.8666\n",
    "\n",
    "SGD -> Standard Scaled dataset com configuração { m_alpha: 0.01, m_max_iter: 1000, m_penalty: 12} acuracia: 0.8727\n"
   ]
  },
  {
   "cell_type": "code",
   "execution_count": 67,
   "metadata": {},
   "outputs": [
    {
     "ename": "ValueError",
     "evalue": "incomplete format",
     "output_type": "error",
     "traceback": [
      "\u001b[1;31m---------------------------------------------------------------------------\u001b[0m",
      "\u001b[1;31mValueError\u001b[0m                                Traceback (most recent call last)",
      "\u001b[1;32mE:\\Users\\igor_\\Anaconda3\\lib\\site-packages\\IPython\\core\\formatters.py\u001b[0m in \u001b[0;36m__call__\u001b[1;34m(self, obj)\u001b[0m\n\u001b[0;32m    339\u001b[0m                 \u001b[1;32mpass\u001b[0m\u001b[1;33m\u001b[0m\u001b[1;33m\u001b[0m\u001b[0m\n\u001b[0;32m    340\u001b[0m             \u001b[1;32melse\u001b[0m\u001b[1;33m:\u001b[0m\u001b[1;33m\u001b[0m\u001b[1;33m\u001b[0m\u001b[0m\n\u001b[1;32m--> 341\u001b[1;33m                 \u001b[1;32mreturn\u001b[0m \u001b[0mprinter\u001b[0m\u001b[1;33m(\u001b[0m\u001b[0mobj\u001b[0m\u001b[1;33m)\u001b[0m\u001b[1;33m\u001b[0m\u001b[1;33m\u001b[0m\u001b[0m\n\u001b[0m\u001b[0;32m    342\u001b[0m             \u001b[1;31m# Finally look for special method names\u001b[0m\u001b[1;33m\u001b[0m\u001b[1;33m\u001b[0m\u001b[1;33m\u001b[0m\u001b[0m\n\u001b[0;32m    343\u001b[0m             \u001b[0mmethod\u001b[0m \u001b[1;33m=\u001b[0m \u001b[0mget_real_method\u001b[0m\u001b[1;33m(\u001b[0m\u001b[0mobj\u001b[0m\u001b[1;33m,\u001b[0m \u001b[0mself\u001b[0m\u001b[1;33m.\u001b[0m\u001b[0mprint_method\u001b[0m\u001b[1;33m)\u001b[0m\u001b[1;33m\u001b[0m\u001b[1;33m\u001b[0m\u001b[0m\n",
      "\u001b[1;32mE:\\Users\\igor_\\Anaconda3\\lib\\site-packages\\IPython\\core\\pylabtools.py\u001b[0m in \u001b[0;36m<lambda>\u001b[1;34m(fig)\u001b[0m\n\u001b[0;32m    242\u001b[0m \u001b[1;33m\u001b[0m\u001b[0m\n\u001b[0;32m    243\u001b[0m     \u001b[1;32mif\u001b[0m \u001b[1;34m'png'\u001b[0m \u001b[1;32min\u001b[0m \u001b[0mformats\u001b[0m\u001b[1;33m:\u001b[0m\u001b[1;33m\u001b[0m\u001b[1;33m\u001b[0m\u001b[0m\n\u001b[1;32m--> 244\u001b[1;33m         \u001b[0mpng_formatter\u001b[0m\u001b[1;33m.\u001b[0m\u001b[0mfor_type\u001b[0m\u001b[1;33m(\u001b[0m\u001b[0mFigure\u001b[0m\u001b[1;33m,\u001b[0m \u001b[1;32mlambda\u001b[0m \u001b[0mfig\u001b[0m\u001b[1;33m:\u001b[0m \u001b[0mprint_figure\u001b[0m\u001b[1;33m(\u001b[0m\u001b[0mfig\u001b[0m\u001b[1;33m,\u001b[0m \u001b[1;34m'png'\u001b[0m\u001b[1;33m,\u001b[0m \u001b[1;33m**\u001b[0m\u001b[0mkwargs\u001b[0m\u001b[1;33m)\u001b[0m\u001b[1;33m)\u001b[0m\u001b[1;33m\u001b[0m\u001b[1;33m\u001b[0m\u001b[0m\n\u001b[0m\u001b[0;32m    245\u001b[0m     \u001b[1;32mif\u001b[0m \u001b[1;34m'retina'\u001b[0m \u001b[1;32min\u001b[0m \u001b[0mformats\u001b[0m \u001b[1;32mor\u001b[0m \u001b[1;34m'png2x'\u001b[0m \u001b[1;32min\u001b[0m \u001b[0mformats\u001b[0m\u001b[1;33m:\u001b[0m\u001b[1;33m\u001b[0m\u001b[1;33m\u001b[0m\u001b[0m\n\u001b[0;32m    246\u001b[0m         \u001b[0mpng_formatter\u001b[0m\u001b[1;33m.\u001b[0m\u001b[0mfor_type\u001b[0m\u001b[1;33m(\u001b[0m\u001b[0mFigure\u001b[0m\u001b[1;33m,\u001b[0m \u001b[1;32mlambda\u001b[0m \u001b[0mfig\u001b[0m\u001b[1;33m:\u001b[0m \u001b[0mretina_figure\u001b[0m\u001b[1;33m(\u001b[0m\u001b[0mfig\u001b[0m\u001b[1;33m,\u001b[0m \u001b[1;33m**\u001b[0m\u001b[0mkwargs\u001b[0m\u001b[1;33m)\u001b[0m\u001b[1;33m)\u001b[0m\u001b[1;33m\u001b[0m\u001b[1;33m\u001b[0m\u001b[0m\n",
      "\u001b[1;32mE:\\Users\\igor_\\Anaconda3\\lib\\site-packages\\IPython\\core\\pylabtools.py\u001b[0m in \u001b[0;36mprint_figure\u001b[1;34m(fig, fmt, bbox_inches, **kwargs)\u001b[0m\n\u001b[0;32m    126\u001b[0m \u001b[1;33m\u001b[0m\u001b[0m\n\u001b[0;32m    127\u001b[0m     \u001b[0mbytes_io\u001b[0m \u001b[1;33m=\u001b[0m \u001b[0mBytesIO\u001b[0m\u001b[1;33m(\u001b[0m\u001b[1;33m)\u001b[0m\u001b[1;33m\u001b[0m\u001b[1;33m\u001b[0m\u001b[0m\n\u001b[1;32m--> 128\u001b[1;33m     \u001b[0mfig\u001b[0m\u001b[1;33m.\u001b[0m\u001b[0mcanvas\u001b[0m\u001b[1;33m.\u001b[0m\u001b[0mprint_figure\u001b[0m\u001b[1;33m(\u001b[0m\u001b[0mbytes_io\u001b[0m\u001b[1;33m,\u001b[0m \u001b[1;33m**\u001b[0m\u001b[0mkw\u001b[0m\u001b[1;33m)\u001b[0m\u001b[1;33m\u001b[0m\u001b[1;33m\u001b[0m\u001b[0m\n\u001b[0m\u001b[0;32m    129\u001b[0m     \u001b[0mdata\u001b[0m \u001b[1;33m=\u001b[0m \u001b[0mbytes_io\u001b[0m\u001b[1;33m.\u001b[0m\u001b[0mgetvalue\u001b[0m\u001b[1;33m(\u001b[0m\u001b[1;33m)\u001b[0m\u001b[1;33m\u001b[0m\u001b[1;33m\u001b[0m\u001b[0m\n\u001b[0;32m    130\u001b[0m     \u001b[1;32mif\u001b[0m \u001b[0mfmt\u001b[0m \u001b[1;33m==\u001b[0m \u001b[1;34m'svg'\u001b[0m\u001b[1;33m:\u001b[0m\u001b[1;33m\u001b[0m\u001b[1;33m\u001b[0m\u001b[0m\n",
      "\u001b[1;32mE:\\Users\\igor_\\Anaconda3\\lib\\site-packages\\matplotlib\\backend_bases.py\u001b[0m in \u001b[0;36mprint_figure\u001b[1;34m(self, filename, dpi, facecolor, edgecolor, orientation, format, bbox_inches, **kwargs)\u001b[0m\n\u001b[0;32m   2047\u001b[0m                         \u001b[0morientation\u001b[0m\u001b[1;33m=\u001b[0m\u001b[0morientation\u001b[0m\u001b[1;33m,\u001b[0m\u001b[1;33m\u001b[0m\u001b[1;33m\u001b[0m\u001b[0m\n\u001b[0;32m   2048\u001b[0m                         \u001b[0mdryrun\u001b[0m\u001b[1;33m=\u001b[0m\u001b[1;32mTrue\u001b[0m\u001b[1;33m,\u001b[0m\u001b[1;33m\u001b[0m\u001b[1;33m\u001b[0m\u001b[0m\n\u001b[1;32m-> 2049\u001b[1;33m                         **kwargs)\n\u001b[0m\u001b[0;32m   2050\u001b[0m                     \u001b[0mrenderer\u001b[0m \u001b[1;33m=\u001b[0m \u001b[0mself\u001b[0m\u001b[1;33m.\u001b[0m\u001b[0mfigure\u001b[0m\u001b[1;33m.\u001b[0m\u001b[0m_cachedRenderer\u001b[0m\u001b[1;33m\u001b[0m\u001b[1;33m\u001b[0m\u001b[0m\n\u001b[0;32m   2051\u001b[0m                     \u001b[0mbbox_artists\u001b[0m \u001b[1;33m=\u001b[0m \u001b[0mkwargs\u001b[0m\u001b[1;33m.\u001b[0m\u001b[0mpop\u001b[0m\u001b[1;33m(\u001b[0m\u001b[1;34m\"bbox_extra_artists\"\u001b[0m\u001b[1;33m,\u001b[0m \u001b[1;32mNone\u001b[0m\u001b[1;33m)\u001b[0m\u001b[1;33m\u001b[0m\u001b[1;33m\u001b[0m\u001b[0m\n",
      "\u001b[1;32mE:\\Users\\igor_\\Anaconda3\\lib\\site-packages\\matplotlib\\backends\\backend_agg.py\u001b[0m in \u001b[0;36mprint_png\u001b[1;34m(self, filename_or_obj, *args, **kwargs)\u001b[0m\n\u001b[0;32m    508\u001b[0m \u001b[1;33m\u001b[0m\u001b[0m\n\u001b[0;32m    509\u001b[0m         \"\"\"\n\u001b[1;32m--> 510\u001b[1;33m         \u001b[0mFigureCanvasAgg\u001b[0m\u001b[1;33m.\u001b[0m\u001b[0mdraw\u001b[0m\u001b[1;33m(\u001b[0m\u001b[0mself\u001b[0m\u001b[1;33m)\u001b[0m\u001b[1;33m\u001b[0m\u001b[1;33m\u001b[0m\u001b[0m\n\u001b[0m\u001b[0;32m    511\u001b[0m         \u001b[0mrenderer\u001b[0m \u001b[1;33m=\u001b[0m \u001b[0mself\u001b[0m\u001b[1;33m.\u001b[0m\u001b[0mget_renderer\u001b[0m\u001b[1;33m(\u001b[0m\u001b[1;33m)\u001b[0m\u001b[1;33m\u001b[0m\u001b[1;33m\u001b[0m\u001b[0m\n\u001b[0;32m    512\u001b[0m \u001b[1;33m\u001b[0m\u001b[0m\n",
      "\u001b[1;32mE:\\Users\\igor_\\Anaconda3\\lib\\site-packages\\matplotlib\\backends\\backend_agg.py\u001b[0m in \u001b[0;36mdraw\u001b[1;34m(self)\u001b[0m\n\u001b[0;32m    400\u001b[0m         \u001b[0mtoolbar\u001b[0m \u001b[1;33m=\u001b[0m \u001b[0mself\u001b[0m\u001b[1;33m.\u001b[0m\u001b[0mtoolbar\u001b[0m\u001b[1;33m\u001b[0m\u001b[1;33m\u001b[0m\u001b[0m\n\u001b[0;32m    401\u001b[0m         \u001b[1;32mtry\u001b[0m\u001b[1;33m:\u001b[0m\u001b[1;33m\u001b[0m\u001b[1;33m\u001b[0m\u001b[0m\n\u001b[1;32m--> 402\u001b[1;33m             \u001b[0mself\u001b[0m\u001b[1;33m.\u001b[0m\u001b[0mfigure\u001b[0m\u001b[1;33m.\u001b[0m\u001b[0mdraw\u001b[0m\u001b[1;33m(\u001b[0m\u001b[0mself\u001b[0m\u001b[1;33m.\u001b[0m\u001b[0mrenderer\u001b[0m\u001b[1;33m)\u001b[0m\u001b[1;33m\u001b[0m\u001b[1;33m\u001b[0m\u001b[0m\n\u001b[0m\u001b[0;32m    403\u001b[0m             \u001b[1;31m# A GUI class may be need to update a window using this draw, so\u001b[0m\u001b[1;33m\u001b[0m\u001b[1;33m\u001b[0m\u001b[1;33m\u001b[0m\u001b[0m\n\u001b[0;32m    404\u001b[0m             \u001b[1;31m# don't forget to call the superclass.\u001b[0m\u001b[1;33m\u001b[0m\u001b[1;33m\u001b[0m\u001b[1;33m\u001b[0m\u001b[0m\n",
      "\u001b[1;32mE:\\Users\\igor_\\Anaconda3\\lib\\site-packages\\matplotlib\\artist.py\u001b[0m in \u001b[0;36mdraw_wrapper\u001b[1;34m(artist, renderer, *args, **kwargs)\u001b[0m\n\u001b[0;32m     48\u001b[0m                 \u001b[0mrenderer\u001b[0m\u001b[1;33m.\u001b[0m\u001b[0mstart_filter\u001b[0m\u001b[1;33m(\u001b[0m\u001b[1;33m)\u001b[0m\u001b[1;33m\u001b[0m\u001b[1;33m\u001b[0m\u001b[0m\n\u001b[0;32m     49\u001b[0m \u001b[1;33m\u001b[0m\u001b[0m\n\u001b[1;32m---> 50\u001b[1;33m             \u001b[1;32mreturn\u001b[0m \u001b[0mdraw\u001b[0m\u001b[1;33m(\u001b[0m\u001b[0martist\u001b[0m\u001b[1;33m,\u001b[0m \u001b[0mrenderer\u001b[0m\u001b[1;33m,\u001b[0m \u001b[1;33m*\u001b[0m\u001b[0margs\u001b[0m\u001b[1;33m,\u001b[0m \u001b[1;33m**\u001b[0m\u001b[0mkwargs\u001b[0m\u001b[1;33m)\u001b[0m\u001b[1;33m\u001b[0m\u001b[1;33m\u001b[0m\u001b[0m\n\u001b[0m\u001b[0;32m     51\u001b[0m         \u001b[1;32mfinally\u001b[0m\u001b[1;33m:\u001b[0m\u001b[1;33m\u001b[0m\u001b[1;33m\u001b[0m\u001b[0m\n\u001b[0;32m     52\u001b[0m             \u001b[1;32mif\u001b[0m \u001b[0martist\u001b[0m\u001b[1;33m.\u001b[0m\u001b[0mget_agg_filter\u001b[0m\u001b[1;33m(\u001b[0m\u001b[1;33m)\u001b[0m \u001b[1;32mis\u001b[0m \u001b[1;32mnot\u001b[0m \u001b[1;32mNone\u001b[0m\u001b[1;33m:\u001b[0m\u001b[1;33m\u001b[0m\u001b[1;33m\u001b[0m\u001b[0m\n",
      "\u001b[1;32mE:\\Users\\igor_\\Anaconda3\\lib\\site-packages\\matplotlib\\figure.py\u001b[0m in \u001b[0;36mdraw\u001b[1;34m(self, renderer)\u001b[0m\n\u001b[0;32m   1647\u001b[0m \u001b[1;33m\u001b[0m\u001b[0m\n\u001b[0;32m   1648\u001b[0m             mimage._draw_list_compositing_images(\n\u001b[1;32m-> 1649\u001b[1;33m                 renderer, self, artists, self.suppressComposite)\n\u001b[0m\u001b[0;32m   1650\u001b[0m \u001b[1;33m\u001b[0m\u001b[0m\n\u001b[0;32m   1651\u001b[0m             \u001b[0mrenderer\u001b[0m\u001b[1;33m.\u001b[0m\u001b[0mclose_group\u001b[0m\u001b[1;33m(\u001b[0m\u001b[1;34m'figure'\u001b[0m\u001b[1;33m)\u001b[0m\u001b[1;33m\u001b[0m\u001b[1;33m\u001b[0m\u001b[0m\n",
      "\u001b[1;32mE:\\Users\\igor_\\Anaconda3\\lib\\site-packages\\matplotlib\\image.py\u001b[0m in \u001b[0;36m_draw_list_compositing_images\u001b[1;34m(renderer, parent, artists, suppress_composite)\u001b[0m\n\u001b[0;32m    136\u001b[0m     \u001b[1;32mif\u001b[0m \u001b[0mnot_composite\u001b[0m \u001b[1;32mor\u001b[0m \u001b[1;32mnot\u001b[0m \u001b[0mhas_images\u001b[0m\u001b[1;33m:\u001b[0m\u001b[1;33m\u001b[0m\u001b[1;33m\u001b[0m\u001b[0m\n\u001b[0;32m    137\u001b[0m         \u001b[1;32mfor\u001b[0m \u001b[0ma\u001b[0m \u001b[1;32min\u001b[0m \u001b[0martists\u001b[0m\u001b[1;33m:\u001b[0m\u001b[1;33m\u001b[0m\u001b[1;33m\u001b[0m\u001b[0m\n\u001b[1;32m--> 138\u001b[1;33m             \u001b[0ma\u001b[0m\u001b[1;33m.\u001b[0m\u001b[0mdraw\u001b[0m\u001b[1;33m(\u001b[0m\u001b[0mrenderer\u001b[0m\u001b[1;33m)\u001b[0m\u001b[1;33m\u001b[0m\u001b[1;33m\u001b[0m\u001b[0m\n\u001b[0m\u001b[0;32m    139\u001b[0m     \u001b[1;32melse\u001b[0m\u001b[1;33m:\u001b[0m\u001b[1;33m\u001b[0m\u001b[1;33m\u001b[0m\u001b[0m\n\u001b[0;32m    140\u001b[0m         \u001b[1;31m# Composite any adjacent images together\u001b[0m\u001b[1;33m\u001b[0m\u001b[1;33m\u001b[0m\u001b[1;33m\u001b[0m\u001b[0m\n",
      "\u001b[1;32mE:\\Users\\igor_\\Anaconda3\\lib\\site-packages\\matplotlib\\artist.py\u001b[0m in \u001b[0;36mdraw_wrapper\u001b[1;34m(artist, renderer, *args, **kwargs)\u001b[0m\n\u001b[0;32m     48\u001b[0m                 \u001b[0mrenderer\u001b[0m\u001b[1;33m.\u001b[0m\u001b[0mstart_filter\u001b[0m\u001b[1;33m(\u001b[0m\u001b[1;33m)\u001b[0m\u001b[1;33m\u001b[0m\u001b[1;33m\u001b[0m\u001b[0m\n\u001b[0;32m     49\u001b[0m \u001b[1;33m\u001b[0m\u001b[0m\n\u001b[1;32m---> 50\u001b[1;33m             \u001b[1;32mreturn\u001b[0m \u001b[0mdraw\u001b[0m\u001b[1;33m(\u001b[0m\u001b[0martist\u001b[0m\u001b[1;33m,\u001b[0m \u001b[0mrenderer\u001b[0m\u001b[1;33m,\u001b[0m \u001b[1;33m*\u001b[0m\u001b[0margs\u001b[0m\u001b[1;33m,\u001b[0m \u001b[1;33m**\u001b[0m\u001b[0mkwargs\u001b[0m\u001b[1;33m)\u001b[0m\u001b[1;33m\u001b[0m\u001b[1;33m\u001b[0m\u001b[0m\n\u001b[0m\u001b[0;32m     51\u001b[0m         \u001b[1;32mfinally\u001b[0m\u001b[1;33m:\u001b[0m\u001b[1;33m\u001b[0m\u001b[1;33m\u001b[0m\u001b[0m\n\u001b[0;32m     52\u001b[0m             \u001b[1;32mif\u001b[0m \u001b[0martist\u001b[0m\u001b[1;33m.\u001b[0m\u001b[0mget_agg_filter\u001b[0m\u001b[1;33m(\u001b[0m\u001b[1;33m)\u001b[0m \u001b[1;32mis\u001b[0m \u001b[1;32mnot\u001b[0m \u001b[1;32mNone\u001b[0m\u001b[1;33m:\u001b[0m\u001b[1;33m\u001b[0m\u001b[1;33m\u001b[0m\u001b[0m\n",
      "\u001b[1;32mE:\\Users\\igor_\\Anaconda3\\lib\\site-packages\\matplotlib\\axes\\_base.py\u001b[0m in \u001b[0;36mdraw\u001b[1;34m(self, renderer, inframe)\u001b[0m\n\u001b[0;32m   2626\u001b[0m             \u001b[0mrenderer\u001b[0m\u001b[1;33m.\u001b[0m\u001b[0mstop_rasterizing\u001b[0m\u001b[1;33m(\u001b[0m\u001b[1;33m)\u001b[0m\u001b[1;33m\u001b[0m\u001b[1;33m\u001b[0m\u001b[0m\n\u001b[0;32m   2627\u001b[0m \u001b[1;33m\u001b[0m\u001b[0m\n\u001b[1;32m-> 2628\u001b[1;33m         \u001b[0mmimage\u001b[0m\u001b[1;33m.\u001b[0m\u001b[0m_draw_list_compositing_images\u001b[0m\u001b[1;33m(\u001b[0m\u001b[0mrenderer\u001b[0m\u001b[1;33m,\u001b[0m \u001b[0mself\u001b[0m\u001b[1;33m,\u001b[0m \u001b[0martists\u001b[0m\u001b[1;33m)\u001b[0m\u001b[1;33m\u001b[0m\u001b[1;33m\u001b[0m\u001b[0m\n\u001b[0m\u001b[0;32m   2629\u001b[0m \u001b[1;33m\u001b[0m\u001b[0m\n\u001b[0;32m   2630\u001b[0m         \u001b[0mrenderer\u001b[0m\u001b[1;33m.\u001b[0m\u001b[0mclose_group\u001b[0m\u001b[1;33m(\u001b[0m\u001b[1;34m'axes'\u001b[0m\u001b[1;33m)\u001b[0m\u001b[1;33m\u001b[0m\u001b[1;33m\u001b[0m\u001b[0m\n",
      "\u001b[1;32mE:\\Users\\igor_\\Anaconda3\\lib\\site-packages\\matplotlib\\image.py\u001b[0m in \u001b[0;36m_draw_list_compositing_images\u001b[1;34m(renderer, parent, artists, suppress_composite)\u001b[0m\n\u001b[0;32m    136\u001b[0m     \u001b[1;32mif\u001b[0m \u001b[0mnot_composite\u001b[0m \u001b[1;32mor\u001b[0m \u001b[1;32mnot\u001b[0m \u001b[0mhas_images\u001b[0m\u001b[1;33m:\u001b[0m\u001b[1;33m\u001b[0m\u001b[1;33m\u001b[0m\u001b[0m\n\u001b[0;32m    137\u001b[0m         \u001b[1;32mfor\u001b[0m \u001b[0ma\u001b[0m \u001b[1;32min\u001b[0m \u001b[0martists\u001b[0m\u001b[1;33m:\u001b[0m\u001b[1;33m\u001b[0m\u001b[1;33m\u001b[0m\u001b[0m\n\u001b[1;32m--> 138\u001b[1;33m             \u001b[0ma\u001b[0m\u001b[1;33m.\u001b[0m\u001b[0mdraw\u001b[0m\u001b[1;33m(\u001b[0m\u001b[0mrenderer\u001b[0m\u001b[1;33m)\u001b[0m\u001b[1;33m\u001b[0m\u001b[1;33m\u001b[0m\u001b[0m\n\u001b[0m\u001b[0;32m    139\u001b[0m     \u001b[1;32melse\u001b[0m\u001b[1;33m:\u001b[0m\u001b[1;33m\u001b[0m\u001b[1;33m\u001b[0m\u001b[0m\n\u001b[0;32m    140\u001b[0m         \u001b[1;31m# Composite any adjacent images together\u001b[0m\u001b[1;33m\u001b[0m\u001b[1;33m\u001b[0m\u001b[1;33m\u001b[0m\u001b[0m\n",
      "\u001b[1;32mE:\\Users\\igor_\\Anaconda3\\lib\\site-packages\\matplotlib\\artist.py\u001b[0m in \u001b[0;36mdraw_wrapper\u001b[1;34m(artist, renderer, *args, **kwargs)\u001b[0m\n\u001b[0;32m     48\u001b[0m                 \u001b[0mrenderer\u001b[0m\u001b[1;33m.\u001b[0m\u001b[0mstart_filter\u001b[0m\u001b[1;33m(\u001b[0m\u001b[1;33m)\u001b[0m\u001b[1;33m\u001b[0m\u001b[1;33m\u001b[0m\u001b[0m\n\u001b[0;32m     49\u001b[0m \u001b[1;33m\u001b[0m\u001b[0m\n\u001b[1;32m---> 50\u001b[1;33m             \u001b[1;32mreturn\u001b[0m \u001b[0mdraw\u001b[0m\u001b[1;33m(\u001b[0m\u001b[0martist\u001b[0m\u001b[1;33m,\u001b[0m \u001b[0mrenderer\u001b[0m\u001b[1;33m,\u001b[0m \u001b[1;33m*\u001b[0m\u001b[0margs\u001b[0m\u001b[1;33m,\u001b[0m \u001b[1;33m**\u001b[0m\u001b[0mkwargs\u001b[0m\u001b[1;33m)\u001b[0m\u001b[1;33m\u001b[0m\u001b[1;33m\u001b[0m\u001b[0m\n\u001b[0m\u001b[0;32m     51\u001b[0m         \u001b[1;32mfinally\u001b[0m\u001b[1;33m:\u001b[0m\u001b[1;33m\u001b[0m\u001b[1;33m\u001b[0m\u001b[0m\n\u001b[0;32m     52\u001b[0m             \u001b[1;32mif\u001b[0m \u001b[0martist\u001b[0m\u001b[1;33m.\u001b[0m\u001b[0mget_agg_filter\u001b[0m\u001b[1;33m(\u001b[0m\u001b[1;33m)\u001b[0m \u001b[1;32mis\u001b[0m \u001b[1;32mnot\u001b[0m \u001b[1;32mNone\u001b[0m\u001b[1;33m:\u001b[0m\u001b[1;33m\u001b[0m\u001b[1;33m\u001b[0m\u001b[0m\n",
      "\u001b[1;32mE:\\Users\\igor_\\Anaconda3\\lib\\site-packages\\matplotlib\\axis.py\u001b[0m in \u001b[0;36mdraw\u001b[1;34m(self, renderer, *args, **kwargs)\u001b[0m\n\u001b[0;32m   1183\u001b[0m         \u001b[0mrenderer\u001b[0m\u001b[1;33m.\u001b[0m\u001b[0mopen_group\u001b[0m\u001b[1;33m(\u001b[0m\u001b[0m__name__\u001b[0m\u001b[1;33m)\u001b[0m\u001b[1;33m\u001b[0m\u001b[1;33m\u001b[0m\u001b[0m\n\u001b[0;32m   1184\u001b[0m \u001b[1;33m\u001b[0m\u001b[0m\n\u001b[1;32m-> 1185\u001b[1;33m         \u001b[0mticks_to_draw\u001b[0m \u001b[1;33m=\u001b[0m \u001b[0mself\u001b[0m\u001b[1;33m.\u001b[0m\u001b[0m_update_ticks\u001b[0m\u001b[1;33m(\u001b[0m\u001b[0mrenderer\u001b[0m\u001b[1;33m)\u001b[0m\u001b[1;33m\u001b[0m\u001b[1;33m\u001b[0m\u001b[0m\n\u001b[0m\u001b[0;32m   1186\u001b[0m         ticklabelBoxes, ticklabelBoxes2 = self._get_tick_bboxes(ticks_to_draw,\n\u001b[0;32m   1187\u001b[0m                                                                 renderer)\n",
      "\u001b[1;32mE:\\Users\\igor_\\Anaconda3\\lib\\site-packages\\matplotlib\\axis.py\u001b[0m in \u001b[0;36m_update_ticks\u001b[1;34m(self, renderer)\u001b[0m\n\u001b[0;32m   1021\u001b[0m \u001b[1;33m\u001b[0m\u001b[0m\n\u001b[0;32m   1022\u001b[0m         \u001b[0minterval\u001b[0m \u001b[1;33m=\u001b[0m \u001b[0mself\u001b[0m\u001b[1;33m.\u001b[0m\u001b[0mget_view_interval\u001b[0m\u001b[1;33m(\u001b[0m\u001b[1;33m)\u001b[0m\u001b[1;33m\u001b[0m\u001b[1;33m\u001b[0m\u001b[0m\n\u001b[1;32m-> 1023\u001b[1;33m         \u001b[0mtick_tups\u001b[0m \u001b[1;33m=\u001b[0m \u001b[0mlist\u001b[0m\u001b[1;33m(\u001b[0m\u001b[0mself\u001b[0m\u001b[1;33m.\u001b[0m\u001b[0miter_ticks\u001b[0m\u001b[1;33m(\u001b[0m\u001b[1;33m)\u001b[0m\u001b[1;33m)\u001b[0m  \u001b[1;31m# iter_ticks calls the locator\u001b[0m\u001b[1;33m\u001b[0m\u001b[1;33m\u001b[0m\u001b[0m\n\u001b[0m\u001b[0;32m   1024\u001b[0m         \u001b[1;32mif\u001b[0m \u001b[0mself\u001b[0m\u001b[1;33m.\u001b[0m\u001b[0m_smart_bounds\u001b[0m \u001b[1;32mand\u001b[0m \u001b[0mtick_tups\u001b[0m\u001b[1;33m:\u001b[0m\u001b[1;33m\u001b[0m\u001b[1;33m\u001b[0m\u001b[0m\n\u001b[0;32m   1025\u001b[0m             \u001b[1;31m# handle inverted limits\u001b[0m\u001b[1;33m\u001b[0m\u001b[1;33m\u001b[0m\u001b[1;33m\u001b[0m\u001b[0m\n",
      "\u001b[1;32mE:\\Users\\igor_\\Anaconda3\\lib\\site-packages\\matplotlib\\axis.py\u001b[0m in \u001b[0;36miter_ticks\u001b[1;34m(self)\u001b[0m\n\u001b[0;32m    969\u001b[0m         \u001b[0mself\u001b[0m\u001b[1;33m.\u001b[0m\u001b[0mmajor\u001b[0m\u001b[1;33m.\u001b[0m\u001b[0mformatter\u001b[0m\u001b[1;33m.\u001b[0m\u001b[0mset_locs\u001b[0m\u001b[1;33m(\u001b[0m\u001b[0mmajorLocs\u001b[0m\u001b[1;33m)\u001b[0m\u001b[1;33m\u001b[0m\u001b[1;33m\u001b[0m\u001b[0m\n\u001b[0;32m    970\u001b[0m         majorLabels = [self.major.formatter(val, i)\n\u001b[1;32m--> 971\u001b[1;33m                        for i, val in enumerate(majorLocs)]\n\u001b[0m\u001b[0;32m    972\u001b[0m \u001b[1;33m\u001b[0m\u001b[0m\n\u001b[0;32m    973\u001b[0m         \u001b[0mminorLocs\u001b[0m \u001b[1;33m=\u001b[0m \u001b[0mself\u001b[0m\u001b[1;33m.\u001b[0m\u001b[0mminor\u001b[0m\u001b[1;33m.\u001b[0m\u001b[0mlocator\u001b[0m\u001b[1;33m(\u001b[0m\u001b[1;33m)\u001b[0m\u001b[1;33m\u001b[0m\u001b[1;33m\u001b[0m\u001b[0m\n",
      "\u001b[1;32mE:\\Users\\igor_\\Anaconda3\\lib\\site-packages\\matplotlib\\axis.py\u001b[0m in \u001b[0;36m<listcomp>\u001b[1;34m(.0)\u001b[0m\n\u001b[0;32m    969\u001b[0m         \u001b[0mself\u001b[0m\u001b[1;33m.\u001b[0m\u001b[0mmajor\u001b[0m\u001b[1;33m.\u001b[0m\u001b[0mformatter\u001b[0m\u001b[1;33m.\u001b[0m\u001b[0mset_locs\u001b[0m\u001b[1;33m(\u001b[0m\u001b[0mmajorLocs\u001b[0m\u001b[1;33m)\u001b[0m\u001b[1;33m\u001b[0m\u001b[1;33m\u001b[0m\u001b[0m\n\u001b[0;32m    970\u001b[0m         majorLabels = [self.major.formatter(val, i)\n\u001b[1;32m--> 971\u001b[1;33m                        for i, val in enumerate(majorLocs)]\n\u001b[0m\u001b[0;32m    972\u001b[0m \u001b[1;33m\u001b[0m\u001b[0m\n\u001b[0;32m    973\u001b[0m         \u001b[0mminorLocs\u001b[0m \u001b[1;33m=\u001b[0m \u001b[0mself\u001b[0m\u001b[1;33m.\u001b[0m\u001b[0mminor\u001b[0m\u001b[1;33m.\u001b[0m\u001b[0mlocator\u001b[0m\u001b[1;33m(\u001b[0m\u001b[1;33m)\u001b[0m\u001b[1;33m\u001b[0m\u001b[1;33m\u001b[0m\u001b[0m\n",
      "\u001b[1;32mE:\\Users\\igor_\\Anaconda3\\lib\\site-packages\\matplotlib\\ticker.py\u001b[0m in \u001b[0;36m__call__\u001b[1;34m(self, x, pos)\u001b[0m\n\u001b[0;32m    386\u001b[0m         \u001b[0;31m`\u001b[0m\u001b[0mx\u001b[0m\u001b[0;31m`\u001b[0m \u001b[1;32mand\u001b[0m\u001b[0;31m \u001b[0m\u001b[0;31m`\u001b[0m\u001b[0mpos\u001b[0m\u001b[0;31m`\u001b[0m \u001b[0mare\u001b[0m \u001b[0mpassed\u001b[0m \u001b[0mthrough\u001b[0m \u001b[1;32mas\u001b[0m\u001b[1;33m-\u001b[0m\u001b[1;32mis\u001b[0m\u001b[1;33m.\u001b[0m\u001b[1;33m\u001b[0m\u001b[1;33m\u001b[0m\u001b[0m\n\u001b[0;32m    387\u001b[0m         \"\"\"\n\u001b[1;32m--> 388\u001b[1;33m         \u001b[1;32mreturn\u001b[0m \u001b[0mself\u001b[0m\u001b[1;33m.\u001b[0m\u001b[0mfunc\u001b[0m\u001b[1;33m(\u001b[0m\u001b[0mx\u001b[0m\u001b[1;33m,\u001b[0m \u001b[0mpos\u001b[0m\u001b[1;33m)\u001b[0m\u001b[1;33m\u001b[0m\u001b[1;33m\u001b[0m\u001b[0m\n\u001b[0m\u001b[0;32m    389\u001b[0m \u001b[1;33m\u001b[0m\u001b[0m\n\u001b[0;32m    390\u001b[0m \u001b[1;33m\u001b[0m\u001b[0m\n",
      "\u001b[1;32m<ipython-input-67-7aad3dfb8be1>\u001b[0m in \u001b[0;36mmillions\u001b[1;34m(x, pos)\u001b[0m\n\u001b[0;32m      8\u001b[0m \u001b[1;32mdef\u001b[0m \u001b[0mmillions\u001b[0m\u001b[1;33m(\u001b[0m\u001b[0mx\u001b[0m\u001b[1;33m,\u001b[0m \u001b[0mpos\u001b[0m\u001b[1;33m)\u001b[0m\u001b[1;33m:\u001b[0m\u001b[1;33m\u001b[0m\u001b[1;33m\u001b[0m\u001b[0m\n\u001b[0;32m      9\u001b[0m     \u001b[1;34m'The two args are the value and tick position'\u001b[0m\u001b[1;33m\u001b[0m\u001b[1;33m\u001b[0m\u001b[0m\n\u001b[1;32m---> 10\u001b[1;33m     \u001b[1;32mreturn\u001b[0m \u001b[1;34m'%1.1'\u001b[0m \u001b[1;33m%\u001b[0m \u001b[1;33m(\u001b[0m\u001b[0mx\u001b[0m \u001b[1;33m*\u001b[0m \u001b[1;36m1e-6\u001b[0m\u001b[1;33m)\u001b[0m\u001b[1;33m\u001b[0m\u001b[1;33m\u001b[0m\u001b[0m\n\u001b[0m\u001b[0;32m     11\u001b[0m \u001b[1;33m\u001b[0m\u001b[0m\n\u001b[0;32m     12\u001b[0m \u001b[1;33m\u001b[0m\u001b[0m\n",
      "\u001b[1;31mValueError\u001b[0m: incomplete format"
     ]
    },
    {
     "data": {
      "text/plain": [
       "<Figure size 864x360 with 1 Axes>"
      ]
     },
     "metadata": {
      "needs_background": "light"
     },
     "output_type": "display_data"
    }
   ],
   "source": [
    "from matplotlib.ticker import FuncFormatter\n",
    "import matplotlib.pyplot as plt\n",
    "import numpy as np\n",
    "x = np.arange(7)\n",
    "money = [0.9272, 0.9030, 0.9090,0.8727, 0.8666, 0.8666,0.8484]\n",
    "\n",
    "\n",
    "def millions(x, pos):\n",
    "    'The two args are the value and tick position'\n",
    "    return '%1.1' % (x * 1e-6)\n",
    "\n",
    "\n",
    "formatter = FuncFormatter(millions)\n",
    "\n",
    "fig, ax = plt.subplots()\n",
    "ax.yaxis.set_major_formatter(formatter)\n",
    "plt.bar(x, money)\n",
    "plt.xticks(x, ('Random Forest', 'KNN', 'Gradient Boosting', 'SGD', 'Logistic Regression','Decision Tree','LinearSVC'))\n",
    "plt.show()"
   ]
  },
  {
   "cell_type": "code",
   "execution_count": null,
   "metadata": {},
   "outputs": [],
   "source": []
  }
 ],
 "metadata": {
  "kernelspec": {
   "display_name": "Python 3",
   "language": "python",
   "name": "python3"
  },
  "language_info": {
   "codemirror_mode": {
    "name": "ipython",
    "version": 3
   },
   "file_extension": ".py",
   "mimetype": "text/x-python",
   "name": "python",
   "nbconvert_exporter": "python",
   "pygments_lexer": "ipython3",
   "version": "3.7.3"
  }
 },
 "nbformat": 4,
 "nbformat_minor": 2
}
