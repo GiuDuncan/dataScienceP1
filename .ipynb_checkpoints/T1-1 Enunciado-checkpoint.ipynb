{
 "cells": [
  {
   "cell_type": "markdown",
   "metadata": {},
   "source": [
    "## Instruções Gerais\n",
    "* Identifiquem no início do arquivo os integrantes do grupo (nome e matrícula)\n",
    "* Por limitações do moodle, o nome do arquivo submetido não pode ter caracteres acentuados ou com cedilha\n",
    "* Apenas um dos integrantes do grupo deve fazer a submissão no moodle\n",
    "* Certifiquem-se de que o arquivo pode ser executado diretamente e sem dependências externas (Kernel > Restart & Run All)"
   ]
  },
  {
   "cell_type": "markdown",
   "metadata": {},
   "source": [
    "## Enunciado do Trabalho"
   ]
  },
  {
   "cell_type": "markdown",
   "metadata": {},
   "source": [
    "### 1. Escolham como tema um dos objetivos da ONU, dentre os seguintes conjuntos:\n",
    "* objetivos de desenvolvimento para o milênio: https://www.un.org/millenniumgoals/\n",
    "* objetivos de desenvolvimento sustentável em: https://www.un.org/sustainabledevelopment/"
   ]
  },
  {
   "cell_type": "markdown",
   "metadata": {},
   "source": [
    "### 2. Enumerem 10 perguntas que vocês gostariam de responder sobre o tema selecionado\n",
    "Pensem em perguntas de diferentes tipos (quais, quantos, quem, quando, onde, ...)."
   ]
  },
  {
   "cell_type": "markdown",
   "metadata": {},
   "source": [
    "### 3. Identifiquem uma ou mais bases de dados públicos que possam ajudá-los a responder as perguntas enunciadas\n",
    "Coloquei algumas bases de dados públicos em: https://docs.google.com/document/d/1u7NUKJlDikgFuyPoQckqsMX2zVtnuVo9QcLMIdYwQvU/edit?usp=sharing\n",
    "\n",
    "Acrescentem no arquivo outras que vocês encontrarem e julgarem relevantes."
   ]
  },
  {
   "cell_type": "markdown",
   "metadata": {},
   "source": [
    "### 4. Realizem uma análise descritiva (numérica e visual) dos dados"
   ]
  },
  {
   "cell_type": "markdown",
   "metadata": {},
   "source": [
    "### 5. Respondam as perguntas enunciadas"
   ]
  }
 ],
 "metadata": {
  "kernelspec": {
   "display_name": "Python 3",
   "language": "python",
   "name": "python3"
  },
  "language_info": {
   "codemirror_mode": {
    "name": "ipython",
    "version": 3
   },
   "file_extension": ".py",
   "mimetype": "text/x-python",
   "name": "python",
   "nbconvert_exporter": "python",
   "pygments_lexer": "ipython3",
   "version": "3.6.0"
  }
 },
 "nbformat": 4,
 "nbformat_minor": 2
}
