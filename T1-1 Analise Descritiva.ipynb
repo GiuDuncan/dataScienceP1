{
 "cells": [
  {
   "cell_type": "markdown",
   "metadata": {},
   "source": [
    "# T1.1"
   ]
  },
  {
   "cell_type": "markdown",
   "metadata": {},
   "source": [
    "## Integrantes:\n",
    "\n",
    "* Giulia Duncan Coutinho - 1410398\n",
    "* Matheus Falcão - 1410962\n",
    "* Igor Vieira - 1410492"
   ]
  },
  {
   "cell_type": "markdown",
   "metadata": {},
   "source": [
    "# 1 - Tema: Saúde - Expectativa de vida"
   ]
  },
  {
   "cell_type": "markdown",
   "metadata": {},
   "source": [
    "# 2 - Perguntas:\n",
    "1. ? \n",
    "2. \n",
    "3. ?\n",
    "4. ?\n",
    "5. ?\n",
    "6. ?\n",
    "7. ?\n",
    "8. ?\n",
    "9. ?\n",
    "10. ?"
   ]
  },
  {
   "cell_type": "markdown",
   "metadata": {},
   "source": [
    "# 3 - Base(s):"
   ]
  },
  {
   "cell_type": "markdown",
   "metadata": {},
   "source": [
    "Base 1: https://www.kaggle.com/amarpandey/world-life-expectancy-18002016#indicator-life_expectancy_at_birth.csv\n",
    "\n"
   ]
  },
  {
   "cell_type": "markdown",
   "metadata": {},
   "source": [
    "Base 2: https://www.kaggle.com/census/international-data/downloads/international-data.zip/1\n",
    "\n",
    "age_specific_fertility_rates\t\t\n",
    "1. country_code\tSTRING\tFederal Information Processing Standard (FIPS) country/area code\n",
    "2. country_name\tSTRING\tCountry or area name\n",
    "3. year\tINTEGER\tYear\n",
    "4. fertility_rate_15_19\tFLOAT\tAge specific fertility rate for age 15-19 (births per 1,000 population)\n",
    "5. fertility_rate_20_24\tFLOAT\tAge specific fertility rate for age 20-24 (births per 1,000 population)\n",
    "6. fertility_rate_25_29\tFLOAT\tAge specific fertility rate for age 25-29 (births per 1,000 population)\n",
    "7. fertility_rate_30_34\tFLOAT\tAge specific fertility rate for age 30-34 (births per 1,000 population)\n",
    "8. fertility_rate_35_39\tFLOAT\tAge specific fertility rate for age 35-39 (births per 1,000 population)\n",
    "9. fertility_rate_40_44\tFLOAT\tAge specific fertility rate for age 40-44 (births per 1,000 population)\n",
    "10. fertility_rate_45_49\tFLOAT\tAge specific fertility rate for age 45-49 (births per 1,000 population)\n",
    "11. total_fertility_rate\tFLOAT\tTotal fertility rate (lifetime births per woman)\n",
    "12. gross_reproduction_rate\tFLOAT\tGross reproduction rate (lifetime female births per woman)\n",
    "13. sex_ratio_at_birth\tFLOAT\tSex ratio at birth (male births per female birth)\n",
    "\t\t\n",
    "birth_death_growth_rates\t\t\n",
    "1. country_code\tSTRING\tFederal Information Processing Standard (FIPS) country/area code\n",
    "2. country_name\tSTRING\tCountry or area name\n",
    "3. year\tINTEGER\tYear\n",
    "4. crude_birth_rate\tFLOAT\tCrude birth rate (births per 1,000 population)\n",
    "5. crude_death_rate\tFLOAT\tCrude death rate (deaths per 1,000 population)\n",
    "6. net_migration\tFLOAT\tNet migration rate (net number of migrants per 1,000 population)\n",
    "7. rate_natural_increase\tFLOAT\tRate of natural increase (percent)\n",
    "8. growth_rate\tFLOAT\tGrowth rate (percent)\n",
    "\t\t\n",
    "country_names_area\t\t\n",
    "1. country_code\tSTRING\tFederal Information Processing Standard (FIPS) country/area code\n",
    "2. country_name\tSTRING\tCountry or area name\n",
    "3. country_area\tFLOAT\tArea in square kilometers\n",
    "\t\t\n",
    "midyear_population\t\t\n",
    "1. country_code\tSTRING\tFederal Information Processing Standard (FIPS) country/area code\n",
    "2. country_name\tSTRING\tCountry or area name\n",
    "3. year\tINTEGER\tYear\n",
    "4. midyear_population\tINTEGER\tBoth sexes midyear population\n",
    "\t\t\n",
    "midyear_population_5yr_age_sex\t\t\n",
    "1. country_code\tSTRING\tFederal Information Processing Standard (FIPS) country/area code\n",
    "2. country_name\tSTRING\tCountry or area name\n",
    "3. year\tINTEGER\tYear\n",
    "4. total_flag\tSTRING\tTotal flag: \"*\"=Total, all ages; \"A\"=Individual age group\n",
    "5. starting_age\tINTEGER\tStarting age (0 to 100)\n",
    "6. age_group_indicator\tSTRING\tAge group indicator: \"-\"=5-year age group; \"+\"=open-ended age group\n",
    "7. ending_age\tINTEGER\tEnding age (4 to 99; set to 0 if G=\"+\")\n",
    "8. midyear_population\tINTEGER\tBoth sexes midyear population in the age group\n",
    "9. midyear_population_male\tINTEGER\tMale midyear population in the age group\n",
    "10. midyear_population_female\tINTEGER\tFemale midyear population in the age group\n",
    "\t\t\n",
    "midyear_population_age_sex\t\t\n",
    "1. country_code\tSTRING\tFederal Information Processing Standard (FIPS) country/area code\n",
    "2. country_name\tSTRING\tCountry or area name\n",
    "3. year\tINTEGER\tYear\n",
    "4. sex\tSTRING\tGender\n",
    "5. max_age\tINTEGER\tThe last age in the distribution with a value greater than zero\n",
    "6. population_age_0\tINTEGER\tPopulation at Age 0\n",
    "7. population_age_1\tINTEGER\tPopulation at Age 1\n",
    "8. ...\n",
    "9. population_age_99\tINTEGER\tPopulation at Age 99\n",
    "10. population_age_100\tINTEGER\tPopulation at Age 100\n",
    "\t\t\n",
    "midyear_population_agespecific\t\t\n",
    "1. country_code\tSTRING\tFederal Information Processing Standard (FIPS) country/area code\n",
    "2. country_name\tSTRING\tCountry or area name\n",
    "3. year\tINTEGER\tYear\n",
    "4. sex\tSTRING\tGender\n",
    "5. population\tINTEGER\tTotal count of individuals\n",
    "6. age\tINTEGER\tAge in years\n",
    "\t\t\n",
    "mortality_life_expectancy\t\t\n",
    "1. country_code\tSTRING\tFederal Information Processing Standard (FIPS) country/area code\n",
    "2. country_name\tSTRING\tCountry or area name\n",
    "3. year\tINTEGER\tYear\n",
    "4. infant_mortality\tFLOAT\tBoth sexes infant mortality rate (infant deaths per 1,000 population)\n",
    "5. infant_mortality_male\tFLOAT\tMale infant mortality rate (infant deaths per 1,000 population)\n",
    "6. infant_mortality_female\tFLOAT\tFemale infant mortality rate (infant deaths per 1,000 population)\n",
    "7. life_expectancy\tFLOAT\tBoth sexes life expectancy at birth (years)\n",
    "8. life_expectancy_male\tFLOAT\tMale life expectancy at birth (years)\n",
    "9. life_expectancy_female\tFLOAT\tFemale life expectancy at birth (years)\n",
    "10. mortality_rate_under5\tFLOAT\tBoth sexes under-5 mortality rate (probability of dying between ages 0 and 5)\n",
    "11. mortality_rate_under5_male\tFLOAT\tMale sexes under-5 mortality rate (probability of dying between ages 0 and 5)\n",
    "12. mortality_rate_under5_female\tFLOAT\tFemale sexes under-5 mortality rate (probability of dying between ages 0 and 5)\n",
    "13. mortality_rate_1to4\tFLOAT\tBoth sexes child mortality rate (probability of dying between ages 1 and 4)\n",
    "14. mortality_rate_1to4_male\tFLOAT\tMale sexes child mortality rate (probability of dying between ages 1 and 4)\n",
    "15. mortality_rate_1to4_female\tFLOAT\tFemale sexes child mortality rate (probability of dying between ages 1 and 4)"
   ]
  },
  {
   "cell_type": "markdown",
   "metadata": {},
   "source": [
    "# SETUP"
   ]
  },
  {
   "cell_type": "code",
   "execution_count": 2,
   "metadata": {
    "collapsed": true
   },
   "outputs": [],
   "source": [
    "from IPython.display import display, Markdown, Latex\n",
    "import matplotlib\n",
    "import matplotlib.pyplot as plt\n",
    "import pandas as pd"
   ]
  },
  {
   "cell_type": "code",
   "execution_count": 3,
   "metadata": {
    "collapsed": true
   },
   "outputs": [],
   "source": [
    "# função de configuração de visualizações bar plot horizontais\n",
    "def my_barh_plot(data, title, figsize=(10,5)):\n",
    "\n",
    "    matplotlib.rcParams.update({'font.size': 14})\n",
    "\n",
    "    fig, ax = plt.subplots(figsize=figsize)\n",
    "    y_pos = [i for i in range(0,len(data))]\n",
    "    x_values = list(data)\n",
    "    ax.barh(y_pos, x_values, height=0.7)\n",
    "    ax.set_title(title)\n",
    "    ax.set_yticks(y_pos)\n",
    "    ax.set_yticklabels(list(data.index))\n",
    "    plt.xlim((0,max(x_values)*1.2))\n",
    "    rects = ax.patches\n",
    "\n",
    "    # For each bar: Place a label\n",
    "    for rect in rects:\n",
    "        # Get X and Y placement of label from rect.\n",
    "        x_value = rect.get_width()\n",
    "        y_value = rect.get_y() + rect.get_height() / 2\n",
    "\n",
    "        # Use Y value as label and format number with one decimal place\n",
    "        label = \"{:}\".format(x_value)\n",
    "\n",
    "        # Create annotation\n",
    "        plt.annotate(\n",
    "            label,                      # Use `label` as label\n",
    "            (x_value, y_value),         # Place label at end of the bar\n",
    "            xytext=(5, 5),              #  Shift label (horizontally,vertically)\n",
    "            textcoords=\"offset points\", # Interpret `xytext` as offset in points\n",
    "            ha='left',                  # Horizontal label alignment\n",
    "            va='top')                   # Vertical label alignment\n",
    "\n",
    "    plt.show()"
   ]
  },
  {
   "cell_type": "markdown",
   "metadata": {},
   "source": [
    "# 1) Quais os 5 primeiros paises que tem o maior crescimento de mortalidade projetada (em 2050)?\n"
   ]
  },
  {
   "cell_type": "code",
   "execution_count": 4,
   "metadata": {
    "collapsed": true
   },
   "outputs": [],
   "source": [
    "df = pd.read_csv('datasets/birth_death_growth_rates.csv')"
   ]
  },
  {
   "cell_type": "code",
   "execution_count": 5,
   "metadata": {
    "collapsed": false,
    "scrolled": true
   },
   "outputs": [
    {
     "data": {
      "text/html": [
       "<div>\n",
       "<table border=\"1\" class=\"dataframe\">\n",
       "  <thead>\n",
       "    <tr style=\"text-align: right;\">\n",
       "      <th></th>\n",
       "      <th>country_code</th>\n",
       "      <th>country_name</th>\n",
       "      <th>year</th>\n",
       "      <th>crude_birth_rate</th>\n",
       "      <th>crude_death_rate</th>\n",
       "      <th>net_migration</th>\n",
       "      <th>rate_natural_increase</th>\n",
       "      <th>growth_rate</th>\n",
       "    </tr>\n",
       "  </thead>\n",
       "  <tbody>\n",
       "    <tr>\n",
       "      <th>0</th>\n",
       "      <td>SI</td>\n",
       "      <td>Slovenia</td>\n",
       "      <td>2036</td>\n",
       "      <td>7.59</td>\n",
       "      <td>14.65</td>\n",
       "      <td>0.23</td>\n",
       "      <td>-0.706</td>\n",
       "      <td>-0.682</td>\n",
       "    </tr>\n",
       "    <tr>\n",
       "      <th>1</th>\n",
       "      <td>SI</td>\n",
       "      <td>Slovenia</td>\n",
       "      <td>2022</td>\n",
       "      <td>7.52</td>\n",
       "      <td>12.28</td>\n",
       "      <td>0.32</td>\n",
       "      <td>-0.476</td>\n",
       "      <td>-0.444</td>\n",
       "    </tr>\n",
       "    <tr>\n",
       "      <th>2</th>\n",
       "      <td>SI</td>\n",
       "      <td>Slovenia</td>\n",
       "      <td>2023</td>\n",
       "      <td>7.43</td>\n",
       "      <td>12.41</td>\n",
       "      <td>0.31</td>\n",
       "      <td>-0.498</td>\n",
       "      <td>-0.467</td>\n",
       "    </tr>\n",
       "    <tr>\n",
       "      <th>3</th>\n",
       "      <td>SI</td>\n",
       "      <td>Slovenia</td>\n",
       "      <td>2024</td>\n",
       "      <td>7.35</td>\n",
       "      <td>12.55</td>\n",
       "      <td>0.31</td>\n",
       "      <td>-0.520</td>\n",
       "      <td>-0.489</td>\n",
       "    </tr>\n",
       "    <tr>\n",
       "      <th>4</th>\n",
       "      <td>SI</td>\n",
       "      <td>Slovenia</td>\n",
       "      <td>2025</td>\n",
       "      <td>7.30</td>\n",
       "      <td>12.68</td>\n",
       "      <td>0.30</td>\n",
       "      <td>-0.538</td>\n",
       "      <td>-0.508</td>\n",
       "    </tr>\n",
       "    <tr>\n",
       "      <th>5</th>\n",
       "      <td>SI</td>\n",
       "      <td>Slovenia</td>\n",
       "      <td>2026</td>\n",
       "      <td>7.26</td>\n",
       "      <td>12.84</td>\n",
       "      <td>0.30</td>\n",
       "      <td>-0.558</td>\n",
       "      <td>-0.529</td>\n",
       "    </tr>\n",
       "    <tr>\n",
       "      <th>6</th>\n",
       "      <td>SI</td>\n",
       "      <td>Slovenia</td>\n",
       "      <td>2027</td>\n",
       "      <td>7.24</td>\n",
       "      <td>13.00</td>\n",
       "      <td>0.29</td>\n",
       "      <td>-0.576</td>\n",
       "      <td>-0.547</td>\n",
       "    </tr>\n",
       "    <tr>\n",
       "      <th>7</th>\n",
       "      <td>SI</td>\n",
       "      <td>Slovenia</td>\n",
       "      <td>2028</td>\n",
       "      <td>7.23</td>\n",
       "      <td>13.16</td>\n",
       "      <td>0.28</td>\n",
       "      <td>-0.593</td>\n",
       "      <td>-0.565</td>\n",
       "    </tr>\n",
       "    <tr>\n",
       "      <th>8</th>\n",
       "      <td>SI</td>\n",
       "      <td>Slovenia</td>\n",
       "      <td>2029</td>\n",
       "      <td>7.25</td>\n",
       "      <td>13.33</td>\n",
       "      <td>0.28</td>\n",
       "      <td>-0.608</td>\n",
       "      <td>-0.581</td>\n",
       "    </tr>\n",
       "    <tr>\n",
       "      <th>9</th>\n",
       "      <td>SI</td>\n",
       "      <td>Slovenia</td>\n",
       "      <td>2030</td>\n",
       "      <td>7.27</td>\n",
       "      <td>13.50</td>\n",
       "      <td>0.27</td>\n",
       "      <td>-0.623</td>\n",
       "      <td>-0.596</td>\n",
       "    </tr>\n",
       "  </tbody>\n",
       "</table>\n",
       "</div>"
      ],
      "text/plain": [
       "  country_code country_name  year  crude_birth_rate  crude_death_rate  \\\n",
       "0           SI     Slovenia  2036              7.59             14.65   \n",
       "1           SI     Slovenia  2022              7.52             12.28   \n",
       "2           SI     Slovenia  2023              7.43             12.41   \n",
       "3           SI     Slovenia  2024              7.35             12.55   \n",
       "4           SI     Slovenia  2025              7.30             12.68   \n",
       "5           SI     Slovenia  2026              7.26             12.84   \n",
       "6           SI     Slovenia  2027              7.24             13.00   \n",
       "7           SI     Slovenia  2028              7.23             13.16   \n",
       "8           SI     Slovenia  2029              7.25             13.33   \n",
       "9           SI     Slovenia  2030              7.27             13.50   \n",
       "\n",
       "   net_migration  rate_natural_increase  growth_rate  \n",
       "0           0.23                 -0.706       -0.682  \n",
       "1           0.32                 -0.476       -0.444  \n",
       "2           0.31                 -0.498       -0.467  \n",
       "3           0.31                 -0.520       -0.489  \n",
       "4           0.30                 -0.538       -0.508  \n",
       "5           0.30                 -0.558       -0.529  \n",
       "6           0.29                 -0.576       -0.547  \n",
       "7           0.28                 -0.593       -0.565  \n",
       "8           0.28                 -0.608       -0.581  \n",
       "9           0.27                 -0.623       -0.596  "
      ]
     },
     "execution_count": 5,
     "metadata": {},
     "output_type": "execute_result"
    }
   ],
   "source": [
    "df.head(10)"
   ]
  },
  {
   "cell_type": "code",
   "execution_count": null,
   "metadata": {
    "collapsed": false
   },
   "outputs": [],
   "source": []
  },
  {
   "cell_type": "code",
   "execution_count": 6,
   "metadata": {
    "collapsed": false
   },
   "outputs": [
    {
     "data": {
      "text/html": [
       "<div>\n",
       "<table border=\"1\" class=\"dataframe\">\n",
       "  <thead>\n",
       "    <tr style=\"text-align: right;\">\n",
       "      <th></th>\n",
       "      <th>country_name</th>\n",
       "      <th>crude_death_rate</th>\n",
       "    </tr>\n",
       "  </thead>\n",
       "  <tbody>\n",
       "    <tr>\n",
       "      <th>1289</th>\n",
       "      <td>Monaco</td>\n",
       "      <td>27.57</td>\n",
       "    </tr>\n",
       "    <tr>\n",
       "      <th>14846</th>\n",
       "      <td>Saint Pierre and Miquelon</td>\n",
       "      <td>21.05</td>\n",
       "    </tr>\n",
       "    <tr>\n",
       "      <th>9640</th>\n",
       "      <td>Virgin Islands U.S.</td>\n",
       "      <td>20.98</td>\n",
       "    </tr>\n",
       "    <tr>\n",
       "      <th>6385</th>\n",
       "      <td>Lithuania</td>\n",
       "      <td>19.14</td>\n",
       "    </tr>\n",
       "    <tr>\n",
       "      <th>90</th>\n",
       "      <td>Latvia</td>\n",
       "      <td>18.74</td>\n",
       "    </tr>\n",
       "  </tbody>\n",
       "</table>\n",
       "</div>"
      ],
      "text/plain": [
       "                    country_name  crude_death_rate\n",
       "1289                      Monaco             27.57\n",
       "14846  Saint Pierre and Miquelon             21.05\n",
       "9640         Virgin Islands U.S.             20.98\n",
       "6385                   Lithuania             19.14\n",
       "90                        Latvia             18.74"
      ]
     },
     "execution_count": 6,
     "metadata": {},
     "output_type": "execute_result"
    }
   ],
   "source": [
    "max_year = df['year'].max()\n",
    "is_max_year = df['year']==max_year\n",
    "df_max_year = df[is_max_year]\n",
    "df_new = df_max_year.iloc[:, [1, 4]]\n",
    "df_new = df_new.sort_values('crude_death_rate', ascending=False)\n",
    "df_new = df_new.head(5)\n",
    "df_new"
   ]
  },
  {
   "cell_type": "code",
   "execution_count": 7,
   "metadata": {
    "collapsed": false
   },
   "outputs": [
    {
     "data": {
      "image/png": "[encoded data removed]",
      "text/plain": [
       "<matplotlib.figure.Figure at 0x26e8dfb5a58>"
      ]
     },
     "metadata": {},
     "output_type": "display_data"
    }
   ],
   "source": [
    "df_new.plot(kind='barh', color='#446699')\n",
    "# TODO BOTAR O NOME AO INVES DO INDICe\n",
    "plt.show()"
   ]
  },
  {
   "cell_type": "code",
   "execution_count": null,
   "metadata": {
    "collapsed": false
   },
   "outputs": [],
   "source": []
  },
  {
   "cell_type": "markdown",
   "metadata": {
    "collapsed": true
   },
   "source": [
    "# 2) Qual o ano teve as maiores expectativas de vida"
   ]
  },
  {
   "cell_type": "code",
   "execution_count": 8,
   "metadata": {
    "collapsed": false
   },
   "outputs": [],
   "source": [
    "csvExpectancy = \"indicator-life_expectancy_at_birth.csv\"\n",
    "baseExpectancy = pd.read_csv(csvExpectancy)\n",
    "dfExpectancy = pd.DataFrame(baseExpectancy)"
   ]
  },
  {
   "cell_type": "code",
   "execution_count": 9,
   "metadata": {
    "collapsed": false
   },
   "outputs": [
    {
     "data": {
      "text/plain": [
       "{'Andorra': 16,\n",
       " 'Australia': 12,\n",
       " 'Belgium': 1,\n",
       " 'Denmark': 13,\n",
       " 'Finland': 1,\n",
       " 'Iceland': 31,\n",
       " 'Japan': 4,\n",
       " 'Netherlands': 9,\n",
       " 'Norway': 90,\n",
       " 'Sweden': 27,\n",
       " 'United Kingdom': 2}"
      ]
     },
     "execution_count": 9,
     "metadata": {},
     "output_type": "execute_result"
    }
   ],
   "source": [
    "dictExpectancy = {}\n",
    "for year in range(1800, 2006):\n",
    "    country = dfExpectancy.loc[dfExpectancy[str(year)].idxmax()][\"country\"]\n",
    "    if country in dictExpectancy:\n",
    "        dictExpectancy[country] = dictExpectancy[country] + 1\n",
    "    else:\n",
    "        dictExpectancy[country] = 1\n",
    "\n",
    "dictExpectancy"
   ]
  },
  {
   "cell_type": "code",
   "execution_count": 10,
   "metadata": {
    "collapsed": false
   },
   "outputs": [
    {
     "ename": "ValueError",
     "evalue": "Shape of passed values is (2, 11), indices imply (2, 1)",
     "output_type": "error",
     "traceback": [
      "\u001b[0;31m---------------------------------------------------------------------------\u001b[0m",
      "\u001b[0;31mValueError\u001b[0m                                Traceback (most recent call last)",
      "\u001b[0;32mC:\\Users\\Giulia_Duncan\\Anaconda3\\lib\\site-packages\\pandas\\core\\internals.py\u001b[0m in \u001b[0;36mcreate_block_manager_from_arrays\u001b[0;34m(arrays, names, axes)\u001b[0m\n\u001b[1;32m   4262\u001b[0m         \u001b[0mblocks\u001b[0m \u001b[1;33m=\u001b[0m \u001b[0mform_blocks\u001b[0m\u001b[1;33m(\u001b[0m\u001b[0marrays\u001b[0m\u001b[1;33m,\u001b[0m \u001b[0mnames\u001b[0m\u001b[1;33m,\u001b[0m \u001b[0maxes\u001b[0m\u001b[1;33m)\u001b[0m\u001b[1;33m\u001b[0m\u001b[0m\n\u001b[0;32m-> 4263\u001b[0;31m         \u001b[0mmgr\u001b[0m \u001b[1;33m=\u001b[0m \u001b[0mBlockManager\u001b[0m\u001b[1;33m(\u001b[0m\u001b[0mblocks\u001b[0m\u001b[1;33m,\u001b[0m \u001b[0maxes\u001b[0m\u001b[1;33m)\u001b[0m\u001b[1;33m\u001b[0m\u001b[0m\n\u001b[0m\u001b[1;32m   4264\u001b[0m         \u001b[0mmgr\u001b[0m\u001b[1;33m.\u001b[0m\u001b[0m_consolidate_inplace\u001b[0m\u001b[1;33m(\u001b[0m\u001b[1;33m)\u001b[0m\u001b[1;33m\u001b[0m\u001b[0m\n",
      "\u001b[0;32mC:\\Users\\Giulia_Duncan\\Anaconda3\\lib\\site-packages\\pandas\\core\\internals.py\u001b[0m in \u001b[0;36m__init__\u001b[0;34m(self, blocks, axes, do_integrity_check, fastpath)\u001b[0m\n\u001b[1;32m   2760\u001b[0m         \u001b[1;32mif\u001b[0m \u001b[0mdo_integrity_check\u001b[0m\u001b[1;33m:\u001b[0m\u001b[1;33m\u001b[0m\u001b[0m\n\u001b[0;32m-> 2761\u001b[0;31m             \u001b[0mself\u001b[0m\u001b[1;33m.\u001b[0m\u001b[0m_verify_integrity\u001b[0m\u001b[1;33m(\u001b[0m\u001b[1;33m)\u001b[0m\u001b[1;33m\u001b[0m\u001b[0m\n\u001b[0m\u001b[1;32m   2762\u001b[0m \u001b[1;33m\u001b[0m\u001b[0m\n",
      "\u001b[0;32mC:\\Users\\Giulia_Duncan\\Anaconda3\\lib\\site-packages\\pandas\\core\\internals.py\u001b[0m in \u001b[0;36m_verify_integrity\u001b[0;34m(self)\u001b[0m\n\u001b[1;32m   2970\u001b[0m             \u001b[1;32mif\u001b[0m \u001b[0mblock\u001b[0m\u001b[1;33m.\u001b[0m\u001b[0m_verify_integrity\u001b[0m \u001b[1;32mand\u001b[0m \u001b[0mblock\u001b[0m\u001b[1;33m.\u001b[0m\u001b[0mshape\u001b[0m\u001b[1;33m[\u001b[0m\u001b[1;36m1\u001b[0m\u001b[1;33m:\u001b[0m\u001b[1;33m]\u001b[0m \u001b[1;33m!=\u001b[0m \u001b[0mmgr_shape\u001b[0m\u001b[1;33m[\u001b[0m\u001b[1;36m1\u001b[0m\u001b[1;33m:\u001b[0m\u001b[1;33m]\u001b[0m\u001b[1;33m:\u001b[0m\u001b[1;33m\u001b[0m\u001b[0m\n\u001b[0;32m-> 2971\u001b[0;31m                 \u001b[0mconstruction_error\u001b[0m\u001b[1;33m(\u001b[0m\u001b[0mtot_items\u001b[0m\u001b[1;33m,\u001b[0m \u001b[0mblock\u001b[0m\u001b[1;33m.\u001b[0m\u001b[0mshape\u001b[0m\u001b[1;33m[\u001b[0m\u001b[1;36m1\u001b[0m\u001b[1;33m:\u001b[0m\u001b[1;33m]\u001b[0m\u001b[1;33m,\u001b[0m \u001b[0mself\u001b[0m\u001b[1;33m.\u001b[0m\u001b[0maxes\u001b[0m\u001b[1;33m)\u001b[0m\u001b[1;33m\u001b[0m\u001b[0m\n\u001b[0m\u001b[1;32m   2972\u001b[0m         \u001b[1;32mif\u001b[0m \u001b[0mlen\u001b[0m\u001b[1;33m(\u001b[0m\u001b[0mself\u001b[0m\u001b[1;33m.\u001b[0m\u001b[0mitems\u001b[0m\u001b[1;33m)\u001b[0m \u001b[1;33m!=\u001b[0m \u001b[0mtot_items\u001b[0m\u001b[1;33m:\u001b[0m\u001b[1;33m\u001b[0m\u001b[0m\n",
      "\u001b[0;32mC:\\Users\\Giulia_Duncan\\Anaconda3\\lib\\site-packages\\pandas\\core\\internals.py\u001b[0m in \u001b[0;36mconstruction_error\u001b[0;34m(tot_items, block_shape, axes, e)\u001b[0m\n\u001b[1;32m   4232\u001b[0m     raise ValueError(\"Shape of passed values is {0}, indices imply {1}\".format(\n\u001b[0;32m-> 4233\u001b[0;31m         passed, implied))\n\u001b[0m\u001b[1;32m   4234\u001b[0m \u001b[1;33m\u001b[0m\u001b[0m\n",
      "\u001b[0;31mValueError\u001b[0m: Shape of passed values is (2, 11), indices imply (2, 1)",
      "\nDuring handling of the above exception, another exception occurred:\n",
      "\u001b[0;31mValueError\u001b[0m                                Traceback (most recent call last)",
      "\u001b[0;32m<ipython-input-10-7e8add7aaa22>\u001b[0m in \u001b[0;36m<module>\u001b[0;34m()\u001b[0m\n\u001b[0;32m----> 1\u001b[0;31m \u001b[0mdfCountExpectancy\u001b[0m \u001b[1;33m=\u001b[0m \u001b[0mpd\u001b[0m\u001b[1;33m.\u001b[0m\u001b[0mDataFrame\u001b[0m\u001b[1;33m(\u001b[0m\u001b[0msorted\u001b[0m\u001b[1;33m(\u001b[0m\u001b[0mdictExpectancy\u001b[0m\u001b[1;33m.\u001b[0m\u001b[0mitems\u001b[0m\u001b[1;33m(\u001b[0m\u001b[1;33m)\u001b[0m\u001b[1;33m,\u001b[0m \u001b[0mkey\u001b[0m\u001b[1;33m=\u001b[0m\u001b[1;32mlambda\u001b[0m \u001b[0mx\u001b[0m\u001b[1;33m:\u001b[0m \u001b[0mx\u001b[0m\u001b[1;33m[\u001b[0m\u001b[1;36m1\u001b[0m\u001b[1;33m]\u001b[0m\u001b[1;33m)\u001b[0m\u001b[1;33m,\u001b[0m \u001b[0mindex\u001b[0m\u001b[1;33m=\u001b[0m\u001b[1;33m[\u001b[0m\u001b[1;36m0\u001b[0m\u001b[1;33m]\u001b[0m\u001b[1;33m)\u001b[0m\u001b[1;33m\u001b[0m\u001b[0m\n\u001b[0m",
      "\u001b[0;32mC:\\Users\\Giulia_Duncan\\Anaconda3\\lib\\site-packages\\pandas\\core\\frame.py\u001b[0m in \u001b[0;36m__init__\u001b[0;34m(self, data, index, columns, dtype, copy)\u001b[0m\n\u001b[1;32m    316\u001b[0m \u001b[1;33m\u001b[0m\u001b[0m\n\u001b[1;32m    317\u001b[0m                     mgr = _arrays_to_mgr(arrays, columns, index, columns,\n\u001b[0;32m--> 318\u001b[0;31m                                          dtype=dtype)\n\u001b[0m\u001b[1;32m    319\u001b[0m                 \u001b[1;32melse\u001b[0m\u001b[1;33m:\u001b[0m\u001b[1;33m\u001b[0m\u001b[0m\n\u001b[1;32m    320\u001b[0m                     mgr = self._init_ndarray(data, index, columns, dtype=dtype,\n",
      "\u001b[0;32mC:\\Users\\Giulia_Duncan\\Anaconda3\\lib\\site-packages\\pandas\\core\\frame.py\u001b[0m in \u001b[0;36m_arrays_to_mgr\u001b[0;34m(arrays, arr_names, index, columns, dtype)\u001b[0m\n\u001b[1;32m   5406\u001b[0m     \u001b[0maxes\u001b[0m \u001b[1;33m=\u001b[0m \u001b[1;33m[\u001b[0m\u001b[0m_ensure_index\u001b[0m\u001b[1;33m(\u001b[0m\u001b[0mcolumns\u001b[0m\u001b[1;33m)\u001b[0m\u001b[1;33m,\u001b[0m \u001b[0m_ensure_index\u001b[0m\u001b[1;33m(\u001b[0m\u001b[0mindex\u001b[0m\u001b[1;33m)\u001b[0m\u001b[1;33m]\u001b[0m\u001b[1;33m\u001b[0m\u001b[0m\n\u001b[1;32m   5407\u001b[0m \u001b[1;33m\u001b[0m\u001b[0m\n\u001b[0;32m-> 5408\u001b[0;31m     \u001b[1;32mreturn\u001b[0m \u001b[0mcreate_block_manager_from_arrays\u001b[0m\u001b[1;33m(\u001b[0m\u001b[0marrays\u001b[0m\u001b[1;33m,\u001b[0m \u001b[0marr_names\u001b[0m\u001b[1;33m,\u001b[0m \u001b[0maxes\u001b[0m\u001b[1;33m)\u001b[0m\u001b[1;33m\u001b[0m\u001b[0m\n\u001b[0m\u001b[1;32m   5409\u001b[0m \u001b[1;33m\u001b[0m\u001b[0m\n\u001b[1;32m   5410\u001b[0m \u001b[1;33m\u001b[0m\u001b[0m\n",
      "\u001b[0;32mC:\\Users\\Giulia_Duncan\\Anaconda3\\lib\\site-packages\\pandas\\core\\internals.py\u001b[0m in \u001b[0;36mcreate_block_manager_from_arrays\u001b[0;34m(arrays, names, axes)\u001b[0m\n\u001b[1;32m   4265\u001b[0m         \u001b[1;32mreturn\u001b[0m \u001b[0mmgr\u001b[0m\u001b[1;33m\u001b[0m\u001b[0m\n\u001b[1;32m   4266\u001b[0m     \u001b[1;32mexcept\u001b[0m \u001b[0mValueError\u001b[0m \u001b[1;32mas\u001b[0m \u001b[0me\u001b[0m\u001b[1;33m:\u001b[0m\u001b[1;33m\u001b[0m\u001b[0m\n\u001b[0;32m-> 4267\u001b[0;31m         \u001b[0mconstruction_error\u001b[0m\u001b[1;33m(\u001b[0m\u001b[0mlen\u001b[0m\u001b[1;33m(\u001b[0m\u001b[0marrays\u001b[0m\u001b[1;33m)\u001b[0m\u001b[1;33m,\u001b[0m \u001b[0marrays\u001b[0m\u001b[1;33m[\u001b[0m\u001b[1;36m0\u001b[0m\u001b[1;33m]\u001b[0m\u001b[1;33m.\u001b[0m\u001b[0mshape\u001b[0m\u001b[1;33m,\u001b[0m \u001b[0maxes\u001b[0m\u001b[1;33m,\u001b[0m \u001b[0me\u001b[0m\u001b[1;33m)\u001b[0m\u001b[1;33m\u001b[0m\u001b[0m\n\u001b[0m\u001b[1;32m   4268\u001b[0m \u001b[1;33m\u001b[0m\u001b[0m\n\u001b[1;32m   4269\u001b[0m \u001b[1;33m\u001b[0m\u001b[0m\n",
      "\u001b[0;32mC:\\Users\\Giulia_Duncan\\Anaconda3\\lib\\site-packages\\pandas\\core\\internals.py\u001b[0m in \u001b[0;36mconstruction_error\u001b[0;34m(tot_items, block_shape, axes, e)\u001b[0m\n\u001b[1;32m   4231\u001b[0m         \u001b[1;32mraise\u001b[0m \u001b[0mValueError\u001b[0m\u001b[1;33m(\u001b[0m\u001b[1;34m\"Empty data passed with indices specified.\"\u001b[0m\u001b[1;33m)\u001b[0m\u001b[1;33m\u001b[0m\u001b[0m\n\u001b[1;32m   4232\u001b[0m     raise ValueError(\"Shape of passed values is {0}, indices imply {1}\".format(\n\u001b[0;32m-> 4233\u001b[0;31m         passed, implied))\n\u001b[0m\u001b[1;32m   4234\u001b[0m \u001b[1;33m\u001b[0m\u001b[0m\n\u001b[1;32m   4235\u001b[0m \u001b[1;33m\u001b[0m\u001b[0m\n",
      "\u001b[0;31mValueError\u001b[0m: Shape of passed values is (2, 11), indices imply (2, 1)"
     ]
    }
   ],
   "source": [
    "dfCountExpectancy = pd.DataFrame(sorted(dictExpectancy.items(), key=lambda x: x[1]), index=[0])"
   ]
  },
  {
   "cell_type": "code",
   "execution_count": 11,
   "metadata": {
    "collapsed": false
   },
   "outputs": [
    {
     "ename": "NameError",
     "evalue": "name 'dfCountExpectancy' is not defined",
     "output_type": "error",
     "traceback": [
      "\u001b[0;31m---------------------------------------------------------------------------\u001b[0m",
      "\u001b[0;31mNameError\u001b[0m                                 Traceback (most recent call last)",
      "\u001b[0;32m<ipython-input-11-656a5b59130c>\u001b[0m in \u001b[0;36m<module>\u001b[0;34m()\u001b[0m\n\u001b[0;32m----> 1\u001b[0;31m \u001b[0max\u001b[0m \u001b[1;33m=\u001b[0m \u001b[0mdfCountExpectancy\u001b[0m\u001b[1;33m.\u001b[0m\u001b[0mplot\u001b[0m\u001b[1;33m(\u001b[0m\u001b[0mkind\u001b[0m\u001b[1;33m=\u001b[0m\u001b[1;34m'bar'\u001b[0m\u001b[1;33m,\u001b[0m \u001b[0mtitle\u001b[0m \u001b[1;33m=\u001b[0m\u001b[1;34m\"Quantidade de vezes que o país teve a maior expectativa de vida\"\u001b[0m\u001b[1;33m,\u001b[0m \u001b[0mfigsize\u001b[0m\u001b[1;33m=\u001b[0m\u001b[1;33m(\u001b[0m\u001b[1;36m15\u001b[0m\u001b[1;33m,\u001b[0m \u001b[1;36m8\u001b[0m\u001b[1;33m)\u001b[0m\u001b[1;33m)\u001b[0m\u001b[1;33m\u001b[0m\u001b[0m\n\u001b[0m\u001b[1;32m      2\u001b[0m \u001b[0max\u001b[0m\u001b[1;33m.\u001b[0m\u001b[0mset_ylabel\u001b[0m\u001b[1;33m(\u001b[0m\u001b[1;34m\"Quantidade de vezes com maior expectativa de vida\"\u001b[0m\u001b[1;33m,\u001b[0m \u001b[0mfontsize\u001b[0m\u001b[1;33m=\u001b[0m\u001b[1;36m12\u001b[0m\u001b[1;33m)\u001b[0m\u001b[1;33m\u001b[0m\u001b[0m\n\u001b[1;32m      3\u001b[0m \u001b[0max\u001b[0m\u001b[1;33m.\u001b[0m\u001b[0mset_xlabel\u001b[0m\u001b[1;33m(\u001b[0m\u001b[1;34m\"Países\"\u001b[0m\u001b[1;33m,\u001b[0m \u001b[0mfontsize\u001b[0m\u001b[1;33m=\u001b[0m\u001b[1;36m12\u001b[0m\u001b[1;33m)\u001b[0m\u001b[1;33m\u001b[0m\u001b[0m\n\u001b[1;32m      4\u001b[0m \u001b[0mplt\u001b[0m\u001b[1;33m.\u001b[0m\u001b[0mshow\u001b[0m\u001b[1;33m(\u001b[0m\u001b[1;33m)\u001b[0m\u001b[1;33m\u001b[0m\u001b[0m\n",
      "\u001b[0;31mNameError\u001b[0m: name 'dfCountExpectancy' is not defined"
     ]
    }
   ],
   "source": [
    "ax = dfCountExpectancy.plot(kind='bar', title =\"Quantidade de vezes que o país teve a maior expectativa de vida\", figsize=(15, 8))\n",
    "ax.set_ylabel(\"Quantidade de vezes com maior expectativa de vida\", fontsize=12)\n",
    "ax.set_xlabel(\"Países\", fontsize=12)\n",
    "plt.show()"
   ]
  },
  {
   "cell_type": "code",
   "execution_count": null,
   "metadata": {
    "collapsed": true
   },
   "outputs": [],
   "source": []
  },
  {
   "cell_type": "code",
   "execution_count": null,
   "metadata": {
    "collapsed": true
   },
   "outputs": [],
   "source": []
  }
 ],
 "metadata": {
  "kernelspec": {
   "display_name": "Python 3",
   "language": "python",
   "name": "python3"
  },
  "language_info": {
   "codemirror_mode": {
    "name": "ipython",
    "version": 3
   },
   "file_extension": ".py",
   "mimetype": "text/x-python",
   "name": "python",
   "nbconvert_exporter": "python",
   "pygments_lexer": "ipython3",
   "version": "3.6.0"
  }
 },
 "nbformat": 4,
 "nbformat_minor": 2
}
